{
 "cells": [
  {
   "cell_type": "markdown",
   "metadata": {},
   "source": [
    "# Проект \"Принятие решений в бизнесе\""
   ]
  },
  {
   "cell_type": "markdown",
   "metadata": {},
   "source": [
    "**Цели и задачи:** \n",
    "- Задача проверить список подготовленных гипотез для увеличения выручки.\n",
    "- Приоритизировать гипотезы, запустить A/B-тест и проанализировать результаты."
   ]
  },
  {
   "cell_type": "markdown",
   "metadata": {},
   "source": [
    "## [Часть 1. Приоритезация гипотез](#stage_1)\n",
    "В файле hypothesis.csv 9 гипотез по увеличению выручки интернет-магазина с указанными параметрами Reach, Impact, Confidence, Effort.\n",
    "\n",
    "### Задача\n",
    "- [Примените фреймворк ICE для приоритизации гипотез. Отсортируйте их по убыванию приоритета](#ice)\n",
    "\n",
    "---\n",
    "\n",
    "- [Примените фреймворк RICE для приоритизации гипотез. Отсортируйте их по убыванию приоритета](#rice)\n",
    "\n",
    "---\n",
    "\n",
    "- [Укажите, как изменилась приоритизация гипотез при применении RICE вместо ICE. Объясните, почему так произошло](#why)\n",
    "\n",
    "\n",
    "\n",
    "\n",
    "\n",
    "## [Часть 2. Анализ A/B-теста](#stage_2)\n",
    "Был проведёт A/B-тест и получены результаты, которые описаны в файлах orders.csv и visitors.csv.\n",
    "\n",
    "### Анализ A/B-теста:\n",
    "\n",
    "1. [Постройте график кумулятивной выручки по группам. Сделайте выводы и предположения](#stage_2_1)\n",
    "\n",
    "---\n",
    "\n",
    "2. [Постройте график кумулятивного среднего чека по группам. Сделайте выводы и предположения](#stage_2_2)\n",
    "\n",
    "---\n",
    "\n",
    "3. [Постройте график относительного изменения кумулятивного среднего чека группы B к группе A. Сделайте выводы и предположения](#stage_2_3)\n",
    "\n",
    "---\n",
    "\n",
    "4. [Постройте график кумулятивной конверсии по группам. Сделайте выводы и предположения](#stage_2_4)\n",
    "\n",
    "---\n",
    "\n",
    "5. [Постройте график относительного изменения кумулятивной конверсии группы B к группе A. Сделайте выводы и предположения](#stage_2_5)\n",
    "\n",
    "---\n",
    "\n",
    "6. [Постройте точечный график количества заказов по пользователям. Сделайте выводы и предположения](#stage_2_6)\n",
    "\n",
    "---\n",
    "\n",
    "7. [Посчитайте 95-й и 99-й перцентили количества заказов на пользователя. Выберите границу для определения аномальных пользователей](#stage_2_7)\n",
    "\n",
    "--- \n",
    "\n",
    "8. [Постройте точечный график стоимостей заказов. Сделайте выводы и предположения](#stage_2_8)\n",
    "\n",
    "---\n",
    "\n",
    "9. [Посчитайте 95-й и 99-й перцентили стоимости заказов. Выберите границу для определения аномальных заказов](#stage_2_9)\n",
    "\n",
    "---\n",
    "\n",
    "10. [Посчитайте статистическую значимость различий в конверсии между группами по «сырым» данным. Сделайте выводы и предположения](#stage_2_10)\n",
    "\n",
    "---\n",
    "\n",
    "11. [Посчитайте статистическую значимость различий в среднем чеке заказа между группами по «сырым» данным. Сделайте выводы и предположения](#stage_2_11)\n",
    "\n",
    "---\n",
    "\n",
    "12. [Посчитайте статистическую значимость различий в конверсии между группами по «очищенным» данным. Сделайте выводы и предположения](#stage_2_12)\n",
    "\n",
    "---\n",
    "\n",
    "13. [Посчитайте статистическую значимость различий в среднем чеке заказа между группами по «очищенным» данным. Сделайте выводы и предположения](#stage_2_13)\n",
    "\n",
    "---\n",
    "\n",
    "14. [Примите решение по результатам теста и объясните его](#stage_2_14)\n",
    "\n"
   ]
  },
  {
   "cell_type": "markdown",
   "metadata": {},
   "source": [
    "# Описание данных\n",
    "## Файл hypothesis.csv:\n",
    "- Hypothesis — краткое описание гипотезы;\n",
    "- Reach — охват пользователей по 10-балльной шкале;\n",
    "- Impact — влияние на пользователей по 10-балльной шкале;\n",
    "- Confidence — уверенность в гипотезе по 10-балльной шкале;\n",
    "- Efforts — затраты ресурсов на проверку гипотезы по 10-балльной шкале. Чем больше значение Efforts, тем дороже проверка гипотезы.\n",
    "\n",
    "\n",
    "## Файл orders.csv:\n",
    "- transactionId — идентификатор заказа;\n",
    "- visitorId — идентификатор пользователя, совершившего заказ;\n",
    "- date — дата, когда был совершён заказ;\n",
    "- revenue — выручка заказа;\n",
    "- group — группа A/B-теста, в которую попал заказ.\n",
    "\n",
    "\n",
    "## Файл visitors.csv:\n",
    "- date — дата;\n",
    "- group — группа A/B-теста;\n",
    "- visitors — количество пользователей в указанную дату в указанной группе A/B-теста"
   ]
  },
  {
   "cell_type": "markdown",
   "metadata": {},
   "source": [
    "<a name=\"stage_1\"></a>\n",
    "## Часть 1. Приоритезация гипотез"
   ]
  },
  {
   "cell_type": "markdown",
   "metadata": {},
   "source": [
    "Загрузка данных и импорт библиотек"
   ]
  },
  {
   "cell_type": "code",
   "execution_count": 1,
   "metadata": {},
   "outputs": [],
   "source": [
    "import pandas as pd\n",
    "import matplotlib.pyplot as plt\n",
    "\n",
    "import seaborn as sns\n",
    "sns.set(rc={'figure.figsize':(10, 8)})\n",
    "\n",
    "import scipy.stats as stats\n",
    "from scipy import stats as st\n",
    "\n",
    "import math\n",
    "\n",
    "import numpy as np"
   ]
  },
  {
   "cell_type": "code",
   "execution_count": 2,
   "metadata": {},
   "outputs": [],
   "source": [
    "pd.options.display.float_format = '{:,.2f}'.format"
   ]
  },
  {
   "cell_type": "code",
   "execution_count": 3,
   "metadata": {},
   "outputs": [],
   "source": [
    "hypothesis = pd.read_csv(r'D:\\Работа\\Аналитик данных\\Проекты\\Принятие решений в бизнесе\\hypothesis.csv')\n",
    "orders = pd.read_csv(r'D:\\Работа\\Аналитик данных\\Проекты\\Принятие решений в бизнесе\\orders.csv')\n",
    "visitors = pd.read_csv(r'D:\\Работа\\Аналитик данных\\Проекты\\Принятие решений в бизнесе\\visitors.csv')"
   ]
  },
  {
   "cell_type": "code",
   "execution_count": 4,
   "metadata": {
    "scrolled": false
   },
   "outputs": [
    {
     "data": {
      "text/html": [
       "<div>\n",
       "<style scoped>\n",
       "    .dataframe tbody tr th:only-of-type {\n",
       "        vertical-align: middle;\n",
       "    }\n",
       "\n",
       "    .dataframe tbody tr th {\n",
       "        vertical-align: top;\n",
       "    }\n",
       "\n",
       "    .dataframe thead th {\n",
       "        text-align: right;\n",
       "    }\n",
       "</style>\n",
       "<table border=\"1\" class=\"dataframe\">\n",
       "  <thead>\n",
       "    <tr style=\"text-align: right;\">\n",
       "      <th></th>\n",
       "      <th>Hypothesis</th>\n",
       "      <th>Reach</th>\n",
       "      <th>Impact</th>\n",
       "      <th>Confidence</th>\n",
       "      <th>Efforts</th>\n",
       "    </tr>\n",
       "  </thead>\n",
       "  <tbody>\n",
       "    <tr>\n",
       "      <th>0</th>\n",
       "      <td>Добавить два новых канала привлечения трафика,...</td>\n",
       "      <td>3</td>\n",
       "      <td>10</td>\n",
       "      <td>8</td>\n",
       "      <td>6</td>\n",
       "    </tr>\n",
       "    <tr>\n",
       "      <th>1</th>\n",
       "      <td>Запустить собственную службу доставки, что сок...</td>\n",
       "      <td>2</td>\n",
       "      <td>5</td>\n",
       "      <td>4</td>\n",
       "      <td>10</td>\n",
       "    </tr>\n",
       "    <tr>\n",
       "      <th>2</th>\n",
       "      <td>Добавить блоки рекомендаций товаров на сайт ин...</td>\n",
       "      <td>8</td>\n",
       "      <td>3</td>\n",
       "      <td>7</td>\n",
       "      <td>3</td>\n",
       "    </tr>\n",
       "    <tr>\n",
       "      <th>3</th>\n",
       "      <td>Изменить структура категорий, что увеличит кон...</td>\n",
       "      <td>8</td>\n",
       "      <td>3</td>\n",
       "      <td>3</td>\n",
       "      <td>8</td>\n",
       "    </tr>\n",
       "    <tr>\n",
       "      <th>4</th>\n",
       "      <td>Изменить цвет фона главной страницы, чтобы уве...</td>\n",
       "      <td>3</td>\n",
       "      <td>1</td>\n",
       "      <td>1</td>\n",
       "      <td>1</td>\n",
       "    </tr>\n",
       "  </tbody>\n",
       "</table>\n",
       "</div>"
      ],
      "text/plain": [
       "                                          Hypothesis  Reach  Impact  \\\n",
       "0  Добавить два новых канала привлечения трафика,...      3      10   \n",
       "1  Запустить собственную службу доставки, что сок...      2       5   \n",
       "2  Добавить блоки рекомендаций товаров на сайт ин...      8       3   \n",
       "3  Изменить структура категорий, что увеличит кон...      8       3   \n",
       "4  Изменить цвет фона главной страницы, чтобы уве...      3       1   \n",
       "\n",
       "   Confidence  Efforts  \n",
       "0           8        6  \n",
       "1           4       10  \n",
       "2           7        3  \n",
       "3           3        8  \n",
       "4           1        1  "
      ]
     },
     "metadata": {},
     "output_type": "display_data"
    },
    {
     "name": "stdout",
     "output_type": "stream",
     "text": [
      "<class 'pandas.core.frame.DataFrame'>\n",
      "RangeIndex: 9 entries, 0 to 8\n",
      "Data columns (total 5 columns):\n",
      " #   Column      Non-Null Count  Dtype \n",
      "---  ------      --------------  ----- \n",
      " 0   Hypothesis  9 non-null      object\n",
      " 1   Reach       9 non-null      int64 \n",
      " 2   Impact      9 non-null      int64 \n",
      " 3   Confidence  9 non-null      int64 \n",
      " 4   Efforts     9 non-null      int64 \n",
      "dtypes: int64(4), object(1)\n",
      "memory usage: 488.0+ bytes\n"
     ]
    },
    {
     "data": {
      "text/plain": [
       "None"
      ]
     },
     "metadata": {},
     "output_type": "display_data"
    },
    {
     "data": {
      "text/html": [
       "<div>\n",
       "<style scoped>\n",
       "    .dataframe tbody tr th:only-of-type {\n",
       "        vertical-align: middle;\n",
       "    }\n",
       "\n",
       "    .dataframe tbody tr th {\n",
       "        vertical-align: top;\n",
       "    }\n",
       "\n",
       "    .dataframe thead th {\n",
       "        text-align: right;\n",
       "    }\n",
       "</style>\n",
       "<table border=\"1\" class=\"dataframe\">\n",
       "  <thead>\n",
       "    <tr style=\"text-align: right;\">\n",
       "      <th></th>\n",
       "      <th>transactionId</th>\n",
       "      <th>visitorId</th>\n",
       "      <th>date</th>\n",
       "      <th>revenue</th>\n",
       "      <th>group</th>\n",
       "    </tr>\n",
       "  </thead>\n",
       "  <tbody>\n",
       "    <tr>\n",
       "      <th>0</th>\n",
       "      <td>3667963787</td>\n",
       "      <td>3312258926</td>\n",
       "      <td>2019-08-15</td>\n",
       "      <td>1650</td>\n",
       "      <td>B</td>\n",
       "    </tr>\n",
       "    <tr>\n",
       "      <th>1</th>\n",
       "      <td>2804400009</td>\n",
       "      <td>3642806036</td>\n",
       "      <td>2019-08-15</td>\n",
       "      <td>730</td>\n",
       "      <td>B</td>\n",
       "    </tr>\n",
       "    <tr>\n",
       "      <th>2</th>\n",
       "      <td>2961555356</td>\n",
       "      <td>4069496402</td>\n",
       "      <td>2019-08-15</td>\n",
       "      <td>400</td>\n",
       "      <td>A</td>\n",
       "    </tr>\n",
       "    <tr>\n",
       "      <th>3</th>\n",
       "      <td>3797467345</td>\n",
       "      <td>1196621759</td>\n",
       "      <td>2019-08-15</td>\n",
       "      <td>9759</td>\n",
       "      <td>B</td>\n",
       "    </tr>\n",
       "    <tr>\n",
       "      <th>4</th>\n",
       "      <td>2282983706</td>\n",
       "      <td>2322279887</td>\n",
       "      <td>2019-08-15</td>\n",
       "      <td>2308</td>\n",
       "      <td>B</td>\n",
       "    </tr>\n",
       "  </tbody>\n",
       "</table>\n",
       "</div>"
      ],
      "text/plain": [
       "   transactionId   visitorId        date  revenue group\n",
       "0     3667963787  3312258926  2019-08-15     1650     B\n",
       "1     2804400009  3642806036  2019-08-15      730     B\n",
       "2     2961555356  4069496402  2019-08-15      400     A\n",
       "3     3797467345  1196621759  2019-08-15     9759     B\n",
       "4     2282983706  2322279887  2019-08-15     2308     B"
      ]
     },
     "metadata": {},
     "output_type": "display_data"
    },
    {
     "name": "stdout",
     "output_type": "stream",
     "text": [
      "<class 'pandas.core.frame.DataFrame'>\n",
      "RangeIndex: 1197 entries, 0 to 1196\n",
      "Data columns (total 5 columns):\n",
      " #   Column         Non-Null Count  Dtype \n",
      "---  ------         --------------  ----- \n",
      " 0   transactionId  1197 non-null   int64 \n",
      " 1   visitorId      1197 non-null   int64 \n",
      " 2   date           1197 non-null   object\n",
      " 3   revenue        1197 non-null   int64 \n",
      " 4   group          1197 non-null   object\n",
      "dtypes: int64(3), object(2)\n",
      "memory usage: 46.9+ KB\n"
     ]
    },
    {
     "data": {
      "text/plain": [
       "None"
      ]
     },
     "metadata": {},
     "output_type": "display_data"
    },
    {
     "data": {
      "text/html": [
       "<div>\n",
       "<style scoped>\n",
       "    .dataframe tbody tr th:only-of-type {\n",
       "        vertical-align: middle;\n",
       "    }\n",
       "\n",
       "    .dataframe tbody tr th {\n",
       "        vertical-align: top;\n",
       "    }\n",
       "\n",
       "    .dataframe thead th {\n",
       "        text-align: right;\n",
       "    }\n",
       "</style>\n",
       "<table border=\"1\" class=\"dataframe\">\n",
       "  <thead>\n",
       "    <tr style=\"text-align: right;\">\n",
       "      <th></th>\n",
       "      <th>date</th>\n",
       "      <th>group</th>\n",
       "      <th>visitors</th>\n",
       "    </tr>\n",
       "  </thead>\n",
       "  <tbody>\n",
       "    <tr>\n",
       "      <th>0</th>\n",
       "      <td>2019-08-01</td>\n",
       "      <td>A</td>\n",
       "      <td>719</td>\n",
       "    </tr>\n",
       "    <tr>\n",
       "      <th>1</th>\n",
       "      <td>2019-08-02</td>\n",
       "      <td>A</td>\n",
       "      <td>619</td>\n",
       "    </tr>\n",
       "    <tr>\n",
       "      <th>2</th>\n",
       "      <td>2019-08-03</td>\n",
       "      <td>A</td>\n",
       "      <td>507</td>\n",
       "    </tr>\n",
       "    <tr>\n",
       "      <th>3</th>\n",
       "      <td>2019-08-04</td>\n",
       "      <td>A</td>\n",
       "      <td>717</td>\n",
       "    </tr>\n",
       "    <tr>\n",
       "      <th>4</th>\n",
       "      <td>2019-08-05</td>\n",
       "      <td>A</td>\n",
       "      <td>756</td>\n",
       "    </tr>\n",
       "  </tbody>\n",
       "</table>\n",
       "</div>"
      ],
      "text/plain": [
       "         date group  visitors\n",
       "0  2019-08-01     A       719\n",
       "1  2019-08-02     A       619\n",
       "2  2019-08-03     A       507\n",
       "3  2019-08-04     A       717\n",
       "4  2019-08-05     A       756"
      ]
     },
     "metadata": {},
     "output_type": "display_data"
    },
    {
     "name": "stdout",
     "output_type": "stream",
     "text": [
      "<class 'pandas.core.frame.DataFrame'>\n",
      "RangeIndex: 62 entries, 0 to 61\n",
      "Data columns (total 3 columns):\n",
      " #   Column    Non-Null Count  Dtype \n",
      "---  ------    --------------  ----- \n",
      " 0   date      62 non-null     object\n",
      " 1   group     62 non-null     object\n",
      " 2   visitors  62 non-null     int64 \n",
      "dtypes: int64(1), object(2)\n",
      "memory usage: 1.6+ KB\n"
     ]
    },
    {
     "data": {
      "text/plain": [
       "None"
      ]
     },
     "metadata": {},
     "output_type": "display_data"
    }
   ],
   "source": [
    "for i in [hypothesis, orders, visitors]:\n",
    "    display(i.head())\n",
    "    display(i.info())"
   ]
  },
  {
   "cell_type": "code",
   "execution_count": 5,
   "metadata": {},
   "outputs": [],
   "source": [
    "hypothesis.columns = hypothesis.columns.str.lower() \n",
    "\n",
    "orders.columns = orders.columns.str.lower()\n",
    "\n",
    "visitors.columns = visitors.columns.str.lower()"
   ]
  },
  {
   "cell_type": "code",
   "execution_count": 6,
   "metadata": {},
   "outputs": [],
   "source": [
    "orders['date'] = pd.to_datetime(orders['date'])\n",
    "visitors['date'] = pd.to_datetime(visitors['date'])"
   ]
  },
  {
   "cell_type": "code",
   "execution_count": 7,
   "metadata": {
    "scrolled": false
   },
   "outputs": [
    {
     "data": {
      "text/plain": [
       "0"
      ]
     },
     "metadata": {},
     "output_type": "display_data"
    },
    {
     "data": {
      "text/plain": [
       "0"
      ]
     },
     "metadata": {},
     "output_type": "display_data"
    },
    {
     "data": {
      "text/plain": [
       "0"
      ]
     },
     "metadata": {},
     "output_type": "display_data"
    }
   ],
   "source": [
    "for i in [hypothesis, orders, visitors]:\n",
    "    display(i.duplicated().sum())"
   ]
  },
  {
   "cell_type": "code",
   "execution_count": 8,
   "metadata": {
    "scrolled": true
   },
   "outputs": [
    {
     "data": {
      "text/plain": [
       "hypothesis    0\n",
       "reach         0\n",
       "impact        0\n",
       "confidence    0\n",
       "efforts       0\n",
       "dtype: int64"
      ]
     },
     "metadata": {},
     "output_type": "display_data"
    },
    {
     "data": {
      "text/plain": [
       "transactionid    0\n",
       "visitorid        0\n",
       "date             0\n",
       "revenue          0\n",
       "group            0\n",
       "dtype: int64"
      ]
     },
     "metadata": {},
     "output_type": "display_data"
    },
    {
     "data": {
      "text/plain": [
       "date        0\n",
       "group       0\n",
       "visitors    0\n",
       "dtype: int64"
      ]
     },
     "metadata": {},
     "output_type": "display_data"
    }
   ],
   "source": [
    "for i in [hypothesis, orders, visitors]:\n",
    "    display(i.isnull().sum(axis=0).sort_values(ascending=False))"
   ]
  },
  {
   "cell_type": "code",
   "execution_count": 9,
   "metadata": {
    "scrolled": false
   },
   "outputs": [
    {
     "data": {
      "text/plain": [
       "1197"
      ]
     },
     "metadata": {},
     "output_type": "display_data"
    },
    {
     "data": {
      "text/plain": [
       "1031"
      ]
     },
     "metadata": {},
     "output_type": "display_data"
    }
   ],
   "source": [
    "display(len(orders['visitorid']))\n",
    "display(orders['visitorid'].nunique())"
   ]
  },
  {
   "cell_type": "markdown",
   "metadata": {},
   "source": [
    "<a name=\"ice\"></a>\n",
    "### Фреймворк ICE для приоритизации гипотез."
   ]
  },
  {
   "cell_type": "code",
   "execution_count": 10,
   "metadata": {
    "scrolled": false
   },
   "outputs": [
    {
     "data": {
      "text/html": [
       "<div>\n",
       "<style scoped>\n",
       "    .dataframe tbody tr th:only-of-type {\n",
       "        vertical-align: middle;\n",
       "    }\n",
       "\n",
       "    .dataframe tbody tr th {\n",
       "        vertical-align: top;\n",
       "    }\n",
       "\n",
       "    .dataframe thead th {\n",
       "        text-align: right;\n",
       "    }\n",
       "</style>\n",
       "<table border=\"1\" class=\"dataframe\">\n",
       "  <thead>\n",
       "    <tr style=\"text-align: right;\">\n",
       "      <th></th>\n",
       "      <th>hypothesis</th>\n",
       "      <th>reach</th>\n",
       "      <th>impact</th>\n",
       "      <th>confidence</th>\n",
       "      <th>efforts</th>\n",
       "      <th>ICE</th>\n",
       "    </tr>\n",
       "  </thead>\n",
       "  <tbody>\n",
       "    <tr>\n",
       "      <th>8</th>\n",
       "      <td>Запустить акцию, дающую скидку на товар в день рождения</td>\n",
       "      <td>1</td>\n",
       "      <td>9</td>\n",
       "      <td>9</td>\n",
       "      <td>5</td>\n",
       "      <td>16.20</td>\n",
       "    </tr>\n",
       "    <tr>\n",
       "      <th>0</th>\n",
       "      <td>Добавить два новых канала привлечения трафика, что позволит привлекать на 30% больше пользователей</td>\n",
       "      <td>3</td>\n",
       "      <td>10</td>\n",
       "      <td>8</td>\n",
       "      <td>6</td>\n",
       "      <td>13.33</td>\n",
       "    </tr>\n",
       "    <tr>\n",
       "      <th>7</th>\n",
       "      <td>Добавить форму подписки на все основные страницы, чтобы собрать базу клиентов для email-рассылок</td>\n",
       "      <td>10</td>\n",
       "      <td>7</td>\n",
       "      <td>8</td>\n",
       "      <td>5</td>\n",
       "      <td>11.20</td>\n",
       "    </tr>\n",
       "    <tr>\n",
       "      <th>6</th>\n",
       "      <td>Показать на главной странице баннеры с актуальными акциями и распродажами, чтобы увеличить конверсию</td>\n",
       "      <td>5</td>\n",
       "      <td>3</td>\n",
       "      <td>8</td>\n",
       "      <td>3</td>\n",
       "      <td>8.00</td>\n",
       "    </tr>\n",
       "    <tr>\n",
       "      <th>2</th>\n",
       "      <td>Добавить блоки рекомендаций товаров на сайт интернет магазина, чтобы повысить конверсию и средний чек заказа</td>\n",
       "      <td>8</td>\n",
       "      <td>3</td>\n",
       "      <td>7</td>\n",
       "      <td>3</td>\n",
       "      <td>7.00</td>\n",
       "    </tr>\n",
       "  </tbody>\n",
       "</table>\n",
       "</div>"
      ],
      "text/plain": [
       "                                                                                                     hypothesis  \\\n",
       "8  Запустить акцию, дающую скидку на товар в день рождения                                                        \n",
       "0  Добавить два новых канала привлечения трафика, что позволит привлекать на 30% больше пользователей             \n",
       "7  Добавить форму подписки на все основные страницы, чтобы собрать базу клиентов для email-рассылок               \n",
       "6  Показать на главной странице баннеры с актуальными акциями и распродажами, чтобы увеличить конверсию           \n",
       "2  Добавить блоки рекомендаций товаров на сайт интернет магазина, чтобы повысить конверсию и средний чек заказа   \n",
       "\n",
       "   reach  impact  confidence  efforts   ICE  \n",
       "8  1      9       9           5       16.20  \n",
       "0  3      10      8           6       13.33  \n",
       "7  10     7       8           5       11.20  \n",
       "6  5      3       8           3       8.00   \n",
       "2  8      3       7           3       7.00   "
      ]
     },
     "execution_count": 10,
     "metadata": {},
     "output_type": "execute_result"
    }
   ],
   "source": [
    "hypothesis['ICE'] = hypothesis['impact'] * hypothesis['confidence'] / hypothesis['efforts']\n",
    "\n",
    "pd.options.display.max_colwidth = 1\n",
    "hypothesis.sort_values('ICE', ascending=False).head()"
   ]
  },
  {
   "cell_type": "code",
   "execution_count": 11,
   "metadata": {
    "scrolled": true
   },
   "outputs": [
    {
     "data": {
      "image/png": "[encoded data removed]",
      "text/plain": [
       "<Figure size 1000x800 with 1 Axes>"
      ]
     },
     "metadata": {},
     "output_type": "display_data"
    }
   ],
   "source": [
    "ax = hypothesis[['hypothesis', 'ICE']].set_index('hypothesis').sort_values('ICE', ascending=True).plot(kind='barh')\n",
    "ax.set_xlabel('Приоритет')\n",
    "ax.set_ylabel('Гипотеза')\n",
    "ax.set_title('ICE')\n",
    "plt.show()"
   ]
  },
  {
   "cell_type": "markdown",
   "metadata": {},
   "source": [
    "<a name=\"rice\"></a>\n",
    "### Фреймворк RICE для приоритизации гипотез."
   ]
  },
  {
   "cell_type": "code",
   "execution_count": 12,
   "metadata": {
    "scrolled": true
   },
   "outputs": [
    {
     "data": {
      "text/html": [
       "<div>\n",
       "<style scoped>\n",
       "    .dataframe tbody tr th:only-of-type {\n",
       "        vertical-align: middle;\n",
       "    }\n",
       "\n",
       "    .dataframe tbody tr th {\n",
       "        vertical-align: top;\n",
       "    }\n",
       "\n",
       "    .dataframe thead th {\n",
       "        text-align: right;\n",
       "    }\n",
       "</style>\n",
       "<table border=\"1\" class=\"dataframe\">\n",
       "  <thead>\n",
       "    <tr style=\"text-align: right;\">\n",
       "      <th></th>\n",
       "      <th>hypothesis</th>\n",
       "      <th>reach</th>\n",
       "      <th>impact</th>\n",
       "      <th>confidence</th>\n",
       "      <th>efforts</th>\n",
       "      <th>ICE</th>\n",
       "      <th>RICE</th>\n",
       "    </tr>\n",
       "  </thead>\n",
       "  <tbody>\n",
       "    <tr>\n",
       "      <th>7</th>\n",
       "      <td>Добавить форму подписки на все основные страницы, чтобы собрать базу клиентов для email-рассылок</td>\n",
       "      <td>10</td>\n",
       "      <td>7</td>\n",
       "      <td>8</td>\n",
       "      <td>5</td>\n",
       "      <td>11.20</td>\n",
       "      <td>112.00</td>\n",
       "    </tr>\n",
       "    <tr>\n",
       "      <th>2</th>\n",
       "      <td>Добавить блоки рекомендаций товаров на сайт интернет магазина, чтобы повысить конверсию и средний чек заказа</td>\n",
       "      <td>8</td>\n",
       "      <td>3</td>\n",
       "      <td>7</td>\n",
       "      <td>3</td>\n",
       "      <td>7.00</td>\n",
       "      <td>56.00</td>\n",
       "    </tr>\n",
       "    <tr>\n",
       "      <th>0</th>\n",
       "      <td>Добавить два новых канала привлечения трафика, что позволит привлекать на 30% больше пользователей</td>\n",
       "      <td>3</td>\n",
       "      <td>10</td>\n",
       "      <td>8</td>\n",
       "      <td>6</td>\n",
       "      <td>13.33</td>\n",
       "      <td>40.00</td>\n",
       "    </tr>\n",
       "    <tr>\n",
       "      <th>6</th>\n",
       "      <td>Показать на главной странице баннеры с актуальными акциями и распродажами, чтобы увеличить конверсию</td>\n",
       "      <td>5</td>\n",
       "      <td>3</td>\n",
       "      <td>8</td>\n",
       "      <td>3</td>\n",
       "      <td>8.00</td>\n",
       "      <td>40.00</td>\n",
       "    </tr>\n",
       "    <tr>\n",
       "      <th>8</th>\n",
       "      <td>Запустить акцию, дающую скидку на товар в день рождения</td>\n",
       "      <td>1</td>\n",
       "      <td>9</td>\n",
       "      <td>9</td>\n",
       "      <td>5</td>\n",
       "      <td>16.20</td>\n",
       "      <td>16.20</td>\n",
       "    </tr>\n",
       "  </tbody>\n",
       "</table>\n",
       "</div>"
      ],
      "text/plain": [
       "                                                                                                     hypothesis  \\\n",
       "7  Добавить форму подписки на все основные страницы, чтобы собрать базу клиентов для email-рассылок               \n",
       "2  Добавить блоки рекомендаций товаров на сайт интернет магазина, чтобы повысить конверсию и средний чек заказа   \n",
       "0  Добавить два новых канала привлечения трафика, что позволит привлекать на 30% больше пользователей             \n",
       "6  Показать на главной странице баннеры с актуальными акциями и распродажами, чтобы увеличить конверсию           \n",
       "8  Запустить акцию, дающую скидку на товар в день рождения                                                        \n",
       "\n",
       "   reach  impact  confidence  efforts   ICE   RICE  \n",
       "7  10     7       8           5       11.20 112.00  \n",
       "2  8      3       7           3       7.00  56.00   \n",
       "0  3      10      8           6       13.33 40.00   \n",
       "6  5      3       8           3       8.00  40.00   \n",
       "8  1      9       9           5       16.20 16.20   "
      ]
     },
     "execution_count": 12,
     "metadata": {},
     "output_type": "execute_result"
    }
   ],
   "source": [
    "hypothesis['RICE'] = hypothesis['reach'] * hypothesis['impact'] * hypothesis['confidence'] / hypothesis['efforts']\n",
    "hypothesis.sort_values('RICE', ascending=False).head()"
   ]
  },
  {
   "cell_type": "code",
   "execution_count": 13,
   "metadata": {
    "scrolled": true
   },
   "outputs": [
    {
     "data": {
      "image/png": "[encoded data removed]",
      "text/plain": [
       "<Figure size 1000x800 with 1 Axes>"
      ]
     },
     "metadata": {},
     "output_type": "display_data"
    }
   ],
   "source": [
    "ax = hypothesis[['hypothesis', 'RICE']].set_index('hypothesis').sort_values('RICE', ascending=True).plot(kind='barh')\n",
    "ax.set_xlabel('Приоритет')\n",
    "ax.set_ylabel('Гипотеза')\n",
    "ax.set_title('RICE')\n",
    "plt.show()"
   ]
  },
  {
   "cell_type": "markdown",
   "metadata": {},
   "source": [
    "<a name=\"why\"></a>\n",
    "### Изменение приоритизации гипотез при применении RICE вместо ICE. Объяснение"
   ]
  },
  {
   "cell_type": "markdown",
   "metadata": {},
   "source": [
    "В формуле RICE учитывается охват, а в ICE нет. Банально, но в данном случае это существенную роль. "
   ]
  },
  {
   "cell_type": "markdown",
   "metadata": {},
   "source": [
    "<a name=\"stage_2\"></a>\n",
    "## Часть 2. Анализ A/B-теста."
   ]
  },
  {
   "cell_type": "code",
   "execution_count": 14,
   "metadata": {},
   "outputs": [],
   "source": [
    "orders_g = (orders.groupby(['date','group'], as_index=False)\n",
    "                        .agg({'transactionid':'nunique','visitorid':'nunique','revenue':'sum'}))\\\n",
    "                        .rename(columns={'transactionid':'orders','visitorid':'buyers'})\n",
    "orders_g['group_copy'] = orders_g['group']\n",
    "orders_g = orders_g.set_index(['date','group'])\n",
    "orders_cs = orders_g.sort_values(['date','group']).groupby('group_copy').cumsum().reset_index()"
   ]
  },
  {
   "cell_type": "code",
   "execution_count": 15,
   "metadata": {},
   "outputs": [],
   "source": [
    "\n",
    "visitors_cs = visitors.groupby(['date','group'], as_index=False).agg({'visitors':'sum'}).sort_values(['date','group'])\n",
    "\n",
    "visitors_cs['group_two'] = visitors_cs['group']\n",
    "visitors_cs = visitors_cs.set_index(['date','group']).groupby('group_two').cumsum().reset_index() "
   ]
  },
  {
   "cell_type": "code",
   "execution_count": 16,
   "metadata": {},
   "outputs": [],
   "source": [
    "cs = orders_cs.join(visitors_cs[['visitors']])"
   ]
  },
  {
   "cell_type": "code",
   "execution_count": 17,
   "metadata": {},
   "outputs": [],
   "source": [
    "cs['average_check'] = cs['revenue'] / cs['orders']\n",
    "cs['conversion'] = cs['orders'] / cs['visitors']"
   ]
  },
  {
   "cell_type": "code",
   "execution_count": 18,
   "metadata": {
    "scrolled": true
   },
   "outputs": [
    {
     "data": {
      "text/html": [
       "<div>\n",
       "<style scoped>\n",
       "    .dataframe tbody tr th:only-of-type {\n",
       "        vertical-align: middle;\n",
       "    }\n",
       "\n",
       "    .dataframe tbody tr th {\n",
       "        vertical-align: top;\n",
       "    }\n",
       "\n",
       "    .dataframe thead th {\n",
       "        text-align: right;\n",
       "    }\n",
       "</style>\n",
       "<table border=\"1\" class=\"dataframe\">\n",
       "  <thead>\n",
       "    <tr style=\"text-align: right;\">\n",
       "      <th></th>\n",
       "      <th>date</th>\n",
       "      <th>group</th>\n",
       "      <th>orders</th>\n",
       "      <th>buyers</th>\n",
       "      <th>revenue</th>\n",
       "      <th>visitors</th>\n",
       "      <th>average_check</th>\n",
       "      <th>conversion</th>\n",
       "    </tr>\n",
       "  </thead>\n",
       "  <tbody>\n",
       "    <tr>\n",
       "      <th>0</th>\n",
       "      <td>2019-08-01</td>\n",
       "      <td>A</td>\n",
       "      <td>24</td>\n",
       "      <td>20</td>\n",
       "      <td>148579</td>\n",
       "      <td>719</td>\n",
       "      <td>6,190.79</td>\n",
       "      <td>0.03</td>\n",
       "    </tr>\n",
       "    <tr>\n",
       "      <th>1</th>\n",
       "      <td>2019-08-01</td>\n",
       "      <td>B</td>\n",
       "      <td>21</td>\n",
       "      <td>20</td>\n",
       "      <td>101217</td>\n",
       "      <td>713</td>\n",
       "      <td>4,819.86</td>\n",
       "      <td>0.03</td>\n",
       "    </tr>\n",
       "    <tr>\n",
       "      <th>2</th>\n",
       "      <td>2019-08-02</td>\n",
       "      <td>A</td>\n",
       "      <td>44</td>\n",
       "      <td>39</td>\n",
       "      <td>242401</td>\n",
       "      <td>1338</td>\n",
       "      <td>5,509.11</td>\n",
       "      <td>0.03</td>\n",
       "    </tr>\n",
       "    <tr>\n",
       "      <th>3</th>\n",
       "      <td>2019-08-02</td>\n",
       "      <td>B</td>\n",
       "      <td>45</td>\n",
       "      <td>43</td>\n",
       "      <td>266748</td>\n",
       "      <td>1294</td>\n",
       "      <td>5,927.73</td>\n",
       "      <td>0.03</td>\n",
       "    </tr>\n",
       "    <tr>\n",
       "      <th>4</th>\n",
       "      <td>2019-08-03</td>\n",
       "      <td>A</td>\n",
       "      <td>68</td>\n",
       "      <td>63</td>\n",
       "      <td>354874</td>\n",
       "      <td>1845</td>\n",
       "      <td>5,218.74</td>\n",
       "      <td>0.04</td>\n",
       "    </tr>\n",
       "  </tbody>\n",
       "</table>\n",
       "</div>"
      ],
      "text/plain": [
       "        date group  orders  buyers  revenue  visitors  average_check  \\\n",
       "0 2019-08-01  A     24      20      148579   719      6,190.79         \n",
       "1 2019-08-01  B     21      20      101217   713      4,819.86         \n",
       "2 2019-08-02  A     44      39      242401   1338     5,509.11         \n",
       "3 2019-08-02  B     45      43      266748   1294     5,927.73         \n",
       "4 2019-08-03  A     68      63      354874   1845     5,218.74         \n",
       "\n",
       "   conversion  \n",
       "0 0.03         \n",
       "1 0.03         \n",
       "2 0.03         \n",
       "3 0.03         \n",
       "4 0.04         "
      ]
     },
     "execution_count": 18,
     "metadata": {},
     "output_type": "execute_result"
    }
   ],
   "source": [
    "cs.head()"
   ]
  },
  {
   "cell_type": "markdown",
   "metadata": {},
   "source": [
    "<div class=\"alert alert-block alert-success\">\n",
    "\n",
    "**Комментарий ревьювера (все отлично)**\n",
    "    \n",
    "Кумулятивные данные собраны.\n",
    "</div>"
   ]
  },
  {
   "cell_type": "markdown",
   "metadata": {},
   "source": [
    "<a name=\"stage_2_1\"></a>\n",
    "### График кумулятивной выручки по группам. "
   ]
  },
  {
   "cell_type": "code",
   "execution_count": 19,
   "metadata": {},
   "outputs": [
    {
     "data": {
      "image/png": "[encoded data removed]",
      "text/plain": [
       "<Figure size 1000x800 with 1 Axes>"
      ]
     },
     "metadata": {},
     "output_type": "display_data"
    }
   ],
   "source": [
    "cs_a = cs[cs['group']=='A'][['date', 'revenue']]\n",
    "cs_b = cs[cs['group']=='B'][['date', 'revenue']]\n",
    "plt.plot(cs_a.iloc[:,0].to_frame(), cs_a.iloc[:,1].to_frame(), label='A' )\n",
    "plt.plot(cs_b.iloc[:,0].to_frame(), cs_b.iloc[:,1].to_frame(), label='B')\n",
    "plt.title('График кумулятивной выручки по группам')\n",
    "plt.ylabel(\"Выручка\")\n",
    "plt.xticks(rotation=45)\n",
    "plt.legend()\n",
    "plt.show()"
   ]
  },
  {
   "cell_type": "markdown",
   "metadata": {},
   "source": [
    "#### Выводы и предположения."
   ]
  },
  {
   "cell_type": "markdown",
   "metadata": {},
   "source": [
    "Графики идут ровно, а потом В резво прыгает вверх. Что-то случилось в этой группе за короткий срок, скорее всего выброс, иначе графики бы себя вели иначе."
   ]
  },
  {
   "cell_type": "markdown",
   "metadata": {},
   "source": [
    "<a name=\"stage_2_2\"></a>\n",
    "### График кумулятивного среднего чека по группам."
   ]
  },
  {
   "cell_type": "code",
   "execution_count": 20,
   "metadata": {},
   "outputs": [
    {
     "data": {
      "image/png": "[encoded data removed]",
      "text/plain": [
       "<Figure size 1000x800 with 1 Axes>"
      ]
     },
     "metadata": {},
     "output_type": "display_data"
    }
   ],
   "source": [
    "cs_a = cs[cs['group']=='A'][['date', 'average_check']]\n",
    "cs_b = cs[cs['group']=='B'][['date', 'average_check']]\n",
    "plt.plot(cs_a.iloc[:,0].to_frame(), cs_a.iloc[:,1].to_frame(), label='A' )\n",
    "plt.plot(cs_b.iloc[:,0].to_frame(), cs_b.iloc[:,1].to_frame(), label='B')\n",
    "plt.title('График кумулятивного среднего чека по группам')\n",
    "plt.ylabel(\"Выручка\")\n",
    "plt.xlabel(\"Дата\")\n",
    "plt.xticks(rotation=45)\n",
    "plt.legend()\n",
    "plt.show()"
   ]
  },
  {
   "cell_type": "markdown",
   "metadata": {},
   "source": [
    "#### Выводы и предположения."
   ]
  },
  {
   "cell_type": "markdown",
   "metadata": {},
   "source": [
    "данный график подтрвеждает выводы по предыдущему. "
   ]
  },
  {
   "cell_type": "markdown",
   "metadata": {},
   "source": [
    "<a name=\"stage_2_3\"></a>\n",
    "### График относительного изменения кумулятивного среднего чека группы B к группе A."
   ]
  },
  {
   "cell_type": "code",
   "execution_count": 21,
   "metadata": {},
   "outputs": [
    {
     "data": {
      "image/png": "[encoded data removed]",
      "text/plain": [
       "<Figure size 1000x800 with 1 Axes>"
      ]
     },
     "metadata": {},
     "output_type": "display_data"
    }
   ],
   "source": [
    "a_b = (cs_a[['date', 'average_check']].merge(cs_b[['date', 'average_check']], \n",
    "                                            left_on='date', right_on='date', how='left', suffixes=['_a', '_b']))\n",
    "plt.plot(a_b['date'], a_b['average_check_b'] / a_b['average_check_a']-1)\n",
    "plt.title('График относительного изменения кумулятивного среднего чека группы B к группе A')\n",
    "plt.xlabel(\"Дата\")\n",
    "plt.axhline(y=0, color='red', linestyle='-')\n",
    "plt.xticks(rotation=45)\n",
    "plt.show()"
   ]
  },
  {
   "cell_type": "markdown",
   "metadata": {},
   "source": [
    "#### Выводы и предположения."
   ]
  },
  {
   "cell_type": "markdown",
   "metadata": {},
   "source": [
    "График показывает всё то, что мы видили до этого. "
   ]
  },
  {
   "cell_type": "markdown",
   "metadata": {},
   "source": [
    "<a name=\"stage_2_4\"></a>\n",
    "### График кумулятивного среднего количества заказов на посетителя по группам."
   ]
  },
  {
   "cell_type": "code",
   "execution_count": 22,
   "metadata": {},
   "outputs": [
    {
     "data": {
      "image/png": "[encoded data removed]",
      "text/plain": [
       "<Figure size 1000x800 with 1 Axes>"
      ]
     },
     "metadata": {},
     "output_type": "display_data"
    }
   ],
   "source": [
    "cs_a = cs[cs['group']=='A'][['date', 'conversion']]\n",
    "cs_b = cs[cs['group']=='B'][['date', 'conversion']]\n",
    "plt.plot(cs_a.iloc[:,0].to_frame(), cs_a.iloc[:,1].to_frame(), label='A' )\n",
    "plt.plot(cs_b.iloc[:,0].to_frame(), cs_b.iloc[:,1].to_frame(), label='B')\n",
    "plt.title('График кумулятивной конверсии по группам')\n",
    "plt.ylabel(\"Выручка\")\n",
    "plt.xlabel(\"Дата\")\n",
    "plt.xticks(rotation=45)\n",
    "plt.legend()\n",
    "plt.show()"
   ]
  },
  {
   "cell_type": "markdown",
   "metadata": {},
   "source": [
    "#### Выводы и предположения."
   ]
  },
  {
   "cell_type": "markdown",
   "metadata": {},
   "source": [
    "Сначала графики болтало, но потом конверсия B показывает себя стабильно лучше. "
   ]
  },
  {
   "cell_type": "markdown",
   "metadata": {},
   "source": [
    "<a name=\"stage_2_5\"></a>\n",
    "### График относительного изменения кумулятивного среднего количества заказов на посетителя группы B к группе A."
   ]
  },
  {
   "cell_type": "code",
   "execution_count": 23,
   "metadata": {},
   "outputs": [
    {
     "data": {
      "image/png": "[encoded data removed]",
      "text/plain": [
       "<Figure size 1000x800 with 1 Axes>"
      ]
     },
     "metadata": {},
     "output_type": "display_data"
    }
   ],
   "source": [
    "a_b = (cs_a[['date', 'conversion']].merge(cs_b[['date', 'conversion']], \n",
    "                                            left_on='date', right_on='date', how='left', suffixes=['_A', '_B']))\n",
    "plt.plot(a_b['date'], a_b['conversion_B'] / a_b['conversion_A']-1)\n",
    "plt.title('График относительного изменения кумулятивной конверсии группы B к группе A')\n",
    "plt.xlabel(\"Дата\")\n",
    "plt.axhline(y=0, color='red', linestyle='-')\n",
    "plt.xticks(rotation=45)\n",
    "plt.show()"
   ]
  },
  {
   "cell_type": "markdown",
   "metadata": {},
   "source": [
    "#### Выводы и предположения."
   ]
  },
  {
   "cell_type": "markdown",
   "metadata": {},
   "source": [
    "Пока B конверсия смотрится хорошо, а главное стабильно."
   ]
  },
  {
   "cell_type": "markdown",
   "metadata": {},
   "source": [
    "<a name=\"stage_2_6\"></a>\n",
    "### Точечный график количества заказов по пользователям."
   ]
  },
  {
   "cell_type": "code",
   "execution_count": 24,
   "metadata": {
    "scrolled": true
   },
   "outputs": [
    {
     "data": {
      "text/html": [
       "<div>\n",
       "<style scoped>\n",
       "    .dataframe tbody tr th:only-of-type {\n",
       "        vertical-align: middle;\n",
       "    }\n",
       "\n",
       "    .dataframe tbody tr th {\n",
       "        vertical-align: top;\n",
       "    }\n",
       "\n",
       "    .dataframe thead th {\n",
       "        text-align: right;\n",
       "    }\n",
       "</style>\n",
       "<table border=\"1\" class=\"dataframe\">\n",
       "  <thead>\n",
       "    <tr style=\"text-align: right;\">\n",
       "      <th></th>\n",
       "      <th>visitorid</th>\n",
       "      <th>orders</th>\n",
       "    </tr>\n",
       "  </thead>\n",
       "  <tbody>\n",
       "    <tr>\n",
       "      <th>0</th>\n",
       "      <td>5114589</td>\n",
       "      <td>1</td>\n",
       "    </tr>\n",
       "    <tr>\n",
       "      <th>1</th>\n",
       "      <td>6958315</td>\n",
       "      <td>1</td>\n",
       "    </tr>\n",
       "    <tr>\n",
       "      <th>2</th>\n",
       "      <td>8300375</td>\n",
       "      <td>2</td>\n",
       "    </tr>\n",
       "    <tr>\n",
       "      <th>3</th>\n",
       "      <td>11685486</td>\n",
       "      <td>1</td>\n",
       "    </tr>\n",
       "    <tr>\n",
       "      <th>4</th>\n",
       "      <td>39475350</td>\n",
       "      <td>1</td>\n",
       "    </tr>\n",
       "  </tbody>\n",
       "</table>\n",
       "</div>"
      ],
      "text/plain": [
       "   visitorid  orders\n",
       "0  5114589    1     \n",
       "1  6958315    1     \n",
       "2  8300375    2     \n",
       "3  11685486   1     \n",
       "4  39475350   1     "
      ]
     },
     "execution_count": 24,
     "metadata": {},
     "output_type": "execute_result"
    }
   ],
   "source": [
    "orders_user = orders.groupby('visitorid', as_index=False).agg({'transactionid':'nunique'})\\\n",
    "                         .rename(columns={'transactionid':'orders'})\n",
    "orders_user.head()"
   ]
  },
  {
   "cell_type": "code",
   "execution_count": 25,
   "metadata": {},
   "outputs": [
    {
     "data": {
      "image/png": "[encoded data removed]",
      "text/plain": [
       "<Figure size 1000x800 with 1 Axes>"
      ]
     },
     "metadata": {},
     "output_type": "display_data"
    }
   ],
   "source": [
    "x_values = pd.Series(range(0,len(orders_user['orders'])))\n",
    "plt.scatter(x_values, orders_user['orders'], color='blue')\n",
    "plt.title('График кумулятивной конверсии по группам')\n",
    "plt.ylabel(\"Количество заказов\")\n",
    "plt.show()"
   ]
  },
  {
   "cell_type": "markdown",
   "metadata": {},
   "source": [
    "#### Выводы и предположения."
   ]
  },
  {
   "cell_type": "markdown",
   "metadata": {},
   "source": [
    "У многих пользователей один заказ. У тех что 2 заказа встречаются реже, но кажется что это нормально. \n",
    "Видим тажке и отдельных пользователей у которых много заказывают и тем самым выделются из общем массы. "
   ]
  },
  {
   "cell_type": "markdown",
   "metadata": {},
   "source": [
    "<a name=\"stage_2_7\"></a>\n",
    "### Подсчёт 95-го и 99-го перцентиля количества заказов на пользователя. Выбор границы для определения аномальных пользователей."
   ]
  },
  {
   "cell_type": "code",
   "execution_count": 26,
   "metadata": {
    "scrolled": false
   },
   "outputs": [
    {
     "name": "stdout",
     "output_type": "stream",
     "text": [
      "90 перцентиль: 1.00\n",
      "95 перцентиль: 2.00\n",
      "99 перцентиль: 4.00\n"
     ]
    }
   ],
   "source": [
    "print('90 перцентиль: %.2f' % (np.percentile(orders_user['orders'], [90])))\n",
    "print('95 перцентиль: %.2f' % (np.percentile(orders_user['orders'], [95])))\n",
    "print('99 перцентиль: %.2f' % (np.percentile(orders_user['orders'], [99])))"
   ]
  },
  {
   "cell_type": "code",
   "execution_count": 27,
   "metadata": {},
   "outputs": [],
   "source": [
    "orders_user_new = orders_user[orders_user['orders'] >= 4]['visitorid'].to_list()"
   ]
  },
  {
   "cell_type": "markdown",
   "metadata": {},
   "source": [
    "Будем считать что всё что выше 4 это аномалии, то есть за пределами 99 процентиля"
   ]
  },
  {
   "cell_type": "markdown",
   "metadata": {},
   "source": [
    "<a name=\"stage_2_8\"></a>\n",
    "### Постройте точечный график стоимостей заказов."
   ]
  },
  {
   "cell_type": "code",
   "execution_count": 28,
   "metadata": {
    "scrolled": false
   },
   "outputs": [
    {
     "data": {
      "image/png": "[encoded data removed]",
      "text/plain": [
       "<Figure size 1000x800 with 1 Axes>"
      ]
     },
     "metadata": {},
     "output_type": "display_data"
    }
   ],
   "source": [
    "x_values = pd.Series(range(0,len(orders['revenue'])))\n",
    "plt.scatter(x_values, orders['revenue'], color='red')\n",
    "plt.title('График стоимости заказов')\n",
    "plt.ylabel(\"Выручка с заказа\")\n",
    "plt.show()"
   ]
  },
  {
   "cell_type": "markdown",
   "metadata": {},
   "source": [
    "#### Выводы и предположения."
   ]
  },
  {
   "cell_type": "markdown",
   "metadata": {},
   "source": [
    "Здесь явные выбросы. Один, самый сильный как раз и мог повлиять на всю картину на графиках выше. "
   ]
  },
  {
   "cell_type": "markdown",
   "metadata": {},
   "source": [
    "<a name=\"stage_2_9\"></a>\n",
    "### Подсчёт 95-го и 99-го перцентиля стоимости заказов. Выбор границы для определения аномальных заказов."
   ]
  },
  {
   "cell_type": "code",
   "execution_count": 29,
   "metadata": {
    "scrolled": false
   },
   "outputs": [
    {
     "name": "stdout",
     "output_type": "stream",
     "text": [
      "90 перцентиль: 18168.00\n",
      "95 перцентиль: 28000.00\n",
      "99 перцентиль: 58233.20\n"
     ]
    }
   ],
   "source": [
    "print('90 перцентиль: %.2f' % (np.percentile(orders['revenue'], [90])))\n",
    "print('95 перцентиль: %.2f' % (np.percentile(orders['revenue'], [95])))\n",
    "print('99 перцентиль: %.2f' % (np.percentile(orders['revenue'], [99])))"
   ]
  },
  {
   "cell_type": "code",
   "execution_count": 30,
   "metadata": {},
   "outputs": [
    {
     "data": {
      "text/plain": [
       "1294500"
      ]
     },
     "execution_count": 30,
     "metadata": {},
     "output_type": "execute_result"
    }
   ],
   "source": [
    "orders['revenue'].max()"
   ]
  },
  {
   "cell_type": "markdown",
   "metadata": {},
   "source": [
    "Все, что за 99 перцентилем — будем считать аномалией."
   ]
  },
  {
   "cell_type": "markdown",
   "metadata": {},
   "source": [
    "<a name=\"stage_2_10\"></a>\n",
    "### Подсчёт статистической значимости различий в среднем количестве заказов на посетителя между группами по «сырым» данным."
   ]
  },
  {
   "cell_type": "markdown",
   "metadata": {},
   "source": [
    "<p>Воспользуемся критерием Манна-Уитни.</p>\n",
    "<p>H0: Конверсия в группе A равна конверсии в группе B</p>\n",
    "<p>H1: Конверсия в группе A НЕ равна конверсии в группе B</p>"
   ]
  },
  {
   "cell_type": "code",
   "execution_count": 31,
   "metadata": {},
   "outputs": [
    {
     "name": "stdout",
     "output_type": "stream",
     "text": [
      "0.011\n",
      "0.149\n"
     ]
    }
   ],
   "source": [
    "ordersByUsersA = (\n",
    "    orders[orders['group'] == 'A']\n",
    "    .groupby('visitorid', as_index=False)\n",
    "    .agg({'transactionid': pd.Series.nunique})\n",
    ")\n",
    "ordersByUsersA.columns = ['visitorid', 'orders']\n",
    "\n",
    "ordersByUsersB = (\n",
    "    orders[orders['group'] == 'B']\n",
    "    .groupby('visitorid', as_index=False)\n",
    "    .agg({'transactionid': pd.Series.nunique})\n",
    ")\n",
    "ordersByUsersB.columns = ['visitorid', 'orders']\n",
    "\n",
    "sampleA = pd.concat(\n",
    "    [\n",
    "        ordersByUsersA['orders'],\n",
    "        pd.Series(\n",
    "            0,\n",
    "            index=np.arange(\n",
    "                visitors['visitors'].sum() - len(ordersByUsersA['orders'])\n",
    "            ),\n",
    "            name='orders',\n",
    "        ),\n",
    "    ],\n",
    "    axis=0,\n",
    ")\n",
    "\n",
    "sampleB = pd.concat(\n",
    "    [\n",
    "        ordersByUsersB['orders'],\n",
    "        pd.Series(\n",
    "            0,\n",
    "            index=np.arange(\n",
    "                visitors['visitors'].sum() - len(ordersByUsersB['orders'])\n",
    "            ),\n",
    "            name='orders',\n",
    "        ),\n",
    "    ],\n",
    "    axis=0,\n",
    ")\n",
    "\n",
    "print(\"{0:.3f}\".format(stats.mannwhitneyu(sampleA, sampleB)[1]))\n",
    "\n",
    "print(\"{0:.3f}\".format(sampleB.mean() / sampleA.mean() - 1))"
   ]
  },
  {
   "cell_type": "code",
   "execution_count": 32,
   "metadata": {},
   "outputs": [
    {
     "name": "stdout",
     "output_type": "stream",
     "text": [
      "p-значение:  0.011308079133840975\n",
      "Отвергаем H0: разница статистически значима\n",
      "Средняя конверсия группы А: 1.5%\n",
      "Средняя конверсия группы B: 1.7%\n"
     ]
    }
   ],
   "source": [
    "alpha = 0.05\n",
    "results = st.mannwhitneyu(sampleA, sampleB)\n",
    "pvalue = results.pvalue\n",
    "print('p-значение: ', pvalue)\n",
    "if (pvalue < alpha):\n",
    "    print(\"Отвергаем H0: разница статистически значима\")\n",
    "else:\n",
    "    print(\"Не получилось отвергнуть H0: вывод о различии сделать нельзя\")\n",
    "print('Средняя конверсия группы А: {:.1%}'.format(sampleA.mean()))\n",
    "print('Средняя конверсия группы B: {:.1%}'.format(sampleB.mean()))"
   ]
  },
  {
   "cell_type": "markdown",
   "metadata": {},
   "source": [
    "#### Выводы и предположения."
   ]
  },
  {
   "cell_type": "markdown",
   "metadata": {},
   "source": [
    "Конверсии А и В не равны. В больше А. Отвергаем H0"
   ]
  },
  {
   "cell_type": "markdown",
   "metadata": {},
   "source": [
    "<a name=\"stage_2_11\"></a>\n",
    "### Подсчёт статистической значимости различий в среднем чеке заказа между группами по «сырым» данным."
   ]
  },
  {
   "cell_type": "markdown",
   "metadata": {},
   "source": [
    "<p>Воспользуемся критерием Манна-Уитни</p>\n",
    "<p>H0: Средний чек A НЕ больше среднего чека группы B</p>\n",
    "<p>H1: Средний чек A больше среднего чека группы B</p>"
   ]
  },
  {
   "cell_type": "code",
   "execution_count": 33,
   "metadata": {},
   "outputs": [
    {
     "name": "stdout",
     "output_type": "stream",
     "text": [
      "p-значение:  0.7292909855432458\n",
      "Не получилось отвергнуть H0: вывод о различии сделать нельзя\n"
     ]
    }
   ],
   "source": [
    "\n",
    "alpha = 0.05\n",
    "results = st.mannwhitneyu(orders[orders['group']=='A']['revenue'], orders[orders['group']=='B']['revenue'])\n",
    "pvalue = results.pvalue\n",
    "print('p-значение: ', pvalue)\n",
    "if (pvalue < alpha):\n",
    "    print(\"Отвергаем H0: разница статистически значима\")\n",
    "else:\n",
    "    print(\"Не получилось отвергнуть H0: вывод о различии сделать нельзя\")"
   ]
  },
  {
   "cell_type": "code",
   "execution_count": 34,
   "metadata": {},
   "outputs": [
    {
     "data": {
      "text/plain": [
       "7333.578096947936"
      ]
     },
     "execution_count": 34,
     "metadata": {},
     "output_type": "execute_result"
    }
   ],
   "source": [
    "orders[orders['group']=='A']['revenue'].mean()"
   ]
  },
  {
   "cell_type": "code",
   "execution_count": 35,
   "metadata": {},
   "outputs": [
    {
     "data": {
      "text/plain": [
       "9230.875"
      ]
     },
     "execution_count": 35,
     "metadata": {},
     "output_type": "execute_result"
    }
   ],
   "source": [
    "orders[orders['group']=='B']['revenue'].mean()"
   ]
  },
  {
   "cell_type": "markdown",
   "metadata": {},
   "source": [
    "#### Выводы и предположения."
   ]
  },
  {
   "cell_type": "markdown",
   "metadata": {},
   "source": [
    "Гипотезу не отвергаем."
   ]
  },
  {
   "cell_type": "markdown",
   "metadata": {},
   "source": [
    "<a name=\"stage_2_12\"></a>\n",
    "### Подсчёт статистической значимости различий в среднем количестве заказов на посетителя между группами по «очищенным» данным."
   ]
  },
  {
   "cell_type": "code",
   "execution_count": 36,
   "metadata": {},
   "outputs": [],
   "source": [
    "orders_two = orders[~orders['visitorid'].isin(orders_user_new)]\n",
    "conversion_clear = (orders_two.groupby('group').agg({'transactionid':'count'}).rename(columns={'transactionid':'orders'}))\\\n",
    "                                                .join((visitors.groupby('group').agg({'visitors':'sum'}))).reset_index()"
   ]
  },
  {
   "cell_type": "code",
   "execution_count": 37,
   "metadata": {},
   "outputs": [
    {
     "data": {
      "text/plain": [
       "[199603092,\n",
       " 237748145,\n",
       " 457167155,\n",
       " 1230306981,\n",
       " 1614305549,\n",
       " 2038680547,\n",
       " 2378935119,\n",
       " 2458001652,\n",
       " 2587333274,\n",
       " 3062433592,\n",
       " 3717692402,\n",
       " 3803269165,\n",
       " 4256040402]"
      ]
     },
     "execution_count": 37,
     "metadata": {},
     "output_type": "execute_result"
    }
   ],
   "source": [
    "orders_user[orders_user['orders'] >= 4]['visitorid'].to_list()"
   ]
  },
  {
   "cell_type": "code",
   "execution_count": 38,
   "metadata": {},
   "outputs": [
    {
     "data": {
      "text/html": [
       "<div>\n",
       "<style scoped>\n",
       "    .dataframe tbody tr th:only-of-type {\n",
       "        vertical-align: middle;\n",
       "    }\n",
       "\n",
       "    .dataframe tbody tr th {\n",
       "        vertical-align: top;\n",
       "    }\n",
       "\n",
       "    .dataframe thead th {\n",
       "        text-align: right;\n",
       "    }\n",
       "</style>\n",
       "<table border=\"1\" class=\"dataframe\">\n",
       "  <thead>\n",
       "    <tr style=\"text-align: right;\">\n",
       "      <th></th>\n",
       "      <th>transactionid</th>\n",
       "      <th>visitorid</th>\n",
       "      <th>date</th>\n",
       "      <th>revenue</th>\n",
       "      <th>group</th>\n",
       "    </tr>\n",
       "  </thead>\n",
       "  <tbody>\n",
       "    <tr>\n",
       "      <th>0</th>\n",
       "      <td>3667963787</td>\n",
       "      <td>3312258926</td>\n",
       "      <td>2019-08-15</td>\n",
       "      <td>1650</td>\n",
       "      <td>B</td>\n",
       "    </tr>\n",
       "    <tr>\n",
       "      <th>1</th>\n",
       "      <td>2804400009</td>\n",
       "      <td>3642806036</td>\n",
       "      <td>2019-08-15</td>\n",
       "      <td>730</td>\n",
       "      <td>B</td>\n",
       "    </tr>\n",
       "    <tr>\n",
       "      <th>2</th>\n",
       "      <td>2961555356</td>\n",
       "      <td>4069496402</td>\n",
       "      <td>2019-08-15</td>\n",
       "      <td>400</td>\n",
       "      <td>A</td>\n",
       "    </tr>\n",
       "    <tr>\n",
       "      <th>3</th>\n",
       "      <td>3797467345</td>\n",
       "      <td>1196621759</td>\n",
       "      <td>2019-08-15</td>\n",
       "      <td>9759</td>\n",
       "      <td>B</td>\n",
       "    </tr>\n",
       "    <tr>\n",
       "      <th>4</th>\n",
       "      <td>2282983706</td>\n",
       "      <td>2322279887</td>\n",
       "      <td>2019-08-15</td>\n",
       "      <td>2308</td>\n",
       "      <td>B</td>\n",
       "    </tr>\n",
       "    <tr>\n",
       "      <th>...</th>\n",
       "      <td>...</td>\n",
       "      <td>...</td>\n",
       "      <td>...</td>\n",
       "      <td>...</td>\n",
       "      <td>...</td>\n",
       "    </tr>\n",
       "    <tr>\n",
       "      <th>1191</th>\n",
       "      <td>3592955527</td>\n",
       "      <td>608641596</td>\n",
       "      <td>2019-08-14</td>\n",
       "      <td>16490</td>\n",
       "      <td>B</td>\n",
       "    </tr>\n",
       "    <tr>\n",
       "      <th>1192</th>\n",
       "      <td>2662137336</td>\n",
       "      <td>3733762160</td>\n",
       "      <td>2019-08-14</td>\n",
       "      <td>6490</td>\n",
       "      <td>B</td>\n",
       "    </tr>\n",
       "    <tr>\n",
       "      <th>1193</th>\n",
       "      <td>2203539145</td>\n",
       "      <td>370388673</td>\n",
       "      <td>2019-08-14</td>\n",
       "      <td>3190</td>\n",
       "      <td>A</td>\n",
       "    </tr>\n",
       "    <tr>\n",
       "      <th>1194</th>\n",
       "      <td>1807773912</td>\n",
       "      <td>573423106</td>\n",
       "      <td>2019-08-14</td>\n",
       "      <td>10550</td>\n",
       "      <td>A</td>\n",
       "    </tr>\n",
       "    <tr>\n",
       "      <th>1196</th>\n",
       "      <td>3936777065</td>\n",
       "      <td>2108080724</td>\n",
       "      <td>2019-08-15</td>\n",
       "      <td>202740</td>\n",
       "      <td>B</td>\n",
       "    </tr>\n",
       "  </tbody>\n",
       "</table>\n",
       "<p>1116 rows × 5 columns</p>\n",
       "</div>"
      ],
      "text/plain": [
       "      transactionid   visitorid       date  revenue group\n",
       "0     3667963787     3312258926 2019-08-15  1650     B   \n",
       "1     2804400009     3642806036 2019-08-15  730      B   \n",
       "2     2961555356     4069496402 2019-08-15  400      A   \n",
       "3     3797467345     1196621759 2019-08-15  9759     B   \n",
       "4     2282983706     2322279887 2019-08-15  2308     B   \n",
       "...          ...            ...        ...   ...    ..   \n",
       "1191  3592955527     608641596  2019-08-14  16490    B   \n",
       "1192  2662137336     3733762160 2019-08-14  6490     B   \n",
       "1193  2203539145     370388673  2019-08-14  3190     A   \n",
       "1194  1807773912     573423106  2019-08-14  10550    A   \n",
       "1196  3936777065     2108080724 2019-08-15  202740   B   \n",
       "\n",
       "[1116 rows x 5 columns]"
      ]
     },
     "execution_count": 38,
     "metadata": {},
     "output_type": "execute_result"
    }
   ],
   "source": [
    "orders_two"
   ]
  },
  {
   "cell_type": "markdown",
   "metadata": {},
   "source": [
    "<p>Воспользуемся критерием Манна-Уитни.</p>\n",
    "<p>H0: Конверсия в группе A равна конверсии в группе B</p>\n",
    "<p>H1: Конверсия в группе A НЕ равна конверсии в группе B</p>"
   ]
  },
  {
   "cell_type": "code",
   "execution_count": 39,
   "metadata": {},
   "outputs": [
    {
     "name": "stdout",
     "output_type": "stream",
     "text": [
      "0.010\n",
      "0.159\n"
     ]
    }
   ],
   "source": [
    "ordersByUsersA = (\n",
    "    orders_two[orders_two['group'] == 'A']\n",
    "    .groupby('visitorid', as_index=False)\n",
    "    .agg({'transactionid': pd.Series.nunique})\n",
    ")\n",
    "ordersByUsersA.columns = ['visitorid', 'orders']\n",
    "\n",
    "ordersByUsersB = (\n",
    "    orders_two[orders_two['group'] == 'B']\n",
    "    .groupby('visitorid', as_index=False)\n",
    "    .agg({'transactionid': pd.Series.nunique})\n",
    ")\n",
    "ordersByUsersB.columns = ['visitorid', 'orders']\n",
    "\n",
    "sampleA = pd.concat(\n",
    "    [\n",
    "        ordersByUsersA['orders'],\n",
    "        pd.Series(\n",
    "            0,\n",
    "            index=np.arange(\n",
    "                visitors['visitors'].sum() - len(ordersByUsersA['orders'])\n",
    "            ),\n",
    "            name='orders',\n",
    "        ),\n",
    "    ],\n",
    "    axis=0,\n",
    ")\n",
    "\n",
    "sampleB = pd.concat(\n",
    "    [\n",
    "        ordersByUsersB['orders'],\n",
    "        pd.Series(\n",
    "            0,\n",
    "            index=np.arange(\n",
    "                visitors['visitors'].sum() - len(ordersByUsersB['orders'])\n",
    "            ),\n",
    "            name='orders',\n",
    "        ),\n",
    "    ],\n",
    "    axis=0,\n",
    ")\n",
    "\n",
    "print(\"{0:.3f}\".format(stats.mannwhitneyu(sampleA, sampleB)[1]))\n",
    "\n",
    "print(\"{0:.3f}\".format(sampleB.mean() / sampleA.mean() - 1))"
   ]
  },
  {
   "cell_type": "code",
   "execution_count": 40,
   "metadata": {},
   "outputs": [
    {
     "name": "stdout",
     "output_type": "stream",
     "text": [
      "p-значение:  0.01037420979651125\n",
      "Отвергаем H0: разница статистически значима\n",
      "Средняя конверсия группы А: 1.4%\n",
      "Средняя конверсия группы B: 1.6%\n"
     ]
    }
   ],
   "source": [
    "alpha = 0.05\n",
    "results = st.mannwhitneyu(sampleA, sampleB)\n",
    "pvalue = results.pvalue\n",
    "print('p-значение: ', pvalue)\n",
    "if (pvalue < alpha):\n",
    "    print(\"Отвергаем H0: разница статистически значима\")\n",
    "else:\n",
    "    print(\"Не получилось отвергнуть H0: вывод о различии сделать нельзя\")\n",
    "print('Средняя конверсия группы А: {:.1%}'.format(sampleA.mean()))\n",
    "print('Средняя конверсия группы B: {:.1%}'.format(sampleB.mean()))"
   ]
  },
  {
   "cell_type": "markdown",
   "metadata": {},
   "source": [
    "#### Выводы и предположения."
   ]
  },
  {
   "cell_type": "markdown",
   "metadata": {},
   "source": [
    "B-конверсия превышает конверсию А. Результат стат. значим. "
   ]
  },
  {
   "cell_type": "markdown",
   "metadata": {},
   "source": [
    "<a name=\"stage_2_13\"></a>\n",
    "### Подсчёт статистической значимости различий в среднем чеке заказа между группами по «очищенным» данным."
   ]
  },
  {
   "cell_type": "code",
   "execution_count": 41,
   "metadata": {},
   "outputs": [],
   "source": [
    "orders_cl = orders.query('revenue <= 58233')"
   ]
  },
  {
   "cell_type": "markdown",
   "metadata": {},
   "source": [
    "<p>Воспользуемся критерием Манна-Уитни</p>\n",
    "<p>H0: Средний чек A не выше среднего чека группы B</p>\n",
    "<p>H1: Средний чек A выше среднего чека группы B</p>"
   ]
  },
  {
   "cell_type": "code",
   "execution_count": 42,
   "metadata": {},
   "outputs": [
    {
     "name": "stdout",
     "output_type": "stream",
     "text": [
      "p-значение:  0.6208626966847455\n",
      "Не получилось отвергнуть H0: вывод о различии сделать нельзя\n"
     ]
    }
   ],
   "source": [
    "alpha = 0.05\n",
    "results = st.mannwhitneyu(orders_cl[orders_cl['group']=='A']['revenue'], orders_cl[orders_cl['group']=='B']['revenue'])\n",
    "pvalue = results.pvalue\n",
    "print('p-значение: ', pvalue)\n",
    "if (pvalue < alpha):\n",
    "    print(\"Отвергаем H0: разница статистически значима\")\n",
    "else:\n",
    "    print(\"Не получилось отвергнуть H0: вывод о различии сделать нельзя\")"
   ]
  },
  {
   "cell_type": "markdown",
   "metadata": {},
   "source": [
    "#### Выводы и предположения."
   ]
  },
  {
   "cell_type": "markdown",
   "metadata": {},
   "source": [
    "Разница не такая значительная по итогу текста, чтобы отвергнуть гипотезу. "
   ]
  },
  {
   "cell_type": "markdown",
   "metadata": {},
   "source": [
    "<a name=\"stage_2_14\"></a>\n",
    "### Решение по результатам теста и объяснение. \n"
   ]
  },
  {
   "cell_type": "markdown",
   "metadata": {},
   "source": [
    "- Нет статистически значимого различия по среднему чеку между группами ни по «сырым», ни по данным после фильтрации аномалий. При этом средний чек группы В выше (на \"очищенных\" данных - на ~2%);\n",
    "\n",
    "- График относительного изменения кумулятивной конверсии группы B к группе A показывает, что результаты группы В стабильно лучше группы А"
   ]
  },
  {
   "cell_type": "markdown",
   "metadata": {},
   "source": [
    "**Рекомендуем остановить тест, зафиксировав победу группы B (ее конверсия значительно выше конверсии группы А).**"
   ]
  }
 ],
 "metadata": {
  "ExecuteTimeLog": [
   {
    "duration": 90,
    "start_time": "2023-02-07T17:55:26.241Z"
   },
   {
    "duration": 1468,
    "start_time": "2023-02-08T18:26:50.391Z"
   },
   {
    "duration": 3,
    "start_time": "2023-02-08T18:26:59.551Z"
   },
   {
    "duration": 242,
    "start_time": "2023-02-08T18:27:33.553Z"
   },
   {
    "duration": 50,
    "start_time": "2023-02-08T18:47:13.606Z"
   },
   {
    "duration": 8,
    "start_time": "2023-02-08T18:48:19.793Z"
   },
   {
    "duration": 107,
    "start_time": "2023-02-08T18:50:50.328Z"
   },
   {
    "duration": 3,
    "start_time": "2023-02-08T18:51:11.063Z"
   },
   {
    "duration": 6,
    "start_time": "2023-02-08T18:51:18.058Z"
   },
   {
    "duration": 7,
    "start_time": "2023-02-08T18:51:30.371Z"
   },
   {
    "duration": 11,
    "start_time": "2023-02-08T18:51:46.634Z"
   },
   {
    "duration": 15,
    "start_time": "2023-02-08T18:52:41.027Z"
   },
   {
    "duration": 336,
    "start_time": "2023-02-08T18:52:47.372Z"
   },
   {
    "duration": 6,
    "start_time": "2023-02-08T18:57:52.665Z"
   },
   {
    "duration": 12,
    "start_time": "2023-02-08T18:58:05.390Z"
   },
   {
    "duration": 314,
    "start_time": "2023-02-08T18:58:53.760Z"
   },
   {
    "duration": 25,
    "start_time": "2023-02-08T19:08:31.478Z"
   },
   {
    "duration": 17,
    "start_time": "2023-02-08T19:09:48.753Z"
   },
   {
    "duration": 24,
    "start_time": "2023-02-08T19:10:57.993Z"
   },
   {
    "duration": 17,
    "start_time": "2023-02-08T19:11:09.869Z"
   },
   {
    "duration": 5,
    "start_time": "2023-02-08T19:11:45.284Z"
   },
   {
    "duration": 5,
    "start_time": "2023-02-08T19:12:14.518Z"
   },
   {
    "duration": 10,
    "start_time": "2023-02-08T19:12:26.947Z"
   },
   {
    "duration": 364,
    "start_time": "2023-02-08T19:14:12.829Z"
   },
   {
    "duration": 296,
    "start_time": "2023-02-08T19:17:36.907Z"
   },
   {
    "duration": 1257,
    "start_time": "2023-02-09T04:35:03.304Z"
   },
   {
    "duration": 4,
    "start_time": "2023-02-09T04:35:04.566Z"
   },
   {
    "duration": 196,
    "start_time": "2023-02-09T04:35:04.574Z"
   },
   {
    "duration": 42,
    "start_time": "2023-02-09T04:35:04.772Z"
   },
   {
    "duration": 4,
    "start_time": "2023-02-09T04:35:04.816Z"
   },
   {
    "duration": 10,
    "start_time": "2023-02-09T04:35:04.821Z"
   },
   {
    "duration": 22,
    "start_time": "2023-02-09T04:35:04.832Z"
   },
   {
    "duration": 374,
    "start_time": "2023-02-09T04:35:04.856Z"
   },
   {
    "duration": 12,
    "start_time": "2023-02-09T04:35:05.232Z"
   },
   {
    "duration": 349,
    "start_time": "2023-02-09T04:35:05.246Z"
   },
   {
    "duration": 22,
    "start_time": "2023-02-09T04:35:05.597Z"
   },
   {
    "duration": 43,
    "start_time": "2023-02-09T04:35:05.621Z"
   },
   {
    "duration": 16,
    "start_time": "2023-02-09T04:35:05.665Z"
   },
   {
    "duration": 15,
    "start_time": "2023-02-09T04:35:05.684Z"
   },
   {
    "duration": 15,
    "start_time": "2023-02-09T04:35:05.701Z"
   },
   {
    "duration": 394,
    "start_time": "2023-02-09T04:35:05.718Z"
   },
   {
    "duration": 318,
    "start_time": "2023-02-09T04:35:06.114Z"
   },
   {
    "duration": 121,
    "start_time": "2023-02-09T04:37:15.719Z"
   },
   {
    "duration": 15,
    "start_time": "2023-02-09T04:37:33.679Z"
   },
   {
    "duration": 777,
    "start_time": "2023-02-09T04:37:45.914Z"
   },
   {
    "duration": 435,
    "start_time": "2023-02-09T04:38:25.021Z"
   },
   {
    "duration": 58,
    "start_time": "2023-02-09T05:04:27.504Z"
   },
   {
    "duration": 383,
    "start_time": "2023-02-09T05:10:54.759Z"
   },
   {
    "duration": 559,
    "start_time": "2023-02-09T05:13:55.167Z"
   },
   {
    "duration": 7,
    "start_time": "2023-02-09T05:21:30.976Z"
   },
   {
    "duration": 12,
    "start_time": "2023-02-09T05:21:51.988Z"
   },
   {
    "duration": 273,
    "start_time": "2023-02-09T05:22:16.280Z"
   },
   {
    "duration": 255,
    "start_time": "2023-02-09T05:22:25.396Z"
   },
   {
    "duration": 8,
    "start_time": "2023-02-09T05:31:58.871Z"
   },
   {
    "duration": 6,
    "start_time": "2023-02-09T06:02:12.180Z"
   },
   {
    "duration": 272,
    "start_time": "2023-02-09T06:02:49.411Z"
   },
   {
    "duration": 62,
    "start_time": "2023-02-09T06:04:38.583Z"
   },
   {
    "duration": 7,
    "start_time": "2023-02-09T06:05:21.029Z"
   },
   {
    "duration": 1459,
    "start_time": "2023-02-09T06:06:10.374Z"
   },
   {
    "duration": 6,
    "start_time": "2023-02-09T06:06:39.427Z"
   },
   {
    "duration": 5,
    "start_time": "2023-02-09T06:08:50.800Z"
   },
   {
    "duration": 18,
    "start_time": "2023-02-09T06:25:13.780Z"
   },
   {
    "duration": 20,
    "start_time": "2023-02-09T06:25:43.527Z"
   },
   {
    "duration": 13,
    "start_time": "2023-02-09T06:27:08.582Z"
   },
   {
    "duration": 1313,
    "start_time": "2023-02-09T17:58:19.315Z"
   },
   {
    "duration": 3,
    "start_time": "2023-02-09T17:58:20.630Z"
   },
   {
    "duration": 246,
    "start_time": "2023-02-09T17:58:20.634Z"
   },
   {
    "duration": 38,
    "start_time": "2023-02-09T17:58:20.882Z"
   },
   {
    "duration": 4,
    "start_time": "2023-02-09T17:58:20.922Z"
   },
   {
    "duration": 14,
    "start_time": "2023-02-09T17:58:20.927Z"
   },
   {
    "duration": 12,
    "start_time": "2023-02-09T17:58:20.942Z"
   },
   {
    "duration": 353,
    "start_time": "2023-02-09T17:58:20.955Z"
   },
   {
    "duration": 10,
    "start_time": "2023-02-09T17:58:21.310Z"
   },
   {
    "duration": 312,
    "start_time": "2023-02-09T17:58:21.322Z"
   },
   {
    "duration": 27,
    "start_time": "2023-02-09T17:58:21.635Z"
   },
   {
    "duration": 13,
    "start_time": "2023-02-09T17:58:21.664Z"
   },
   {
    "duration": 6,
    "start_time": "2023-02-09T17:58:21.678Z"
   },
   {
    "duration": 5,
    "start_time": "2023-02-09T17:58:21.688Z"
   },
   {
    "duration": 12,
    "start_time": "2023-02-09T17:58:21.694Z"
   },
   {
    "duration": 362,
    "start_time": "2023-02-09T17:58:21.708Z"
   },
   {
    "duration": 279,
    "start_time": "2023-02-09T17:58:22.072Z"
   },
   {
    "duration": 425,
    "start_time": "2023-02-09T17:58:22.353Z"
   },
   {
    "duration": 286,
    "start_time": "2023-02-09T17:58:22.780Z"
   },
   {
    "duration": 385,
    "start_time": "2023-02-09T17:58:23.068Z"
   },
   {
    "duration": 11,
    "start_time": "2023-02-09T17:58:23.455Z"
   },
   {
    "duration": 227,
    "start_time": "2023-02-09T17:58:23.468Z"
   },
   {
    "duration": 5,
    "start_time": "2023-02-09T17:58:23.697Z"
   },
   {
    "duration": 11,
    "start_time": "2023-02-09T17:58:23.703Z"
   },
   {
    "duration": 188,
    "start_time": "2023-02-09T17:58:23.715Z"
   },
   {
    "duration": 6,
    "start_time": "2023-02-09T17:58:23.904Z"
   },
   {
    "duration": 7,
    "start_time": "2023-02-09T17:58:23.911Z"
   },
   {
    "duration": 29,
    "start_time": "2023-02-09T17:58:23.919Z"
   },
   {
    "duration": 6,
    "start_time": "2023-02-09T17:58:23.950Z"
   },
   {
    "duration": 8,
    "start_time": "2023-02-09T18:02:18.317Z"
   },
   {
    "duration": 8,
    "start_time": "2023-02-09T18:03:50.119Z"
   },
   {
    "duration": 9,
    "start_time": "2023-02-09T18:25:24.038Z"
   },
   {
    "duration": 104,
    "start_time": "2023-02-09T18:47:25.021Z"
   },
   {
    "duration": 13,
    "start_time": "2023-02-09T18:47:41.416Z"
   },
   {
    "duration": 11,
    "start_time": "2023-02-09T18:48:00.308Z"
   },
   {
    "duration": 9,
    "start_time": "2023-02-09T21:22:01.686Z"
   },
   {
    "duration": 9,
    "start_time": "2023-02-09T21:25:56.758Z"
   },
   {
    "duration": 9,
    "start_time": "2023-02-09T21:26:09.613Z"
   },
   {
    "duration": 10,
    "start_time": "2023-02-09T21:26:18.959Z"
   },
   {
    "duration": 10,
    "start_time": "2023-02-09T21:26:54.041Z"
   },
   {
    "duration": 8,
    "start_time": "2023-02-09T21:27:35.064Z"
   },
   {
    "duration": 11,
    "start_time": "2023-02-09T21:27:36.396Z"
   },
   {
    "duration": 1423,
    "start_time": "2023-02-10T17:16:49.937Z"
   },
   {
    "duration": 4,
    "start_time": "2023-02-10T17:16:51.363Z"
   },
   {
    "duration": 271,
    "start_time": "2023-02-10T17:16:51.369Z"
   },
   {
    "duration": 46,
    "start_time": "2023-02-10T17:16:51.642Z"
   },
   {
    "duration": 5,
    "start_time": "2023-02-10T17:16:51.691Z"
   },
   {
    "duration": 16,
    "start_time": "2023-02-10T17:16:51.697Z"
   },
   {
    "duration": 22,
    "start_time": "2023-02-10T17:16:51.715Z"
   },
   {
    "duration": 425,
    "start_time": "2023-02-10T17:16:51.739Z"
   },
   {
    "duration": 12,
    "start_time": "2023-02-10T17:16:52.166Z"
   },
   {
    "duration": 371,
    "start_time": "2023-02-10T17:16:52.180Z"
   },
   {
    "duration": 23,
    "start_time": "2023-02-10T17:16:52.552Z"
   },
   {
    "duration": 16,
    "start_time": "2023-02-10T17:16:52.577Z"
   },
   {
    "duration": 37,
    "start_time": "2023-02-10T17:16:52.595Z"
   },
   {
    "duration": 6,
    "start_time": "2023-02-10T17:16:52.642Z"
   },
   {
    "duration": 17,
    "start_time": "2023-02-10T17:16:52.650Z"
   },
   {
    "duration": 528,
    "start_time": "2023-02-10T17:16:52.669Z"
   },
   {
    "duration": 355,
    "start_time": "2023-02-10T17:16:53.198Z"
   },
   {
    "duration": 466,
    "start_time": "2023-02-10T17:16:53.555Z"
   },
   {
    "duration": 384,
    "start_time": "2023-02-10T17:16:54.023Z"
   },
   {
    "duration": 550,
    "start_time": "2023-02-10T17:16:54.409Z"
   },
   {
    "duration": 15,
    "start_time": "2023-02-10T17:16:54.961Z"
   },
   {
    "duration": 356,
    "start_time": "2023-02-10T17:16:54.978Z"
   },
   {
    "duration": 6,
    "start_time": "2023-02-10T17:16:55.336Z"
   },
   {
    "duration": 8,
    "start_time": "2023-02-10T17:16:55.344Z"
   },
   {
    "duration": 208,
    "start_time": "2023-02-10T17:16:55.354Z"
   },
   {
    "duration": 6,
    "start_time": "2023-02-10T17:16:55.565Z"
   },
   {
    "duration": 12,
    "start_time": "2023-02-10T17:16:55.573Z"
   },
   {
    "duration": 49,
    "start_time": "2023-02-10T17:16:55.586Z"
   },
   {
    "duration": 10,
    "start_time": "2023-02-10T17:16:55.637Z"
   },
   {
    "duration": 16,
    "start_time": "2023-02-10T17:16:55.649Z"
   },
   {
    "duration": 15,
    "start_time": "2023-02-10T17:16:55.667Z"
   },
   {
    "duration": 12,
    "start_time": "2023-02-10T17:16:55.684Z"
   },
   {
    "duration": 12,
    "start_time": "2023-02-10T17:16:55.698Z"
   },
   {
    "duration": 9,
    "start_time": "2023-02-10T17:16:55.723Z"
   },
   {
    "duration": 19,
    "start_time": "2023-02-10T17:16:55.733Z"
   },
   {
    "duration": 1297,
    "start_time": "2023-02-10T17:57:26.316Z"
   },
   {
    "duration": 2,
    "start_time": "2023-02-10T17:57:27.615Z"
   },
   {
    "duration": 96,
    "start_time": "2023-02-10T17:57:27.620Z"
   },
   {
    "duration": 56,
    "start_time": "2023-02-10T17:57:27.718Z"
   },
   {
    "duration": 4,
    "start_time": "2023-02-10T17:57:27.777Z"
   },
   {
    "duration": 12,
    "start_time": "2023-02-10T17:57:27.783Z"
   },
   {
    "duration": 22,
    "start_time": "2023-02-10T17:57:27.827Z"
   },
   {
    "duration": 433,
    "start_time": "2023-02-10T17:57:27.851Z"
   },
   {
    "duration": 14,
    "start_time": "2023-02-10T17:57:28.287Z"
   },
   {
    "duration": 372,
    "start_time": "2023-02-10T17:57:28.305Z"
   },
   {
    "duration": 23,
    "start_time": "2023-02-10T17:57:28.679Z"
   },
   {
    "duration": 33,
    "start_time": "2023-02-10T17:57:28.704Z"
   },
   {
    "duration": 6,
    "start_time": "2023-02-10T17:57:28.739Z"
   },
   {
    "duration": 7,
    "start_time": "2023-02-10T17:57:28.746Z"
   },
   {
    "duration": 12,
    "start_time": "2023-02-10T17:57:28.755Z"
   },
   {
    "duration": 436,
    "start_time": "2023-02-10T17:57:28.769Z"
   },
   {
    "duration": 353,
    "start_time": "2023-02-10T17:57:29.207Z"
   },
   {
    "duration": 402,
    "start_time": "2023-02-10T17:57:29.562Z"
   },
   {
    "duration": 368,
    "start_time": "2023-02-10T17:57:29.965Z"
   },
   {
    "duration": 419,
    "start_time": "2023-02-10T17:57:30.339Z"
   },
   {
    "duration": 11,
    "start_time": "2023-02-10T17:57:30.761Z"
   },
   {
    "duration": 291,
    "start_time": "2023-02-10T17:57:30.773Z"
   },
   {
    "duration": 6,
    "start_time": "2023-02-10T17:57:31.066Z"
   },
   {
    "duration": 21,
    "start_time": "2023-02-10T17:57:31.073Z"
   },
   {
    "duration": 202,
    "start_time": "2023-02-10T17:57:31.096Z"
   },
   {
    "duration": 6,
    "start_time": "2023-02-10T17:57:31.300Z"
   },
   {
    "duration": 18,
    "start_time": "2023-02-10T17:57:31.320Z"
   },
   {
    "duration": 19,
    "start_time": "2023-02-10T17:57:31.341Z"
   },
   {
    "duration": 24,
    "start_time": "2023-02-10T17:57:31.361Z"
   },
   {
    "duration": 13,
    "start_time": "2023-02-10T17:57:31.387Z"
   },
   {
    "duration": 14,
    "start_time": "2023-02-10T17:57:31.402Z"
   },
   {
    "duration": 18,
    "start_time": "2023-02-10T17:57:31.420Z"
   },
   {
    "duration": 14,
    "start_time": "2023-02-10T17:57:31.440Z"
   },
   {
    "duration": 12,
    "start_time": "2023-02-10T17:57:31.456Z"
   },
   {
    "duration": 15,
    "start_time": "2023-02-10T17:57:31.470Z"
   },
   {
    "duration": 1352,
    "start_time": "2023-02-11T05:23:49.101Z"
   },
   {
    "duration": 3,
    "start_time": "2023-02-11T05:23:50.454Z"
   },
   {
    "duration": 242,
    "start_time": "2023-02-11T05:23:50.459Z"
   },
   {
    "duration": 42,
    "start_time": "2023-02-11T05:23:50.703Z"
   },
   {
    "duration": 4,
    "start_time": "2023-02-11T05:23:50.747Z"
   },
   {
    "duration": 9,
    "start_time": "2023-02-11T05:23:50.752Z"
   },
   {
    "duration": 13,
    "start_time": "2023-02-11T05:23:50.762Z"
   },
   {
    "duration": 371,
    "start_time": "2023-02-11T05:23:50.776Z"
   },
   {
    "duration": 13,
    "start_time": "2023-02-11T05:23:51.149Z"
   },
   {
    "duration": 312,
    "start_time": "2023-02-11T05:23:51.163Z"
   },
   {
    "duration": 18,
    "start_time": "2023-02-11T05:23:51.476Z"
   },
   {
    "duration": 14,
    "start_time": "2023-02-11T05:23:51.495Z"
   },
   {
    "duration": 6,
    "start_time": "2023-02-11T05:23:51.510Z"
   },
   {
    "duration": 25,
    "start_time": "2023-02-11T05:23:51.518Z"
   },
   {
    "duration": 19,
    "start_time": "2023-02-11T05:23:51.544Z"
   },
   {
    "duration": 372,
    "start_time": "2023-02-11T05:23:51.564Z"
   },
   {
    "duration": 304,
    "start_time": "2023-02-11T05:23:51.938Z"
   },
   {
    "duration": 439,
    "start_time": "2023-02-11T05:23:52.244Z"
   },
   {
    "duration": 308,
    "start_time": "2023-02-11T05:23:52.685Z"
   },
   {
    "duration": 412,
    "start_time": "2023-02-11T05:23:52.995Z"
   },
   {
    "duration": 10,
    "start_time": "2023-02-11T05:23:53.409Z"
   },
   {
    "duration": 240,
    "start_time": "2023-02-11T05:23:53.421Z"
   },
   {
    "duration": 5,
    "start_time": "2023-02-11T05:23:53.663Z"
   },
   {
    "duration": 5,
    "start_time": "2023-02-11T05:23:53.670Z"
   },
   {
    "duration": 196,
    "start_time": "2023-02-11T05:23:53.677Z"
   },
   {
    "duration": 6,
    "start_time": "2023-02-11T05:23:53.874Z"
   },
   {
    "duration": 6,
    "start_time": "2023-02-11T05:23:53.881Z"
   },
   {
    "duration": 16,
    "start_time": "2023-02-11T05:23:53.889Z"
   },
   {
    "duration": 9,
    "start_time": "2023-02-11T05:23:53.906Z"
   },
   {
    "duration": 32,
    "start_time": "2023-02-11T05:23:53.937Z"
   },
   {
    "duration": 59,
    "start_time": "2023-02-11T05:23:53.971Z"
   },
   {
    "duration": 20,
    "start_time": "2023-02-11T05:23:54.031Z"
   },
   {
    "duration": 7,
    "start_time": "2023-02-11T05:23:54.052Z"
   },
   {
    "duration": 10,
    "start_time": "2023-02-11T05:23:54.061Z"
   },
   {
    "duration": 10,
    "start_time": "2023-02-11T05:23:54.072Z"
   },
   {
    "duration": 3,
    "start_time": "2023-02-11T05:26:19.952Z"
   },
   {
    "duration": 10,
    "start_time": "2023-02-11T05:44:54.254Z"
   },
   {
    "duration": 14,
    "start_time": "2023-02-11T05:48:10.881Z"
   },
   {
    "duration": 16,
    "start_time": "2023-02-11T05:53:53.228Z"
   },
   {
    "duration": 1369,
    "start_time": "2023-02-11T05:55:10.208Z"
   },
   {
    "duration": 1229,
    "start_time": "2023-02-11T05:57:07.241Z"
   },
   {
    "duration": 1286,
    "start_time": "2023-02-11T05:57:21.309Z"
   },
   {
    "duration": 14,
    "start_time": "2023-02-11T05:57:34.195Z"
   },
   {
    "duration": 4,
    "start_time": "2023-02-11T05:57:46.015Z"
   },
   {
    "duration": 9,
    "start_time": "2023-02-11T05:58:03.344Z"
   },
   {
    "duration": 8,
    "start_time": "2023-02-11T05:58:13.229Z"
   },
   {
    "duration": 9,
    "start_time": "2023-02-11T05:59:49.039Z"
   },
   {
    "duration": 12,
    "start_time": "2023-02-11T06:01:08.321Z"
   },
   {
    "duration": 10,
    "start_time": "2023-02-11T06:04:49.831Z"
   },
   {
    "duration": 11,
    "start_time": "2023-02-11T06:05:00.190Z"
   },
   {
    "duration": 13,
    "start_time": "2023-02-11T06:05:07.509Z"
   },
   {
    "duration": 9,
    "start_time": "2023-02-11T06:05:35.034Z"
   },
   {
    "duration": 11,
    "start_time": "2023-02-11T06:09:21.884Z"
   },
   {
    "duration": 4,
    "start_time": "2023-02-11T06:09:51.775Z"
   },
   {
    "duration": 6,
    "start_time": "2023-02-11T06:10:25.027Z"
   },
   {
    "duration": 68,
    "start_time": "2023-02-11T06:11:22.705Z"
   },
   {
    "duration": 8,
    "start_time": "2023-02-11T06:20:17.021Z"
   },
   {
    "duration": 6,
    "start_time": "2023-02-11T06:20:36.208Z"
   },
   {
    "duration": 4,
    "start_time": "2023-02-11T06:20:54.864Z"
   },
   {
    "duration": 4,
    "start_time": "2023-02-11T06:20:58.248Z"
   },
   {
    "duration": 7,
    "start_time": "2023-02-11T06:21:15.634Z"
   },
   {
    "duration": 4,
    "start_time": "2023-02-11T06:26:03.334Z"
   },
   {
    "duration": 10,
    "start_time": "2023-02-11T06:26:05.449Z"
   },
   {
    "duration": 5,
    "start_time": "2023-02-11T06:26:34.039Z"
   },
   {
    "duration": 1139,
    "start_time": "2023-02-11T06:27:09.011Z"
   },
   {
    "duration": 2,
    "start_time": "2023-02-11T06:27:10.152Z"
   },
   {
    "duration": 103,
    "start_time": "2023-02-11T06:27:10.155Z"
   },
   {
    "duration": 46,
    "start_time": "2023-02-11T06:27:10.260Z"
   },
   {
    "duration": 4,
    "start_time": "2023-02-11T06:27:10.307Z"
   },
   {
    "duration": 42,
    "start_time": "2023-02-11T06:27:10.312Z"
   },
   {
    "duration": 26,
    "start_time": "2023-02-11T06:27:10.356Z"
   },
   {
    "duration": 12,
    "start_time": "2023-02-11T06:27:10.383Z"
   },
   {
    "duration": 6,
    "start_time": "2023-02-11T06:27:15.697Z"
   },
   {
    "duration": 4,
    "start_time": "2023-02-11T06:27:17.437Z"
   },
   {
    "duration": 6,
    "start_time": "2023-02-11T06:27:18.870Z"
   },
   {
    "duration": 100,
    "start_time": "2023-02-11T06:31:26.102Z"
   },
   {
    "duration": 9,
    "start_time": "2023-02-11T06:31:42.345Z"
   },
   {
    "duration": 9,
    "start_time": "2023-02-11T06:32:19.231Z"
   },
   {
    "duration": 1227,
    "start_time": "2023-02-11T06:34:32.017Z"
   },
   {
    "duration": 4,
    "start_time": "2023-02-11T06:34:33.246Z"
   },
   {
    "duration": 93,
    "start_time": "2023-02-11T06:34:33.251Z"
   },
   {
    "duration": 47,
    "start_time": "2023-02-11T06:34:33.346Z"
   },
   {
    "duration": 4,
    "start_time": "2023-02-11T06:34:33.394Z"
   },
   {
    "duration": 23,
    "start_time": "2023-02-11T06:34:33.400Z"
   },
   {
    "duration": 22,
    "start_time": "2023-02-11T06:34:33.425Z"
   },
   {
    "duration": 34,
    "start_time": "2023-02-11T06:34:33.449Z"
   },
   {
    "duration": 11,
    "start_time": "2023-02-11T06:34:33.486Z"
   },
   {
    "duration": 5,
    "start_time": "2023-02-11T06:34:36.799Z"
   },
   {
    "duration": 97,
    "start_time": "2023-02-11T06:34:39.488Z"
   },
   {
    "duration": 72,
    "start_time": "2023-02-11T06:36:00.976Z"
   },
   {
    "duration": 92,
    "start_time": "2023-02-11T06:41:10.401Z"
   },
   {
    "duration": 16,
    "start_time": "2023-02-11T06:42:10.299Z"
   },
   {
    "duration": 11,
    "start_time": "2023-02-11T07:12:01.720Z"
   },
   {
    "duration": 1287,
    "start_time": "2023-02-11T07:12:26.118Z"
   },
   {
    "duration": 3,
    "start_time": "2023-02-11T07:12:27.407Z"
   },
   {
    "duration": 89,
    "start_time": "2023-02-11T07:12:27.412Z"
   },
   {
    "duration": 56,
    "start_time": "2023-02-11T07:12:27.503Z"
   },
   {
    "duration": 5,
    "start_time": "2023-02-11T07:12:27.561Z"
   },
   {
    "duration": 12,
    "start_time": "2023-02-11T07:12:27.567Z"
   },
   {
    "duration": 16,
    "start_time": "2023-02-11T07:12:27.581Z"
   },
   {
    "duration": 12,
    "start_time": "2023-02-11T07:12:27.599Z"
   },
   {
    "duration": 9,
    "start_time": "2023-02-11T07:12:27.637Z"
   },
   {
    "duration": 16,
    "start_time": "2023-02-11T07:12:27.650Z"
   },
   {
    "duration": 411,
    "start_time": "2023-02-11T07:12:27.668Z"
   },
   {
    "duration": 14,
    "start_time": "2023-02-11T07:12:28.082Z"
   },
   {
    "duration": 388,
    "start_time": "2023-02-11T07:12:28.098Z"
   },
   {
    "duration": 22,
    "start_time": "2023-02-11T07:12:28.488Z"
   },
   {
    "duration": 35,
    "start_time": "2023-02-11T07:12:28.512Z"
   },
   {
    "duration": 20,
    "start_time": "2023-02-11T07:12:28.549Z"
   },
   {
    "duration": 7,
    "start_time": "2023-02-11T07:12:28.570Z"
   },
   {
    "duration": 14,
    "start_time": "2023-02-11T07:12:28.578Z"
   },
   {
    "duration": 390,
    "start_time": "2023-02-11T07:12:28.593Z"
   },
   {
    "duration": 378,
    "start_time": "2023-02-11T07:12:28.985Z"
   },
   {
    "duration": 441,
    "start_time": "2023-02-11T07:12:29.366Z"
   },
   {
    "duration": 362,
    "start_time": "2023-02-11T07:12:29.809Z"
   },
   {
    "duration": 413,
    "start_time": "2023-02-11T07:12:30.173Z"
   },
   {
    "duration": 12,
    "start_time": "2023-02-11T07:12:30.588Z"
   },
   {
    "duration": 321,
    "start_time": "2023-02-11T07:12:30.602Z"
   },
   {
    "duration": 13,
    "start_time": "2023-02-11T07:12:30.925Z"
   },
   {
    "duration": 34,
    "start_time": "2023-02-11T07:12:30.941Z"
   },
   {
    "duration": 220,
    "start_time": "2023-02-11T07:12:30.979Z"
   },
   {
    "duration": 6,
    "start_time": "2023-02-11T07:12:31.201Z"
   },
   {
    "duration": 16,
    "start_time": "2023-02-11T07:12:31.210Z"
   },
   {
    "duration": 24,
    "start_time": "2023-02-11T07:12:31.236Z"
   },
   {
    "duration": 32,
    "start_time": "2023-02-11T07:12:31.262Z"
   },
   {
    "duration": 33,
    "start_time": "2023-02-11T07:12:31.295Z"
   },
   {
    "duration": 38,
    "start_time": "2023-02-11T07:12:31.330Z"
   },
   {
    "duration": 27,
    "start_time": "2023-02-11T07:12:31.370Z"
   },
   {
    "duration": 11,
    "start_time": "2023-02-11T07:12:31.399Z"
   },
   {
    "duration": 23,
    "start_time": "2023-02-11T07:12:31.411Z"
   },
   {
    "duration": 40,
    "start_time": "2023-02-11T07:12:31.437Z"
   },
   {
    "duration": 350,
    "start_time": "2023-02-11T07:15:31.175Z"
   },
   {
    "duration": 129,
    "start_time": "2023-02-11T07:17:19.420Z"
   },
   {
    "duration": 19,
    "start_time": "2023-02-11T07:17:33.385Z"
   },
   {
    "duration": 358,
    "start_time": "2023-02-11T07:17:59.100Z"
   },
   {
    "duration": 343,
    "start_time": "2023-02-11T07:18:06.549Z"
   },
   {
    "duration": 451,
    "start_time": "2023-02-11T07:18:11.257Z"
   },
   {
    "duration": 456,
    "start_time": "2023-02-11T07:18:28.838Z"
   },
   {
    "duration": 23,
    "start_time": "2023-02-11T07:18:44.447Z"
   },
   {
    "duration": 348,
    "start_time": "2023-02-11T07:18:49.358Z"
   },
   {
    "duration": 462,
    "start_time": "2023-02-11T07:18:52.527Z"
   },
   {
    "duration": 15,
    "start_time": "2023-02-11T07:18:58.370Z"
   },
   {
    "duration": 242,
    "start_time": "2023-02-11T07:20:07.262Z"
   },
   {
    "duration": 19,
    "start_time": "2023-02-11T07:24:06.836Z"
   },
   {
    "duration": 7,
    "start_time": "2023-02-11T07:25:46.514Z"
   },
   {
    "duration": 11,
    "start_time": "2023-02-11T07:26:49.459Z"
   },
   {
    "duration": 10,
    "start_time": "2023-02-11T07:54:24.264Z"
   },
   {
    "duration": 14,
    "start_time": "2023-02-11T07:55:10.447Z"
   },
   {
    "duration": 7,
    "start_time": "2023-02-11T08:13:32.332Z"
   },
   {
    "duration": 8,
    "start_time": "2023-02-11T08:13:45.547Z"
   },
   {
    "duration": 22,
    "start_time": "2023-02-11T08:14:58.241Z"
   },
   {
    "duration": 51,
    "start_time": "2023-02-11T13:16:23.960Z"
   },
   {
    "duration": 1327,
    "start_time": "2023-02-11T13:16:32.962Z"
   },
   {
    "duration": 3,
    "start_time": "2023-02-11T13:16:34.292Z"
   },
   {
    "duration": 243,
    "start_time": "2023-02-11T13:16:34.297Z"
   },
   {
    "duration": 48,
    "start_time": "2023-02-11T13:16:34.543Z"
   },
   {
    "duration": 4,
    "start_time": "2023-02-11T13:16:34.593Z"
   },
   {
    "duration": 18,
    "start_time": "2023-02-11T13:16:34.599Z"
   },
   {
    "duration": 27,
    "start_time": "2023-02-11T13:16:34.618Z"
   },
   {
    "duration": 16,
    "start_time": "2023-02-11T13:16:34.647Z"
   },
   {
    "duration": 16,
    "start_time": "2023-02-11T13:16:34.664Z"
   },
   {
    "duration": 23,
    "start_time": "2023-02-11T13:16:34.683Z"
   },
   {
    "duration": 412,
    "start_time": "2023-02-11T13:16:34.708Z"
   },
   {
    "duration": 13,
    "start_time": "2023-02-11T13:16:35.122Z"
   },
   {
    "duration": 347,
    "start_time": "2023-02-11T13:16:35.137Z"
   },
   {
    "duration": 18,
    "start_time": "2023-02-11T13:16:35.486Z"
   },
   {
    "duration": 32,
    "start_time": "2023-02-11T13:16:35.506Z"
   },
   {
    "duration": 5,
    "start_time": "2023-02-11T13:16:35.540Z"
   },
   {
    "duration": 8,
    "start_time": "2023-02-11T13:16:35.548Z"
   },
   {
    "duration": 31,
    "start_time": "2023-02-11T13:16:35.558Z"
   },
   {
    "duration": 391,
    "start_time": "2023-02-11T13:16:35.591Z"
   },
   {
    "duration": 336,
    "start_time": "2023-02-11T13:16:35.984Z"
   },
   {
    "duration": 474,
    "start_time": "2023-02-11T13:16:36.322Z"
   },
   {
    "duration": 346,
    "start_time": "2023-02-11T13:16:36.798Z"
   },
   {
    "duration": 442,
    "start_time": "2023-02-11T13:16:37.146Z"
   },
   {
    "duration": 12,
    "start_time": "2023-02-11T13:16:37.590Z"
   },
   {
    "duration": 284,
    "start_time": "2023-02-11T13:16:37.603Z"
   },
   {
    "duration": 6,
    "start_time": "2023-02-11T13:16:37.889Z"
   },
   {
    "duration": 17,
    "start_time": "2023-02-11T13:16:37.896Z"
   },
   {
    "duration": 216,
    "start_time": "2023-02-11T13:16:37.917Z"
   },
   {
    "duration": 7,
    "start_time": "2023-02-11T13:16:38.138Z"
   },
   {
    "duration": 15,
    "start_time": "2023-02-11T13:16:38.147Z"
   },
   {
    "duration": 34,
    "start_time": "2023-02-11T13:16:38.164Z"
   },
   {
    "duration": 13,
    "start_time": "2023-02-11T13:16:38.200Z"
   },
   {
    "duration": 26,
    "start_time": "2023-02-11T13:16:38.215Z"
   },
   {
    "duration": 23,
    "start_time": "2023-02-11T13:16:38.243Z"
   },
   {
    "duration": 22,
    "start_time": "2023-02-11T13:16:38.268Z"
   },
   {
    "duration": 16,
    "start_time": "2023-02-11T13:16:38.292Z"
   },
   {
    "duration": 14,
    "start_time": "2023-02-11T13:16:38.310Z"
   },
   {
    "duration": 12,
    "start_time": "2023-02-11T13:16:38.325Z"
   },
   {
    "duration": 23,
    "start_time": "2023-02-11T13:16:38.339Z"
   },
   {
    "duration": 17,
    "start_time": "2023-02-11T13:16:38.364Z"
   },
   {
    "duration": 28,
    "start_time": "2023-02-11T13:16:38.383Z"
   },
   {
    "duration": 24,
    "start_time": "2023-02-11T13:16:38.413Z"
   },
   {
    "duration": 5,
    "start_time": "2023-02-11T13:18:11.842Z"
   },
   {
    "duration": 12,
    "start_time": "2023-02-11T13:18:22.303Z"
   },
   {
    "duration": 10,
    "start_time": "2023-02-11T13:20:28.434Z"
   },
   {
    "duration": 10,
    "start_time": "2023-02-11T13:29:44.972Z"
   },
   {
    "duration": 8,
    "start_time": "2023-02-11T13:31:37.383Z"
   },
   {
    "duration": 4,
    "start_time": "2023-02-11T13:31:59.685Z"
   },
   {
    "duration": 24,
    "start_time": "2023-02-11T13:32:19.597Z"
   },
   {
    "duration": 98,
    "start_time": "2023-02-11T13:35:07.067Z"
   },
   {
    "duration": 11,
    "start_time": "2023-02-11T13:49:14.918Z"
   },
   {
    "duration": 1226,
    "start_time": "2023-02-11T13:52:18.843Z"
   },
   {
    "duration": 3,
    "start_time": "2023-02-11T13:52:20.071Z"
   },
   {
    "duration": 83,
    "start_time": "2023-02-11T13:52:20.076Z"
   },
   {
    "duration": 47,
    "start_time": "2023-02-11T13:52:20.161Z"
   },
   {
    "duration": 4,
    "start_time": "2023-02-11T13:52:20.210Z"
   },
   {
    "duration": 17,
    "start_time": "2023-02-11T13:52:20.216Z"
   },
   {
    "duration": 14,
    "start_time": "2023-02-11T13:52:20.237Z"
   },
   {
    "duration": 20,
    "start_time": "2023-02-11T13:52:20.253Z"
   },
   {
    "duration": 6,
    "start_time": "2023-02-11T13:52:20.274Z"
   },
   {
    "duration": 19,
    "start_time": "2023-02-11T13:52:20.283Z"
   },
   {
    "duration": 428,
    "start_time": "2023-02-11T13:52:20.304Z"
   },
   {
    "duration": 13,
    "start_time": "2023-02-11T13:52:20.733Z"
   },
   {
    "duration": 331,
    "start_time": "2023-02-11T13:52:20.747Z"
   },
   {
    "duration": 19,
    "start_time": "2023-02-11T13:52:21.080Z"
   },
   {
    "duration": 14,
    "start_time": "2023-02-11T13:52:21.101Z"
   },
   {
    "duration": 21,
    "start_time": "2023-02-11T13:52:21.117Z"
   },
   {
    "duration": 16,
    "start_time": "2023-02-11T13:52:21.140Z"
   },
   {
    "duration": 22,
    "start_time": "2023-02-11T13:52:21.158Z"
   },
   {
    "duration": 412,
    "start_time": "2023-02-11T13:52:21.182Z"
   },
   {
    "duration": 325,
    "start_time": "2023-02-11T13:52:21.596Z"
   },
   {
    "duration": 430,
    "start_time": "2023-02-11T13:52:21.923Z"
   },
   {
    "duration": 413,
    "start_time": "2023-02-11T13:52:22.355Z"
   },
   {
    "duration": 400,
    "start_time": "2023-02-11T13:52:22.770Z"
   },
   {
    "duration": 11,
    "start_time": "2023-02-11T13:52:23.172Z"
   },
   {
    "duration": 300,
    "start_time": "2023-02-11T13:52:23.185Z"
   },
   {
    "duration": 6,
    "start_time": "2023-02-11T13:52:23.487Z"
   },
   {
    "duration": 26,
    "start_time": "2023-02-11T13:52:23.494Z"
   },
   {
    "duration": 200,
    "start_time": "2023-02-11T13:52:23.523Z"
   },
   {
    "duration": 14,
    "start_time": "2023-02-11T13:52:23.725Z"
   },
   {
    "duration": 37,
    "start_time": "2023-02-11T13:52:23.741Z"
   },
   {
    "duration": 44,
    "start_time": "2023-02-11T13:52:23.779Z"
   },
   {
    "duration": 49,
    "start_time": "2023-02-11T13:52:23.824Z"
   },
   {
    "duration": 7,
    "start_time": "2023-02-11T13:52:28.037Z"
   },
   {
    "duration": 11,
    "start_time": "2023-02-11T13:52:31.690Z"
   },
   {
    "duration": 108,
    "start_time": "2023-02-11T13:52:44.879Z"
   },
   {
    "duration": 13,
    "start_time": "2023-02-11T13:53:30.978Z"
   },
   {
    "duration": 10,
    "start_time": "2023-02-11T13:53:50.125Z"
   },
   {
    "duration": 11,
    "start_time": "2023-02-11T13:55:37.718Z"
   },
   {
    "duration": 1142,
    "start_time": "2023-02-11T13:56:03.993Z"
   },
   {
    "duration": 6,
    "start_time": "2023-02-11T14:04:15.036Z"
   },
   {
    "duration": 15,
    "start_time": "2023-02-11T14:04:20.080Z"
   },
   {
    "duration": 7,
    "start_time": "2023-02-11T14:07:51.607Z"
   },
   {
    "duration": 1077,
    "start_time": "2023-02-11T14:08:09.576Z"
   },
   {
    "duration": 3,
    "start_time": "2023-02-11T14:08:10.655Z"
   },
   {
    "duration": 88,
    "start_time": "2023-02-11T14:08:10.660Z"
   },
   {
    "duration": 47,
    "start_time": "2023-02-11T14:08:10.750Z"
   },
   {
    "duration": 4,
    "start_time": "2023-02-11T14:08:10.799Z"
   },
   {
    "duration": 16,
    "start_time": "2023-02-11T14:08:10.804Z"
   },
   {
    "duration": 23,
    "start_time": "2023-02-11T14:08:10.821Z"
   },
   {
    "duration": 18,
    "start_time": "2023-02-11T14:08:10.846Z"
   },
   {
    "duration": 5,
    "start_time": "2023-02-11T14:08:10.866Z"
   },
   {
    "duration": 14,
    "start_time": "2023-02-11T14:08:10.873Z"
   },
   {
    "duration": 399,
    "start_time": "2023-02-11T14:08:10.888Z"
   },
   {
    "duration": 11,
    "start_time": "2023-02-11T14:08:11.289Z"
   },
   {
    "duration": 376,
    "start_time": "2023-02-11T14:08:11.302Z"
   },
   {
    "duration": 19,
    "start_time": "2023-02-11T14:08:11.681Z"
   },
   {
    "duration": 21,
    "start_time": "2023-02-11T14:08:11.701Z"
   },
   {
    "duration": 16,
    "start_time": "2023-02-11T14:08:11.724Z"
   },
   {
    "duration": 23,
    "start_time": "2023-02-11T14:08:11.742Z"
   },
   {
    "duration": 16,
    "start_time": "2023-02-11T14:08:11.766Z"
   },
   {
    "duration": 381,
    "start_time": "2023-02-11T14:08:11.783Z"
   },
   {
    "duration": 350,
    "start_time": "2023-02-11T14:08:12.166Z"
   },
   {
    "duration": 454,
    "start_time": "2023-02-11T14:08:12.518Z"
   },
   {
    "duration": 320,
    "start_time": "2023-02-11T14:08:12.974Z"
   },
   {
    "duration": 412,
    "start_time": "2023-02-11T14:08:13.295Z"
   },
   {
    "duration": 11,
    "start_time": "2023-02-11T14:08:13.710Z"
   },
   {
    "duration": 256,
    "start_time": "2023-02-11T14:08:13.722Z"
   },
   {
    "duration": 5,
    "start_time": "2023-02-11T14:08:13.980Z"
   },
   {
    "duration": 18,
    "start_time": "2023-02-11T14:08:13.986Z"
   },
   {
    "duration": 204,
    "start_time": "2023-02-11T14:08:14.006Z"
   },
   {
    "duration": 6,
    "start_time": "2023-02-11T14:08:14.211Z"
   },
   {
    "duration": 21,
    "start_time": "2023-02-11T14:08:14.218Z"
   },
   {
    "duration": 15,
    "start_time": "2023-02-11T14:08:14.241Z"
   },
   {
    "duration": 16,
    "start_time": "2023-02-11T14:08:14.258Z"
   },
   {
    "duration": 17,
    "start_time": "2023-02-11T14:08:14.275Z"
   },
   {
    "duration": 4,
    "start_time": "2023-02-11T14:08:14.294Z"
   },
   {
    "duration": 108,
    "start_time": "2023-02-11T14:08:14.299Z"
   },
   {
    "duration": 10,
    "start_time": "2023-02-11T14:08:31.298Z"
   },
   {
    "duration": 10,
    "start_time": "2023-02-11T14:10:21.831Z"
   },
   {
    "duration": 16,
    "start_time": "2023-02-11T14:13:23.108Z"
   },
   {
    "duration": 14,
    "start_time": "2023-02-11T14:13:49.144Z"
   },
   {
    "duration": 160,
    "start_time": "2023-02-11T14:15:44.863Z"
   },
   {
    "duration": 11,
    "start_time": "2023-02-11T14:16:31.988Z"
   },
   {
    "duration": 1839,
    "start_time": "2023-02-11T14:16:57.017Z"
   },
   {
    "duration": 11,
    "start_time": "2023-02-11T14:20:17.306Z"
   },
   {
    "duration": 6,
    "start_time": "2023-02-11T14:20:57.799Z"
   },
   {
    "duration": 19,
    "start_time": "2023-02-11T14:21:16.699Z"
   },
   {
    "duration": 19,
    "start_time": "2023-02-11T14:21:57.272Z"
   },
   {
    "duration": 18,
    "start_time": "2023-02-11T14:22:21.772Z"
   },
   {
    "duration": 417,
    "start_time": "2023-02-11T14:22:36.731Z"
   },
   {
    "duration": 365,
    "start_time": "2023-02-11T14:24:15.197Z"
   },
   {
    "duration": 403,
    "start_time": "2023-02-11T14:26:08.153Z"
   },
   {
    "duration": 209,
    "start_time": "2023-02-11T14:27:32.329Z"
   },
   {
    "duration": 1323,
    "start_time": "2023-02-11T14:27:55.222Z"
   },
   {
    "duration": 9,
    "start_time": "2023-02-11T14:28:25.227Z"
   },
   {
    "duration": 1327,
    "start_time": "2023-02-11T14:29:27.524Z"
   },
   {
    "duration": 1768,
    "start_time": "2023-02-11T14:29:58.297Z"
   },
   {
    "duration": 1410,
    "start_time": "2023-02-11T14:30:44.576Z"
   },
   {
    "duration": 235,
    "start_time": "2023-02-11T14:31:22.369Z"
   },
   {
    "duration": 50,
    "start_time": "2023-02-11T14:35:54.754Z"
   },
   {
    "duration": 44,
    "start_time": "2023-02-11T14:36:08.982Z"
   },
   {
    "duration": 85,
    "start_time": "2023-02-11T15:06:20.099Z"
   },
   {
    "duration": 8,
    "start_time": "2023-02-11T15:23:26.545Z"
   },
   {
    "duration": 11,
    "start_time": "2023-02-11T15:23:33.484Z"
   },
   {
    "duration": 12,
    "start_time": "2023-02-11T15:23:34.811Z"
   },
   {
    "duration": 187,
    "start_time": "2023-02-11T15:24:48.144Z"
   },
   {
    "duration": 42,
    "start_time": "2023-02-11T15:25:34.743Z"
   },
   {
    "duration": 1216,
    "start_time": "2023-02-11T15:29:44.438Z"
   },
   {
    "duration": 3,
    "start_time": "2023-02-11T15:29:45.656Z"
   },
   {
    "duration": 81,
    "start_time": "2023-02-11T15:29:45.660Z"
   },
   {
    "duration": 48,
    "start_time": "2023-02-11T15:29:45.742Z"
   },
   {
    "duration": 4,
    "start_time": "2023-02-11T15:29:45.793Z"
   },
   {
    "duration": 11,
    "start_time": "2023-02-11T15:29:45.798Z"
   },
   {
    "duration": 12,
    "start_time": "2023-02-11T15:29:45.838Z"
   },
   {
    "duration": 13,
    "start_time": "2023-02-11T15:29:45.852Z"
   },
   {
    "duration": 10,
    "start_time": "2023-02-11T15:29:45.866Z"
   },
   {
    "duration": 14,
    "start_time": "2023-02-11T15:29:45.877Z"
   },
   {
    "duration": 408,
    "start_time": "2023-02-11T15:29:45.892Z"
   },
   {
    "duration": 13,
    "start_time": "2023-02-11T15:29:46.301Z"
   },
   {
    "duration": 340,
    "start_time": "2023-02-11T15:29:46.315Z"
   },
   {
    "duration": 19,
    "start_time": "2023-02-11T15:29:46.658Z"
   },
   {
    "duration": 17,
    "start_time": "2023-02-11T15:29:46.679Z"
   },
   {
    "duration": 19,
    "start_time": "2023-02-11T15:29:46.698Z"
   },
   {
    "duration": 14,
    "start_time": "2023-02-11T15:29:46.719Z"
   },
   {
    "duration": 21,
    "start_time": "2023-02-11T15:29:46.738Z"
   },
   {
    "duration": 389,
    "start_time": "2023-02-11T15:29:46.761Z"
   },
   {
    "duration": 325,
    "start_time": "2023-02-11T15:29:47.152Z"
   },
   {
    "duration": 386,
    "start_time": "2023-02-11T15:29:47.479Z"
   },
   {
    "duration": 370,
    "start_time": "2023-02-11T15:29:47.867Z"
   },
   {
    "duration": 425,
    "start_time": "2023-02-11T15:29:48.240Z"
   },
   {
    "duration": 11,
    "start_time": "2023-02-11T15:29:48.668Z"
   },
   {
    "duration": 282,
    "start_time": "2023-02-11T15:29:48.681Z"
   },
   {
    "duration": 5,
    "start_time": "2023-02-11T15:29:48.965Z"
   },
   {
    "duration": 8,
    "start_time": "2023-02-11T15:29:48.972Z"
   },
   {
    "duration": 224,
    "start_time": "2023-02-11T15:29:48.981Z"
   },
   {
    "duration": 7,
    "start_time": "2023-02-11T15:29:49.206Z"
   },
   {
    "duration": 18,
    "start_time": "2023-02-11T15:29:49.214Z"
   },
   {
    "duration": 222,
    "start_time": "2023-02-11T15:29:49.234Z"
   },
   {
    "duration": 45,
    "start_time": "2023-02-11T15:29:49.458Z"
   },
   {
    "duration": 11,
    "start_time": "2023-02-11T15:29:49.505Z"
   },
   {
    "duration": 27,
    "start_time": "2023-02-11T15:29:49.517Z"
   },
   {
    "duration": 9,
    "start_time": "2023-02-11T15:29:49.546Z"
   },
   {
    "duration": 15,
    "start_time": "2023-02-11T15:29:49.557Z"
   },
   {
    "duration": 11,
    "start_time": "2023-02-11T15:29:49.574Z"
   },
   {
    "duration": 20,
    "start_time": "2023-02-11T15:29:49.587Z"
   },
   {
    "duration": 270,
    "start_time": "2023-02-11T15:29:49.609Z"
   },
   {
    "duration": 67,
    "start_time": "2023-02-11T15:29:49.881Z"
   },
   {
    "duration": 6,
    "start_time": "2023-02-11T15:29:49.952Z"
   },
   {
    "duration": 17,
    "start_time": "2023-02-11T15:29:49.960Z"
   },
   {
    "duration": 1234,
    "start_time": "2023-02-12T11:23:19.676Z"
   },
   {
    "duration": 3,
    "start_time": "2023-02-12T11:23:20.912Z"
   },
   {
    "duration": 76,
    "start_time": "2023-02-12T11:23:20.916Z"
   },
   {
    "duration": 55,
    "start_time": "2023-02-12T11:23:20.994Z"
   },
   {
    "duration": 5,
    "start_time": "2023-02-12T11:23:21.051Z"
   },
   {
    "duration": 11,
    "start_time": "2023-02-12T11:23:21.057Z"
   },
   {
    "duration": 41,
    "start_time": "2023-02-12T11:23:21.070Z"
   },
   {
    "duration": 13,
    "start_time": "2023-02-12T11:23:21.113Z"
   },
   {
    "duration": 7,
    "start_time": "2023-02-12T11:23:21.128Z"
   },
   {
    "duration": 21,
    "start_time": "2023-02-12T11:23:21.139Z"
   },
   {
    "duration": 410,
    "start_time": "2023-02-12T11:23:21.163Z"
   },
   {
    "duration": 13,
    "start_time": "2023-02-12T11:23:21.576Z"
   },
   {
    "duration": 315,
    "start_time": "2023-02-12T11:23:21.604Z"
   },
   {
    "duration": 23,
    "start_time": "2023-02-12T11:23:21.921Z"
   },
   {
    "duration": 18,
    "start_time": "2023-02-12T11:23:21.945Z"
   },
   {
    "duration": 4,
    "start_time": "2023-02-12T11:23:21.965Z"
   },
   {
    "duration": 34,
    "start_time": "2023-02-12T11:23:21.971Z"
   },
   {
    "duration": 28,
    "start_time": "2023-02-12T11:23:22.007Z"
   },
   {
    "duration": 373,
    "start_time": "2023-02-12T11:23:22.037Z"
   },
   {
    "duration": 327,
    "start_time": "2023-02-12T11:23:22.412Z"
   },
   {
    "duration": 423,
    "start_time": "2023-02-12T11:23:22.741Z"
   },
   {
    "duration": 378,
    "start_time": "2023-02-12T11:23:23.166Z"
   },
   {
    "duration": 380,
    "start_time": "2023-02-12T11:23:23.545Z"
   },
   {
    "duration": 10,
    "start_time": "2023-02-12T11:23:23.927Z"
   },
   {
    "duration": 314,
    "start_time": "2023-02-12T11:23:23.939Z"
   },
   {
    "duration": 7,
    "start_time": "2023-02-12T11:23:24.256Z"
   },
   {
    "duration": 25,
    "start_time": "2023-02-12T11:23:24.265Z"
   },
   {
    "duration": 232,
    "start_time": "2023-02-12T11:23:24.295Z"
   },
   {
    "duration": 7,
    "start_time": "2023-02-12T11:23:24.528Z"
   },
   {
    "duration": 6,
    "start_time": "2023-02-12T11:23:24.537Z"
   },
   {
    "duration": 214,
    "start_time": "2023-02-12T11:23:24.544Z"
   },
   {
    "duration": 63,
    "start_time": "2023-02-12T11:23:24.760Z"
   },
   {
    "duration": 12,
    "start_time": "2023-02-12T11:23:24.825Z"
   },
   {
    "duration": 11,
    "start_time": "2023-02-12T11:23:24.839Z"
   },
   {
    "duration": 9,
    "start_time": "2023-02-12T11:23:24.852Z"
   },
   {
    "duration": 40,
    "start_time": "2023-02-12T11:23:24.863Z"
   },
   {
    "duration": 9,
    "start_time": "2023-02-12T11:23:24.905Z"
   },
   {
    "duration": 23,
    "start_time": "2023-02-12T11:23:24.916Z"
   },
   {
    "duration": 206,
    "start_time": "2023-02-12T11:23:24.941Z"
   },
   {
    "duration": 74,
    "start_time": "2023-02-12T11:23:25.149Z"
   },
   {
    "duration": 7,
    "start_time": "2023-02-12T11:23:25.225Z"
   },
   {
    "duration": 21,
    "start_time": "2023-02-12T11:23:25.234Z"
   },
   {
    "duration": 1158,
    "start_time": "2023-02-12T11:24:19.569Z"
   },
   {
    "duration": 3,
    "start_time": "2023-02-12T11:24:20.729Z"
   },
   {
    "duration": 69,
    "start_time": "2023-02-12T11:24:20.734Z"
   },
   {
    "duration": 54,
    "start_time": "2023-02-12T11:24:20.805Z"
   },
   {
    "duration": 4,
    "start_time": "2023-02-12T11:24:20.862Z"
   },
   {
    "duration": 36,
    "start_time": "2023-02-12T11:24:20.868Z"
   },
   {
    "duration": 19,
    "start_time": "2023-02-12T11:24:20.905Z"
   },
   {
    "duration": 13,
    "start_time": "2023-02-12T11:24:20.925Z"
   },
   {
    "duration": 10,
    "start_time": "2023-02-12T11:24:20.940Z"
   },
   {
    "duration": 14,
    "start_time": "2023-02-12T11:24:20.951Z"
   },
   {
    "duration": 385,
    "start_time": "2023-02-12T11:24:20.967Z"
   },
   {
    "duration": 12,
    "start_time": "2023-02-12T11:24:21.354Z"
   },
   {
    "duration": 326,
    "start_time": "2023-02-12T11:24:21.368Z"
   },
   {
    "duration": 18,
    "start_time": "2023-02-12T11:24:21.702Z"
   },
   {
    "duration": 13,
    "start_time": "2023-02-12T11:24:21.722Z"
   },
   {
    "duration": 75,
    "start_time": "2023-02-12T11:24:21.737Z"
   },
   {
    "duration": 13,
    "start_time": "2023-02-12T11:24:21.814Z"
   },
   {
    "duration": 40,
    "start_time": "2023-02-12T11:24:21.829Z"
   },
   {
    "duration": 372,
    "start_time": "2023-02-12T11:24:21.871Z"
   },
   {
    "duration": 310,
    "start_time": "2023-02-12T11:24:22.245Z"
   },
   {
    "duration": 406,
    "start_time": "2023-02-12T11:24:22.556Z"
   },
   {
    "duration": 335,
    "start_time": "2023-02-12T11:24:22.964Z"
   },
   {
    "duration": 399,
    "start_time": "2023-02-12T11:24:23.304Z"
   },
   {
    "duration": 11,
    "start_time": "2023-02-12T11:24:23.705Z"
   },
   {
    "duration": 262,
    "start_time": "2023-02-12T11:24:23.717Z"
   },
   {
    "duration": 6,
    "start_time": "2023-02-12T11:24:23.980Z"
   },
   {
    "duration": 17,
    "start_time": "2023-02-12T11:24:23.987Z"
   },
   {
    "duration": 231,
    "start_time": "2023-02-12T11:24:24.006Z"
   },
   {
    "duration": 7,
    "start_time": "2023-02-12T11:24:24.239Z"
   },
   {
    "duration": 7,
    "start_time": "2023-02-12T11:24:24.248Z"
   },
   {
    "duration": 217,
    "start_time": "2023-02-12T11:24:24.257Z"
   },
   {
    "duration": 51,
    "start_time": "2023-02-12T11:24:24.476Z"
   },
   {
    "duration": 9,
    "start_time": "2023-02-12T11:24:24.529Z"
   },
   {
    "duration": 6,
    "start_time": "2023-02-12T11:24:24.540Z"
   },
   {
    "duration": 7,
    "start_time": "2023-02-12T11:24:24.547Z"
   },
   {
    "duration": 10,
    "start_time": "2023-02-12T11:24:24.556Z"
   },
   {
    "duration": 5,
    "start_time": "2023-02-12T11:24:24.568Z"
   },
   {
    "duration": 14,
    "start_time": "2023-02-12T11:24:24.604Z"
   },
   {
    "duration": 207,
    "start_time": "2023-02-12T11:24:24.619Z"
   },
   {
    "duration": 38,
    "start_time": "2023-02-12T11:24:24.828Z"
   },
   {
    "duration": 6,
    "start_time": "2023-02-12T11:24:24.870Z"
   },
   {
    "duration": 29,
    "start_time": "2023-02-12T11:24:24.877Z"
   }
  ],
  "kernelspec": {
   "display_name": "Python 3 (ipykernel)",
   "language": "python",
   "name": "python3"
  },
  "language_info": {
   "codemirror_mode": {
    "name": "ipython",
    "version": 3
   },
   "file_extension": ".py",
   "mimetype": "text/x-python",
   "name": "python",
   "nbconvert_exporter": "python",
   "pygments_lexer": "ipython3",
   "version": "3.9.13"
  },
  "toc": {
   "base_numbering": 1,
   "nav_menu": {},
   "number_sections": true,
   "sideBar": true,
   "skip_h1_title": true,
   "title_cell": "Table of Contents",
   "title_sidebar": "Contents",
   "toc_cell": false,
   "toc_position": {},
   "toc_section_display": true,
   "toc_window_display": false
  }
 },
 "nbformat": 4,
 "nbformat_minor": 2
}
