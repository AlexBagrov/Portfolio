{
 "cells": [
  {
   "cell_type": "markdown",
   "metadata": {
    "id": "E0vqbgi9ay0H"
   },
   "source": [
    "# Яндекс.Музыка"
   ]
  },
  {
   "cell_type": "markdown",
   "metadata": {
    "id": "VUC88oWjTJw2"
   },
   "source": [
    "**Сравнение Москвы и Петербурга по музыкальным предпочтениям и активности их жителей в рамках сервиса Яндекс.Музыка.**\n",
    "\n",
    "\n",
    "**Цель исследования** — проверить три гипотезы:\n",
    "1. Активность пользователей зависит от дня недели. Причём в Москве и Петербурге это проявляется по-разному.\n",
    "2. В понедельник утром в Москве преобладают одни жанры, а в Петербурге — другие. Так же и вечером пятницы преобладают разные жанры — в зависимости от города. \n",
    "3. Москва и Петербург предпочитают разные жанры музыки. В Москве чаще слушают поп-музыку, в Петербурге — русский рэп.\n",
    "\n",
    "**Ход исследования** — Три этапа исследования:\n",
    " 1. Обзор данных.\n",
    " 2. Предобработка данных.\n",
    " 3. Проверка гипотез."
   ]
  },
  {
   "cell_type": "markdown",
   "metadata": {
    "id": "Ml1hmfXC_Zcs"
   },
   "source": [
    "## Обзор данных"
   ]
  },
  {
   "cell_type": "code",
   "execution_count": 1,
   "metadata": {
    "deletable": false,
    "id": "AXN7PHPN_Zcs"
   },
   "outputs": [],
   "source": [
    "# импорт библиотеки pandas\n",
    "import pandas as pd"
   ]
  },
  {
   "cell_type": "code",
   "execution_count": 2,
   "metadata": {},
   "outputs": [],
   "source": [
    "# загрузка файла с локального диска\n",
    "path = r'D:\\Работа\\Аналитик данных\\Проекты\\Яндекс.Музыка\\yandex_music_project.csv'\n",
    "df = pd.read_csv(path)"
   ]
  },
  {
   "cell_type": "code",
   "execution_count": 3,
   "metadata": {
    "deletable": false,
    "id": "oWTVX3gW_Zct"
   },
   "outputs": [
    {
     "name": "stdout",
     "output_type": "stream",
     "text": [
      "     userID                        Track            artist   genre  \\\n",
      "0  FFB692EC            Kamigata To Boots  The Mass Missile    rock   \n",
      "1  55204538  Delayed Because of Accident  Andreas Rönnberg    rock   \n",
      "2    20EC38            Funiculì funiculà       Mario Lanza     pop   \n",
      "3  A3DD03C9        Dragons in the Sunset        Fire + Ice    folk   \n",
      "4  E2DC1FAE                  Soul People        Space Echo   dance   \n",
      "5  842029A1                    Преданная         IMPERVTOR  rusrap   \n",
      "6  4CB90AA5                         True      Roman Messer   dance   \n",
      "7  F03E1C1F             Feeling This Way   Polina Griffith   dance   \n",
      "8  8FA1D3BE     И вновь продолжается бой               NaN  ruspop   \n",
      "9  E772D5C0                    Pessimist               NaN   dance   \n",
      "\n",
      "             City        time        Day  \n",
      "0  Saint-Petersburg  20:28:33  Wednesday  \n",
      "1            Moscow  14:07:09     Friday  \n",
      "2  Saint-Petersburg  20:58:07  Wednesday  \n",
      "3  Saint-Petersburg  08:37:09     Monday  \n",
      "4            Moscow  08:34:34     Monday  \n",
      "5  Saint-Petersburg  13:09:41     Friday  \n",
      "6            Moscow  13:00:07  Wednesday  \n",
      "7            Moscow  20:47:49  Wednesday  \n",
      "8            Moscow  09:17:40     Friday  \n",
      "9  Saint-Petersburg  21:20:49  Wednesday  \n"
     ]
    }
   ],
   "source": [
    "# получение первых 10 строк таблицы df\n",
    "print(df.head(10))"
   ]
  },
  {
   "cell_type": "code",
   "execution_count": 4,
   "metadata": {
    "deletable": false,
    "id": "DSf2kIb-_Zct",
    "scrolled": true
   },
   "outputs": [
    {
     "name": "stdout",
     "output_type": "stream",
     "text": [
      "<class 'pandas.core.frame.DataFrame'>\n",
      "RangeIndex: 65079 entries, 0 to 65078\n",
      "Data columns (total 7 columns):\n",
      " #   Column    Non-Null Count  Dtype \n",
      "---  ------    --------------  ----- \n",
      " 0     userID  65079 non-null  object\n",
      " 1   Track     63848 non-null  object\n",
      " 2   artist    57876 non-null  object\n",
      " 3   genre     63881 non-null  object\n",
      " 4     City    65079 non-null  object\n",
      " 5   time      65079 non-null  object\n",
      " 6   Day       65079 non-null  object\n",
      "dtypes: object(7)\n",
      "memory usage: 3.5+ MB\n",
      "None\n"
     ]
    }
   ],
   "source": [
    "# получение общей информации о данных в таблице df\n",
    "print(df.info())"
   ]
  },
  {
   "cell_type": "markdown",
   "metadata": {
    "deletable": false,
    "editable": false,
    "id": "MCB6-dXG_Zct"
   },
   "source": [
    "**Выводы**\n",
    "\n",
    "В каждой строке таблицы — данные о прослушанном треке. Часть колонок описывает саму композицию: название, исполнителя и жанр. Остальные данные рассказывают о пользователе: из какого он города, когда он слушал музыку. \n",
    "\n",
    "Предварительно можно утверждать, что данных достаточно для проверки гипотез. Но встречаются пропуски в данных, а в названиях колонок — расхождения с хорошим стилем.\n",
    "\n",
    "Чтобы двигаться дальше, нужно устранить проблемы в данных."
   ]
  },
  {
   "cell_type": "markdown",
   "metadata": {
    "id": "SjYF6Ub9_Zct"
   },
   "source": [
    "## Предобработка данных"
   ]
  },
  {
   "cell_type": "code",
   "execution_count": 5,
   "metadata": {
    "deletable": false,
    "id": "oKOTdF_Q_Zct"
   },
   "outputs": [
    {
     "name": "stdout",
     "output_type": "stream",
     "text": [
      "Index(['  userID', 'Track', 'artist', 'genre', '  City  ', 'time', 'Day'], dtype='object')\n"
     ]
    }
   ],
   "source": [
    "# перечень названий столбцов таблицы df\n",
    "print(df.columns)"
   ]
  },
  {
   "cell_type": "code",
   "execution_count": 6,
   "metadata": {
    "deletable": false,
    "id": "ISlFqs5y_Zct"
   },
   "outputs": [],
   "source": [
    "# переименование столбцов\n",
    "df = df.rename(columns={'  userID': 'user_id','Track': 'track','  City  ': 'city','Day': 'day'})\n"
   ]
  },
  {
   "cell_type": "code",
   "execution_count": 7,
   "metadata": {
    "deletable": false,
    "id": "d4NOAmTW_Zct"
   },
   "outputs": [
    {
     "name": "stdout",
     "output_type": "stream",
     "text": [
      "Index(['user_id', 'track', 'artist', 'genre', 'city', 'time', 'day'], dtype='object')\n"
     ]
    }
   ],
   "source": [
    "# проверка результатов - перечень названий столбцов\n",
    "print(df.columns)"
   ]
  },
  {
   "cell_type": "markdown",
   "metadata": {
    "id": "5ISfbcfY_Zct",
    "tags": [
     "start_task"
    ]
   },
   "source": [
    "### Пропуски значений\n"
   ]
  },
  {
   "cell_type": "code",
   "execution_count": 8,
   "metadata": {
    "deletable": false,
    "id": "RskX29qr_Zct"
   },
   "outputs": [
    {
     "data": {
      "text/plain": [
       "user_id       0\n",
       "track      1231\n",
       "artist     7203\n",
       "genre      1198\n",
       "city          0\n",
       "time          0\n",
       "day           0\n",
       "dtype: int64"
      ]
     },
     "execution_count": 8,
     "metadata": {},
     "output_type": "execute_result"
    }
   ],
   "source": [
    "# подсчёт пропусков\n",
    "df.isna().sum()"
   ]
  },
  {
   "cell_type": "code",
   "execution_count": 9,
   "metadata": {
    "deletable": false,
    "id": "KplB5qWs_Zct"
   },
   "outputs": [],
   "source": [
    "# перебор названий столбцов в цикле и замена пропущенных значений на 'unknown'\n",
    "columns_to_replace = ['track', 'artist', 'genre']\n",
    "for i in columns_to_replace:\n",
    "    df[i] = df[i].fillna('unknown')"
   ]
  },
  {
   "cell_type": "code",
   "execution_count": 10,
   "metadata": {
    "deletable": false,
    "id": "Tq4nYRX4_Zct"
   },
   "outputs": [
    {
     "data": {
      "text/plain": [
       "user_id    0\n",
       "track      0\n",
       "artist     0\n",
       "genre      0\n",
       "city       0\n",
       "time       0\n",
       "day        0\n",
       "dtype: int64"
      ]
     },
     "execution_count": 10,
     "metadata": {},
     "output_type": "execute_result"
    }
   ],
   "source": [
    "# подсчёт пропусков\n",
    "df.isna().sum()"
   ]
  },
  {
   "cell_type": "markdown",
   "metadata": {
    "id": "BWKRtBJ3_Zct",
    "tags": [
     "start_task"
    ]
   },
   "source": [
    "### Дубликаты"
   ]
  },
  {
   "cell_type": "code",
   "execution_count": 11,
   "metadata": {
    "deletable": false,
    "id": "36eES_S0_Zct"
   },
   "outputs": [
    {
     "name": "stdout",
     "output_type": "stream",
     "text": [
      "3826\n"
     ]
    }
   ],
   "source": [
    "# подсчёт явных дубликатов\n",
    "print(df.duplicated().sum())"
   ]
  },
  {
   "cell_type": "code",
   "execution_count": 12,
   "metadata": {
    "deletable": false,
    "id": "exFHq6tt_Zct"
   },
   "outputs": [],
   "source": [
    "# удаление явных дубликатов\n",
    "df = df.drop_duplicates() "
   ]
  },
  {
   "cell_type": "code",
   "execution_count": 13,
   "metadata": {
    "deletable": false,
    "id": "-8PuNWQ0_Zct"
   },
   "outputs": [
    {
     "name": "stdout",
     "output_type": "stream",
     "text": [
      "0\n"
     ]
    }
   ],
   "source": [
    "# проверка на отсутствие дубликатов\n",
    "print(df.duplicated().sum())"
   ]
  },
  {
   "cell_type": "markdown",
   "metadata": {
    "deletable": false,
    "editable": false,
    "id": "QlFBsxAr_Zct"
   },
   "source": [
    "Теперь избавьтесь от неявных дубликатов в колонке `genre`. Например, название одного и того же жанра может быть записано немного по-разному. Такие ошибки тоже повлияют на результат исследования."
   ]
  },
  {
   "cell_type": "code",
   "execution_count": 14,
   "metadata": {
    "deletable": false,
    "id": "JIUcqzZN_Zct",
    "scrolled": true
   },
   "outputs": [
    {
     "name": "stdout",
     "output_type": "stream",
     "text": [
      "['acid' 'acoustic' 'action' 'adult' 'africa' 'afrikaans' 'alternative'\n",
      " 'alternativepunk' 'ambient' 'americana' 'animated' 'anime' 'arabesk'\n",
      " 'arabic' 'arena' 'argentinetango' 'art' 'audiobook' 'author' 'avantgarde'\n",
      " 'axé' 'baile' 'balkan' 'beats' 'bigroom' 'black' 'bluegrass' 'blues'\n",
      " 'bollywood' 'bossa' 'brazilian' 'breakbeat' 'breaks' 'broadway'\n",
      " 'cantautori' 'cantopop' 'canzone' 'caribbean' 'caucasian' 'celtic'\n",
      " 'chamber' 'chanson' 'children' 'chill' 'chinese' 'choral' 'christian'\n",
      " 'christmas' 'classical' 'classicmetal' 'club' 'colombian' 'comedy'\n",
      " 'conjazz' 'contemporary' 'country' 'cuban' 'dance' 'dancehall' 'dancepop'\n",
      " 'dark' 'death' 'deep' 'deutschrock' 'deutschspr' 'dirty' 'disco' 'dnb'\n",
      " 'documentary' 'downbeat' 'downtempo' 'drum' 'dub' 'dubstep' 'eastern'\n",
      " 'easy' 'electronic' 'electropop' 'emo' 'entehno' 'epicmetal' 'estrada'\n",
      " 'ethnic' 'eurofolk' 'european' 'experimental' 'extrememetal' 'fado'\n",
      " 'fairytail' 'film' 'fitness' 'flamenco' 'folk' 'folklore' 'folkmetal'\n",
      " 'folkrock' 'folktronica' 'forró' 'frankreich' 'französisch' 'french'\n",
      " 'funk' 'future' 'gangsta' 'garage' 'german' 'ghazal' 'gitarre' 'glitch'\n",
      " 'gospel' 'gothic' 'grime' 'grunge' 'gypsy' 'handsup' \"hard'n'heavy\"\n",
      " 'hardcore' 'hardstyle' 'hardtechno' 'hip' 'hip-hop' 'hiphop' 'historisch'\n",
      " 'holiday' 'hop' 'horror' 'house' 'hymn' 'idm' 'independent' 'indian'\n",
      " 'indie' 'indipop' 'industrial' 'inspirational' 'instrumental'\n",
      " 'international' 'irish' 'jam' 'japanese' 'jazz' 'jewish' 'jpop' 'jungle'\n",
      " 'k-pop' 'karadeniz' 'karaoke' 'kayokyoku' 'korean' 'laiko' 'latin'\n",
      " 'latino' 'leftfield' 'local' 'lounge' 'loungeelectronic' 'lovers'\n",
      " 'malaysian' 'mandopop' 'marschmusik' 'meditative' 'mediterranean'\n",
      " 'melodic' 'metal' 'metalcore' 'mexican' 'middle' 'minimal'\n",
      " 'miscellaneous' 'modern' 'mood' 'mpb' 'muslim' 'native' 'neoklassik'\n",
      " 'neue' 'new' 'newage' 'newwave' 'nu' 'nujazz' 'numetal' 'oceania' 'old'\n",
      " 'opera' 'orchestral' 'other' 'piano' 'podcasts' 'pop' 'popdance'\n",
      " 'popelectronic' 'popeurodance' 'poprussian' 'post' 'posthardcore'\n",
      " 'postrock' 'power' 'progmetal' 'progressive' 'psychedelic' 'punjabi'\n",
      " 'punk' 'quebecois' 'ragga' 'ram' 'rancheras' 'rap' 'rave' 'reggae'\n",
      " 'reggaeton' 'regional' 'relax' 'religious' 'retro' 'rhythm' 'rnb' 'rnr'\n",
      " 'rock' 'rockabilly' 'rockalternative' 'rockindie' 'rockother' 'romance'\n",
      " 'roots' 'ruspop' 'rusrap' 'rusrock' 'russian' 'salsa' 'samba' 'scenic'\n",
      " 'schlager' 'self' 'sertanejo' 'shanson' 'shoegazing' 'showtunes' 'singer'\n",
      " 'ska' 'skarock' 'slow' 'smooth' 'soft' 'soul' 'soulful' 'sound'\n",
      " 'soundtrack' 'southern' 'specialty' 'speech' 'spiritual' 'sport'\n",
      " 'stonerrock' 'surf' 'swing' 'synthpop' 'synthrock' 'sängerportrait'\n",
      " 'tango' 'tanzorchester' 'taraftar' 'tatar' 'tech' 'techno' 'teen'\n",
      " 'thrash' 'top' 'traditional' 'tradjazz' 'trance' 'tribal' 'trip'\n",
      " 'triphop' 'tropical' 'türk' 'türkçe' 'ukrrock' 'unknown' 'urban' 'uzbek'\n",
      " 'variété' 'vi' 'videogame' 'vocal' 'western' 'world' 'worldbeat' 'ïîï'\n",
      " 'электроника']\n"
     ]
    }
   ],
   "source": [
    "# Просмотр уникальных названий жанров\n",
    "print(df['genre'].sort_values().unique())\n"
   ]
  },
  {
   "cell_type": "code",
   "execution_count": 15,
   "metadata": {
    "id": "ErNDkmns_Zct"
   },
   "outputs": [],
   "source": [
    "# Устранение неявных дубликатов    \n",
    "        \n",
    "duplicates = ['hip', 'hop', 'hip-hop']\n",
    "name = 'hiphop'\n",
    "df['genre'] = df['genre'].replace(duplicates, name)"
   ]
  },
  {
   "cell_type": "code",
   "execution_count": 16,
   "metadata": {
    "deletable": false,
    "id": "wvixALnFG15m"
   },
   "outputs": [
    {
     "name": "stdout",
     "output_type": "stream",
     "text": [
      "['acid' 'acoustic' 'action' 'adult' 'africa' 'afrikaans' 'alternative'\n",
      " 'alternativepunk' 'ambient' 'americana' 'animated' 'anime' 'arabesk'\n",
      " 'arabic' 'arena' 'argentinetango' 'art' 'audiobook' 'author' 'avantgarde'\n",
      " 'axé' 'baile' 'balkan' 'beats' 'bigroom' 'black' 'bluegrass' 'blues'\n",
      " 'bollywood' 'bossa' 'brazilian' 'breakbeat' 'breaks' 'broadway'\n",
      " 'cantautori' 'cantopop' 'canzone' 'caribbean' 'caucasian' 'celtic'\n",
      " 'chamber' 'chanson' 'children' 'chill' 'chinese' 'choral' 'christian'\n",
      " 'christmas' 'classical' 'classicmetal' 'club' 'colombian' 'comedy'\n",
      " 'conjazz' 'contemporary' 'country' 'cuban' 'dance' 'dancehall' 'dancepop'\n",
      " 'dark' 'death' 'deep' 'deutschrock' 'deutschspr' 'dirty' 'disco' 'dnb'\n",
      " 'documentary' 'downbeat' 'downtempo' 'drum' 'dub' 'dubstep' 'eastern'\n",
      " 'easy' 'electronic' 'electropop' 'emo' 'entehno' 'epicmetal' 'estrada'\n",
      " 'ethnic' 'eurofolk' 'european' 'experimental' 'extrememetal' 'fado'\n",
      " 'fairytail' 'film' 'fitness' 'flamenco' 'folk' 'folklore' 'folkmetal'\n",
      " 'folkrock' 'folktronica' 'forró' 'frankreich' 'französisch' 'french'\n",
      " 'funk' 'future' 'gangsta' 'garage' 'german' 'ghazal' 'gitarre' 'glitch'\n",
      " 'gospel' 'gothic' 'grime' 'grunge' 'gypsy' 'handsup' \"hard'n'heavy\"\n",
      " 'hardcore' 'hardstyle' 'hardtechno' 'hiphop' 'historisch' 'holiday'\n",
      " 'horror' 'house' 'hymn' 'idm' 'independent' 'indian' 'indie' 'indipop'\n",
      " 'industrial' 'inspirational' 'instrumental' 'international' 'irish' 'jam'\n",
      " 'japanese' 'jazz' 'jewish' 'jpop' 'jungle' 'k-pop' 'karadeniz' 'karaoke'\n",
      " 'kayokyoku' 'korean' 'laiko' 'latin' 'latino' 'leftfield' 'local'\n",
      " 'lounge' 'loungeelectronic' 'lovers' 'malaysian' 'mandopop' 'marschmusik'\n",
      " 'meditative' 'mediterranean' 'melodic' 'metal' 'metalcore' 'mexican'\n",
      " 'middle' 'minimal' 'miscellaneous' 'modern' 'mood' 'mpb' 'muslim'\n",
      " 'native' 'neoklassik' 'neue' 'new' 'newage' 'newwave' 'nu' 'nujazz'\n",
      " 'numetal' 'oceania' 'old' 'opera' 'orchestral' 'other' 'piano' 'podcasts'\n",
      " 'pop' 'popdance' 'popelectronic' 'popeurodance' 'poprussian' 'post'\n",
      " 'posthardcore' 'postrock' 'power' 'progmetal' 'progressive' 'psychedelic'\n",
      " 'punjabi' 'punk' 'quebecois' 'ragga' 'ram' 'rancheras' 'rap' 'rave'\n",
      " 'reggae' 'reggaeton' 'regional' 'relax' 'religious' 'retro' 'rhythm'\n",
      " 'rnb' 'rnr' 'rock' 'rockabilly' 'rockalternative' 'rockindie' 'rockother'\n",
      " 'romance' 'roots' 'ruspop' 'rusrap' 'rusrock' 'russian' 'salsa' 'samba'\n",
      " 'scenic' 'schlager' 'self' 'sertanejo' 'shanson' 'shoegazing' 'showtunes'\n",
      " 'singer' 'ska' 'skarock' 'slow' 'smooth' 'soft' 'soul' 'soulful' 'sound'\n",
      " 'soundtrack' 'southern' 'specialty' 'speech' 'spiritual' 'sport'\n",
      " 'stonerrock' 'surf' 'swing' 'synthpop' 'synthrock' 'sängerportrait'\n",
      " 'tango' 'tanzorchester' 'taraftar' 'tatar' 'tech' 'techno' 'teen'\n",
      " 'thrash' 'top' 'traditional' 'tradjazz' 'trance' 'tribal' 'trip'\n",
      " 'triphop' 'tropical' 'türk' 'türkçe' 'ukrrock' 'unknown' 'urban' 'uzbek'\n",
      " 'variété' 'vi' 'videogame' 'vocal' 'western' 'world' 'worldbeat' 'ïîï'\n",
      " 'электроника']\n"
     ]
    }
   ],
   "source": [
    "# Проверка на неявные дубликаты\n",
    "print(df['genre'].sort_values().unique())"
   ]
  },
  {
   "cell_type": "markdown",
   "metadata": {
    "id": "jz6a9-7HQUDd"
   },
   "source": [
    "**Выводы**\n",
    "\n",
    "Предобработка обнаружила три проблемы в данных:\n",
    "\n",
    "- нарушения в стиле заголовков,\n",
    "- пропущенные значения,\n",
    "- дубликаты — явные и неявные."
   ]
  },
  {
   "cell_type": "markdown",
   "metadata": {
    "deletable": false,
    "editable": false,
    "id": "WttZHXH0SqKk"
   },
   "source": [
    "## Проверка гипотез"
   ]
  },
  {
   "cell_type": "markdown",
   "metadata": {
    "deletable": false,
    "editable": false,
    "id": "Im936VVi_Zcu"
   },
   "source": [
    "### Сравнение поведения пользователей двух столиц"
   ]
  },
  {
   "cell_type": "markdown",
   "metadata": {
    "id": "nwt_MuaL_Zcu"
   },
   "source": [
    "Первая гипотеза утверждает, что пользователи по-разному слушают музыку в Москве и Санкт-Петербурге. Проверим это предположение по данным о трёх днях недели — понедельнике, среде и пятнице. Для этого:\n",
    "\n",
    "* Разделим пользователей Москвы и Санкт-Петербурга.\n",
    "* Сравним, сколько треков послушала каждая группа пользователей в понедельник, среду и пятницу.\n"
   ]
  },
  {
   "cell_type": "code",
   "execution_count": 17,
   "metadata": {
    "deletable": false,
    "id": "0_Qs96oh_Zcu"
   },
   "outputs": [
    {
     "data": {
      "text/plain": [
       "city\n",
       "Moscow              42741\n",
       "Saint-Petersburg    18512\n",
       "Name: time, dtype: int64"
      ]
     },
     "execution_count": 17,
     "metadata": {},
     "output_type": "execute_result"
    }
   ],
   "source": [
    "# Подсчёт прослушиваний в каждом городе\n",
    "df.groupby('city')['time'].count()"
   ]
  },
  {
   "cell_type": "markdown",
   "metadata": {
    "id": "dzli3w8o_Zcu",
    "tags": [
     "start_task"
    ]
   },
   "source": [
    "В Москве прослушиваний больше, чем в Петербурге. Из этого не следует, что московские пользователи чаще слушают музыку. Просто самих пользователей в Москве больше.\n"
   ]
  },
  {
   "cell_type": "code",
   "execution_count": 18,
   "metadata": {
    "deletable": false,
    "id": "uZMKjiJz_Zcu"
   },
   "outputs": [
    {
     "data": {
      "text/plain": [
       "day\n",
       "Friday       21840\n",
       "Monday       21354\n",
       "Wednesday    18059\n",
       "Name: time, dtype: int64"
      ]
     },
     "execution_count": 18,
     "metadata": {},
     "output_type": "execute_result"
    }
   ],
   "source": [
    "# Подсчёт прослушиваний в каждый из трёх дней\n",
    "df.groupby('day')['time'].count()"
   ]
  },
  {
   "cell_type": "markdown",
   "metadata": {
    "deletable": false,
    "editable": false,
    "id": "cC2tNrlL_Zcu"
   },
   "source": [
    "В среднем пользователи из двух городов менее активны по средам. Но картина может измениться, если рассмотреть каждый город в отдельности."
   ]
  },
  {
   "cell_type": "code",
   "execution_count": 19,
   "metadata": {
    "deletable": false,
    "id": "Nz3GdQB1_Zcu"
   },
   "outputs": [],
   "source": [
    "# <создание функции number_tracks()>\n",
    "# Объявляется функция с двумя параметрами: day, city.\n",
    "def number_tracks(day, city):\n",
    "# В переменной track_list сохраняются те строки таблицы df, для которых \n",
    "# значение в столбце 'day' равно параметру day и одновременно значение\n",
    "# в столбце 'city' равно параметру city (используйте последовательную фильтрацию\n",
    "# с помощью логической индексации или сложные логические выражения в одну строку, если вы уже знакомы с ними).\n",
    "    track_list = df[(df['day'] == day) & (df['city'] == city)]\n",
    "    \n",
    "# В переменной track_list_count сохраняется число значений столбца 'user_id',\n",
    "    track_list_count = track_list['user_id'].count()\n",
    "# рассчитанное методом count() для таблицы track_list.\n",
    "# Функция возвращает число - значение track_list_count.\n",
    "    return track_list_count\n",
    "\n",
    "# Функция для подсчёта прослушиваний для конкретного города и дня.\n",
    "# С помощью последовательной фильтрации с логической индексацией она \n",
    "# сначала получит из исходной таблицы строки с нужным днём,\n",
    "# затем из результата отфильтрует строки с нужным городом,\n",
    "# методом count() посчитает количество значений в колонке user_id. \n",
    "# Это количество функция вернёт в качестве результата"
   ]
  },
  {
   "cell_type": "code",
   "execution_count": 20,
   "metadata": {
    "deletable": false,
    "id": "rJcRATNQ_Zcu"
   },
   "outputs": [
    {
     "data": {
      "text/plain": [
       "15740"
      ]
     },
     "execution_count": 20,
     "metadata": {},
     "output_type": "execute_result"
    }
   ],
   "source": [
    "# количество прослушиваний в Москве по понедельникам\n",
    "\n",
    "number_tracks('Monday', 'Moscow')\n"
   ]
  },
  {
   "cell_type": "code",
   "execution_count": 21,
   "metadata": {
    "deletable": false,
    "id": "hq_ncZ5T_Zcu"
   },
   "outputs": [
    {
     "data": {
      "text/plain": [
       "5614"
      ]
     },
     "execution_count": 21,
     "metadata": {},
     "output_type": "execute_result"
    }
   ],
   "source": [
    "# количество прослушиваний в Санкт-Петербурге по понедельникам\n",
    "number_tracks('Monday', 'Saint-Petersburg')"
   ]
  },
  {
   "cell_type": "code",
   "execution_count": 22,
   "metadata": {
    "deletable": false,
    "id": "_NTy2VPU_Zcu"
   },
   "outputs": [
    {
     "data": {
      "text/plain": [
       "11056"
      ]
     },
     "execution_count": 22,
     "metadata": {},
     "output_type": "execute_result"
    }
   ],
   "source": [
    "# количество прослушиваний в Москве по средам\n",
    "number_tracks('Wednesday', 'Moscow')"
   ]
  },
  {
   "cell_type": "code",
   "execution_count": 23,
   "metadata": {
    "deletable": false,
    "id": "j2y3TAwo_Zcu"
   },
   "outputs": [
    {
     "data": {
      "text/plain": [
       "7003"
      ]
     },
     "execution_count": 23,
     "metadata": {},
     "output_type": "execute_result"
    }
   ],
   "source": [
    "# количество прослушиваний в Санкт-Петербурге по средам\n",
    "number_tracks('Wednesday', 'Saint-Petersburg')"
   ]
  },
  {
   "cell_type": "code",
   "execution_count": 24,
   "metadata": {
    "deletable": false,
    "id": "vYDw5u_K_Zcu"
   },
   "outputs": [
    {
     "data": {
      "text/plain": [
       "15945"
      ]
     },
     "execution_count": 24,
     "metadata": {},
     "output_type": "execute_result"
    }
   ],
   "source": [
    "# количество прослушиваний в Москве по пятницам\n",
    "number_tracks('Friday', 'Moscow')"
   ]
  },
  {
   "cell_type": "code",
   "execution_count": 25,
   "metadata": {
    "deletable": false,
    "id": "8_yzFtW3_Zcu"
   },
   "outputs": [
    {
     "data": {
      "text/plain": [
       "5895"
      ]
     },
     "execution_count": 25,
     "metadata": {},
     "output_type": "execute_result"
    }
   ],
   "source": [
    "# количество прослушиваний в Санкт-Петербурге по пятницам\n",
    "number_tracks('Friday', 'Saint-Petersburg')"
   ]
  },
  {
   "cell_type": "code",
   "execution_count": 26,
   "metadata": {
    "deletable": false,
    "id": "APAcLpOr_Zcu"
   },
   "outputs": [
    {
     "data": {
      "text/html": [
       "<div>\n",
       "<style scoped>\n",
       "    .dataframe tbody tr th:only-of-type {\n",
       "        vertical-align: middle;\n",
       "    }\n",
       "\n",
       "    .dataframe tbody tr th {\n",
       "        vertical-align: top;\n",
       "    }\n",
       "\n",
       "    .dataframe thead th {\n",
       "        text-align: right;\n",
       "    }\n",
       "</style>\n",
       "<table border=\"1\" class=\"dataframe\">\n",
       "  <thead>\n",
       "    <tr style=\"text-align: right;\">\n",
       "      <th></th>\n",
       "      <th>city</th>\n",
       "      <th>monday</th>\n",
       "      <th>wednesday</th>\n",
       "      <th>friday</th>\n",
       "    </tr>\n",
       "  </thead>\n",
       "  <tbody>\n",
       "    <tr>\n",
       "      <th>0</th>\n",
       "      <td>Moscow</td>\n",
       "      <td>15740</td>\n",
       "      <td>11056</td>\n",
       "      <td>15945</td>\n",
       "    </tr>\n",
       "    <tr>\n",
       "      <th>1</th>\n",
       "      <td>Saint-Petersburg</td>\n",
       "      <td>5614</td>\n",
       "      <td>7003</td>\n",
       "      <td>5895</td>\n",
       "    </tr>\n",
       "  </tbody>\n",
       "</table>\n",
       "</div>"
      ],
      "text/plain": [
       "               city  monday  wednesday  friday\n",
       "0            Moscow   15740      11056   15945\n",
       "1  Saint-Petersburg    5614       7003    5895"
      ]
     },
     "execution_count": 26,
     "metadata": {},
     "output_type": "execute_result"
    }
   ],
   "source": [
    "# Таблица с результатами\n",
    "data = {'city': ['Moscow', 'Saint-Petersburg'],\n",
    "        'monday': [15740, 5614],\n",
    "        'wednesday': [11056, 7003],\n",
    "        'friday': [15945, 5895]\n",
    "        }\n",
    "\n",
    "pd.DataFrame(data)\n",
    "\n"
   ]
  },
  {
   "cell_type": "markdown",
   "metadata": {
    "deletable": false,
    "editable": false,
    "id": "-EgPIHYu_Zcu"
   },
   "source": [
    "**Выводы**\n",
    "\n",
    "Данные показывают разницу поведения пользователей:\n",
    "\n",
    "- В Москве пик прослушиваний приходится на понедельник и пятницу, а в среду заметен спад.\n",
    "- В Петербурге, наоборот, больше слушают музыку по средам. Активность в понедельник и пятницу здесь почти в равной мере уступает среде.\n",
    "\n",
    "Значит, данные говорят в пользу первой гипотезы."
   ]
  },
  {
   "cell_type": "markdown",
   "metadata": {
    "deletable": false,
    "editable": false,
    "id": "atZAxtq4_Zcu"
   },
   "source": [
    "### Музыка в начале и в конце недели"
   ]
  },
  {
   "cell_type": "markdown",
   "metadata": {
    "deletable": false,
    "editable": false,
    "id": "eXrQqXFH_Zcu"
   },
   "source": [
    "Согласно второй гипотезе, утром в понедельник в Москве преобладают одни жанры, а в Петербурге — другие. Так же и вечером пятницы преобладают разные жанры — в зависимости от города."
   ]
  },
  {
   "cell_type": "code",
   "execution_count": 27,
   "metadata": {
    "deletable": false,
    "id": "qeaFfM_P_Zcu"
   },
   "outputs": [],
   "source": [
    "moscow_general = df[df['city'] == 'Moscow']"
   ]
  },
  {
   "cell_type": "code",
   "execution_count": 28,
   "metadata": {
    "deletable": false,
    "id": "ORaVRKto_Zcu"
   },
   "outputs": [],
   "source": [
    "spb_general = df[df['city'] == 'Saint-Petersburg']"
   ]
  },
  {
   "cell_type": "code",
   "execution_count": 29,
   "metadata": {
    "deletable": false,
    "id": "laJT9BYl_Zcu"
   },
   "outputs": [],
   "source": [
    "# Объявление функции genre_weekday() с параметрами table, day, time1, time2,\n",
    "# которая возвращает информацию о самых популярных жанрах в указанный день в\n",
    "# заданное время:\n",
    "#def genre_weekday('table', 'day', 'time1', 'time2'):\n",
    "# 1) в переменную genre_df сохраняются те строки переданного датафрейма table, для\n",
    "#    которых одновременно:\n",
    "#    - значение в столбце day равно значению аргумента day\n",
    "#    - значение в столбце time больше значения аргумента time1\n",
    "#    - значение в столбце time меньше значения аргумента time2\n",
    "#    Используем последовательную фильтрацию с помощью логической индексации.\n",
    "  #  genre_df = table[table['day'] == day]    \n",
    "  #  genre_df = table[table['time'] < time2]    \n",
    "   # genre_df = table[table['time'] > time1]\n",
    "    \n",
    "# 2) сгруппировать датафрейм genre_df по столбцу genre, взять один из его\n",
    "#    столбцов и посчитать методом count() количество записей для каждого из\n",
    "#    присутствующих жанров, получившийся Series записать в переменную\n",
    "#    genre_df_count\n",
    "  #  genre_df_count = genre_df.group('genre')['genre'].count()\n",
    "# 3) отсортировать genre_df_count по убыванию встречаемости и сохранить\n",
    "#    в переменную genre_df_sorted\n",
    " #   genre_df_sorted = genre_df_count.sort_values(ascending=False)\n",
    "# 4) вернуть Series из 10 первых значений genre_df_sorted, это будут топ-10\n",
    "#    популярных жанров (в указанный день, в заданное время)\n",
    "  #  return genre_df_sorted[:10]\n",
    "\n",
    "def genre_weekday(df, day, time1, time2):\n",
    "    # последовательная фильтрация\n",
    "    # оставляем в genre_df только те строки df, у которых день равен day\n",
    "    genre_df = df[df['day'] == day]# ваш код здесь\n",
    "    # оставляем в genre_df только те строки genre_df, у которых время меньше time2\n",
    "    genre_df = genre_df[genre_df['time'] < time2]# ваш код здесь\n",
    "    # оставляем в genre_df только те строки genre_df, у которых время больше time1\n",
    "    genre_df = genre_df[genre_df['time'] > time1]# ваш код здесь\n",
    "    # сгруппируем отфильтрованный датафрейм по столбцу с названиями жанров, возьмём столбец genre и посчитаем кол-во строк для каждого жанра методом count()\n",
    "    genre_df_grouped = genre_df.groupby('genre')['genre'].count() # ваш код здесь\n",
    "    # отсортируем результат по убыванию (чтобы в начале Series оказались самые популярные жанры)\n",
    "    genre_df_sorted = genre_df_grouped.sort_values(ascending=False)# ваш код здесь\n",
    "    # вернём Series с 10 самыми популярными жанрами в указанный отрезок времени заданного дня\n",
    "    return genre_df_sorted[:10]"
   ]
  },
  {
   "cell_type": "code",
   "execution_count": 30,
   "metadata": {
    "deletable": false,
    "id": "yz7itPUQ_Zcu"
   },
   "outputs": [
    {
     "data": {
      "text/plain": [
       "genre\n",
       "pop            781\n",
       "dance          549\n",
       "electronic     480\n",
       "rock           474\n",
       "hiphop         286\n",
       "ruspop         186\n",
       "world          181\n",
       "rusrap         175\n",
       "alternative    164\n",
       "unknown        161\n",
       "Name: genre, dtype: int64"
      ]
     },
     "execution_count": 30,
     "metadata": {},
     "output_type": "execute_result"
    }
   ],
   "source": [
    "# вызов функции для утра понедельника в Москве (вместо df — таблица moscow_general)\n",
    "# объекты, хранящие время, являются строками и сравниваются как строки\n",
    "# пример вызова: genre_weekday(moscow_general, 'Monday', '07:00', '11:00')\n",
    "genre_weekday(moscow_general, 'Monday', '07:00', '11:00')"
   ]
  },
  {
   "cell_type": "code",
   "execution_count": 31,
   "metadata": {
    "deletable": false,
    "id": "kwUcHPdy_Zcu"
   },
   "outputs": [
    {
     "data": {
      "text/plain": [
       "genre\n",
       "pop            218\n",
       "dance          182\n",
       "rock           162\n",
       "electronic     147\n",
       "hiphop          80\n",
       "ruspop          64\n",
       "alternative     58\n",
       "rusrap          55\n",
       "jazz            44\n",
       "classical       40\n",
       "Name: genre, dtype: int64"
      ]
     },
     "execution_count": 31,
     "metadata": {},
     "output_type": "execute_result"
    }
   ],
   "source": [
    "# вызов функции для утра понедельника в Петербурге (вместо df — таблица spb_general)\n",
    "genre_weekday(spb_general, 'Monday', '07:00', '11:00')"
   ]
  },
  {
   "cell_type": "code",
   "execution_count": 32,
   "metadata": {
    "deletable": false,
    "id": "EzXVRE1o_Zcu"
   },
   "outputs": [
    {
     "data": {
      "text/plain": [
       "genre\n",
       "pop            713\n",
       "rock           517\n",
       "dance          495\n",
       "electronic     482\n",
       "hiphop         273\n",
       "world          208\n",
       "ruspop         170\n",
       "alternative    163\n",
       "classical      163\n",
       "rusrap         142\n",
       "Name: genre, dtype: int64"
      ]
     },
     "execution_count": 32,
     "metadata": {},
     "output_type": "execute_result"
    }
   ],
   "source": [
    "# вызов функции для вечера пятницы в Москве\n",
    "genre_weekday(moscow_general, 'Friday', '17:00', '23:00')"
   ]
  },
  {
   "cell_type": "code",
   "execution_count": 33,
   "metadata": {
    "deletable": false,
    "id": "JZaEKu5v_Zcu"
   },
   "outputs": [
    {
     "data": {
      "text/plain": [
       "genre\n",
       "pop            256\n",
       "electronic     216\n",
       "rock           216\n",
       "dance          210\n",
       "hiphop          97\n",
       "alternative     63\n",
       "jazz            61\n",
       "classical       60\n",
       "rusrap          59\n",
       "world           54\n",
       "Name: genre, dtype: int64"
      ]
     },
     "execution_count": 33,
     "metadata": {},
     "output_type": "execute_result"
    }
   ],
   "source": [
    "# вызов функции для вечера пятницы в Петербурге\n",
    "genre_weekday(spb_general, 'Friday', '17:00', '23:00')"
   ]
  },
  {
   "cell_type": "markdown",
   "metadata": {
    "deletable": false,
    "editable": false,
    "id": "wrCe4MNX_Zcu"
   },
   "source": [
    "**Выводы**\n",
    "\n",
    "Если сравнить топ-10 жанров в понедельник утром, можно сделать такие выводы:\n",
    "\n",
    "1. В Москве и Петербурге слушают похожую музыку. Единственное отличие — в московский рейтинг вошёл жанр “world”, а в петербургский — джаз и классика.\n",
    "\n",
    "2. В Москве пропущенных значений оказалось так много, что значение `'unknown'` заняло десятое место среди самых популярных жанров. Значит, пропущенные значения занимают существенную долю в данных и угрожают достоверности исследования.\n",
    "\n",
    "Вечер пятницы не меняет эту картину. Некоторые жанры поднимаются немного выше, другие спускаются, но в целом топ-10 остаётся тем же самым.\n",
    "\n",
    "Таким образом, вторая гипотеза подтвердилась лишь частично:\n",
    "* Пользователи слушают похожую музыку в начале недели и в конце.\n",
    "* Разница между Москвой и Петербургом не слишком выражена. В Москве чаще слушают русскую популярную музыку, в Петербурге — джаз.\n",
    "\n",
    "Однако пропуски в данных ставят под сомнение этот результат. В Москве их так много, что рейтинг топ-10 мог бы выглядеть иначе, если бы не утерянные  данные о жанрах."
   ]
  },
  {
   "cell_type": "markdown",
   "metadata": {
    "deletable": false,
    "editable": false,
    "id": "JolODAqr_Zcu"
   },
   "source": [
    "### Жанровые предпочтения в Москве и Петербурге\n",
    "\n",
    "Гипотеза: Петербург — столица рэпа, музыку этого жанра там слушают чаще, чем в Москве.  А Москва — город контрастов, в котором, тем не менее, преобладает поп-музыка."
   ]
  },
  {
   "cell_type": "code",
   "execution_count": 34,
   "metadata": {
    "deletable": false,
    "id": "r19lIPke_Zcu"
   },
   "outputs": [],
   "source": [
    "# одной строкой: группировка таблицы moscow_general по столбцу 'genre', \n",
    "# подсчёт числа значений 'genre' в этой группировке методом count(), \n",
    "# сортировка получившегося Series в порядке убывания и сохранение в moscow_genres\n",
    "moscow_genres = moscow_general.groupby('genre')['genre'].count().sort_values(ascending=False)"
   ]
  },
  {
   "cell_type": "code",
   "execution_count": 35,
   "metadata": {
    "deletable": false,
    "id": "WhCSooF8_Zcv"
   },
   "outputs": [
    {
     "name": "stdout",
     "output_type": "stream",
     "text": [
      "genre\n",
      "pop            5892\n",
      "dance          4435\n",
      "rock           3965\n",
      "electronic     3786\n",
      "hiphop         2096\n",
      "classical      1616\n",
      "world          1432\n",
      "alternative    1379\n",
      "ruspop         1372\n",
      "rusrap         1161\n",
      "Name: genre, dtype: int64\n"
     ]
    }
   ],
   "source": [
    "# просмотр первых 10 строк moscow_genres\n",
    "print(moscow_genres.head(10))"
   ]
  },
  {
   "cell_type": "code",
   "execution_count": 36,
   "metadata": {
    "deletable": false,
    "id": "gluLIpE7_Zcv"
   },
   "outputs": [],
   "source": [
    "# одной строкой: группировка таблицы spb_general по столбцу 'genre', \n",
    "# подсчёт числа значений 'genre' в этой группировке методом count(), \n",
    "# сортировка получившегося Series в порядке убывания и сохранение в spb_genres\n",
    "spb_genres = spb_general.groupby('genre')['genre'].count().sort_values(ascending=False)"
   ]
  },
  {
   "cell_type": "code",
   "execution_count": 37,
   "metadata": {
    "deletable": false,
    "id": "uaGJHjVU_Zcv"
   },
   "outputs": [
    {
     "name": "stdout",
     "output_type": "stream",
     "text": [
      "genre\n",
      "pop            2431\n",
      "dance          1932\n",
      "rock           1879\n",
      "electronic     1736\n",
      "hiphop          960\n",
      "alternative     649\n",
      "classical       646\n",
      "rusrap          564\n",
      "ruspop          538\n",
      "world           515\n",
      "Name: genre, dtype: int64\n"
     ]
    }
   ],
   "source": [
    "# просмотр первых 10 строк spb_genres\n",
    "print(spb_genres.head(10))"
   ]
  },
  {
   "cell_type": "markdown",
   "metadata": {
    "deletable": false,
    "editable": false,
    "id": "RY51YJYu_Zcv"
   },
   "source": [
    "**Выводы**"
   ]
  },
  {
   "cell_type": "markdown",
   "metadata": {
    "deletable": false,
    "editable": false,
    "id": "nVhnJEm__Zcv"
   },
   "source": [
    "Гипотеза частично подтвердилась:\n",
    "* Поп-музыка — самый популярный жанр в Москве, как и предполагала гипотеза. Более того, в топ-10 жанров встречается близкий жанр — русская популярная музыка.\n",
    "* Вопреки ожиданиям, рэп одинаково популярен в Москве и Петербурге. \n"
   ]
  },
  {
   "cell_type": "markdown",
   "metadata": {
    "deletable": false,
    "editable": false,
    "id": "ykKQ0N65_Zcv"
   },
   "source": [
    "## Итоги исследования"
   ]
  },
  {
   "cell_type": "markdown",
   "metadata": {
    "deletable": false,
    "editable": false,
    "id": "tjUwbHb3_Zcv"
   },
   "source": [
    "Вы проверили три гипотезы и установили:\n",
    "\n",
    "1. День недели по-разному влияет на активность пользователей в Москве и Петербурге. \n",
    "\n",
    "Первая гипотеза полностью подтвердилась.\n",
    "\n",
    "2. Музыкальные предпочтения не сильно меняются в течение недели — будь то Москва или Петербург. Небольшие различия заметны в начале недели, по понедельникам:\n",
    "* в Москве слушают музыку жанра “world”,\n",
    "* в Петербурге — джаз и классику.\n",
    "\n",
    "Таким образом, вторая гипотеза подтвердилась лишь отчасти. Этот результат мог оказаться иным, если бы не пропуски в данных.\n",
    "\n",
    "3. Во вкусах пользователей Москвы и Петербурга больше общего чем различий. Вопреки ожиданиям, предпочтения жанров в Петербурге напоминают московские.\n",
    "\n",
    "Третья гипотеза не подтвердилась. Если различия в предпочтениях и существуют, на основной массе пользователей они незаметны.\n",
    "\n",
    "**На практике исследования содержат проверки статистических гипотез.**\n",
    "Из данных одного сервиса не всегда можно сделать вывод о всех жителях города.\n",
    "Проверки статистических гипотез покажут, насколько они достоверны, исходя из имеющихся данных. \n",
    "С методами проверок гипотез вы ещё познакомитесь в следующих темах."
   ]
  }
 ],
 "metadata": {
  "ExecuteTimeLog": [
   {
    "duration": 112,
    "start_time": "2022-08-01T15:24:50.763Z"
   },
   {
    "duration": 93,
    "start_time": "2022-08-01T15:25:14.623Z"
   },
   {
    "duration": 44,
    "start_time": "2022-08-01T15:25:21.345Z"
   },
   {
    "duration": 7,
    "start_time": "2022-08-01T15:25:39.881Z"
   },
   {
    "duration": 412,
    "start_time": "2022-08-01T15:25:59.517Z"
   },
   {
    "duration": 498,
    "start_time": "2022-08-01T15:26:01.958Z"
   },
   {
    "duration": 17,
    "start_time": "2022-08-01T15:27:14.671Z"
   },
   {
    "duration": 36,
    "start_time": "2022-08-01T15:28:23.781Z"
   },
   {
    "duration": 28,
    "start_time": "2022-08-01T15:28:33.746Z"
   },
   {
    "duration": 3,
    "start_time": "2022-08-01T15:42:12.076Z"
   },
   {
    "duration": 29,
    "start_time": "2022-08-01T15:44:27.342Z"
   },
   {
    "duration": 5,
    "start_time": "2022-08-01T15:45:01.220Z"
   },
   {
    "duration": 4,
    "start_time": "2022-08-01T15:45:08.927Z"
   },
   {
    "duration": 93,
    "start_time": "2022-08-01T15:47:26.466Z"
   },
   {
    "duration": 18,
    "start_time": "2022-08-01T15:47:38.535Z"
   },
   {
    "duration": 41,
    "start_time": "2022-08-01T15:48:16.764Z"
   },
   {
    "duration": 46,
    "start_time": "2022-08-01T15:48:27.850Z"
   },
   {
    "duration": 8,
    "start_time": "2022-08-01T15:49:36.290Z"
   },
   {
    "duration": 72,
    "start_time": "2022-08-01T15:51:59.140Z"
   },
   {
    "duration": 12,
    "start_time": "2022-08-01T15:52:23.882Z"
   },
   {
    "duration": 3,
    "start_time": "2022-08-01T15:52:36.986Z"
   },
   {
    "duration": 14,
    "start_time": "2022-08-01T15:52:40.238Z"
   },
   {
    "duration": 4,
    "start_time": "2022-08-01T15:52:42.557Z"
   },
   {
    "duration": 2,
    "start_time": "2022-08-01T15:52:53.157Z"
   },
   {
    "duration": 24,
    "start_time": "2022-08-01T15:53:34.546Z"
   },
   {
    "duration": 176,
    "start_time": "2022-08-01T16:12:13.005Z"
   },
   {
    "duration": 201,
    "start_time": "2022-08-01T16:13:26.624Z"
   },
   {
    "duration": 91,
    "start_time": "2022-08-01T16:14:50.675Z"
   },
   {
    "duration": 1287,
    "start_time": "2022-08-01T16:15:34.024Z"
   },
   {
    "duration": 1286,
    "start_time": "2022-08-01T16:16:08.470Z"
   },
   {
    "duration": 181,
    "start_time": "2022-08-01T16:22:36.615Z"
   },
   {
    "duration": 20,
    "start_time": "2022-08-01T16:30:14.341Z"
   },
   {
    "duration": 26,
    "start_time": "2022-08-01T16:30:34.122Z"
   },
   {
    "duration": 70,
    "start_time": "2022-08-02T15:30:01.377Z"
   },
   {
    "duration": 9,
    "start_time": "2022-08-02T15:31:43.940Z"
   },
   {
    "duration": 0,
    "start_time": "2022-08-02T15:31:43.952Z"
   },
   {
    "duration": 0,
    "start_time": "2022-08-02T15:31:43.954Z"
   },
   {
    "duration": 0,
    "start_time": "2022-08-02T15:31:43.955Z"
   },
   {
    "duration": 0,
    "start_time": "2022-08-02T15:31:43.957Z"
   },
   {
    "duration": 0,
    "start_time": "2022-08-02T15:31:43.959Z"
   },
   {
    "duration": 0,
    "start_time": "2022-08-02T15:31:43.960Z"
   },
   {
    "duration": 0,
    "start_time": "2022-08-02T15:31:43.962Z"
   },
   {
    "duration": 0,
    "start_time": "2022-08-02T15:31:43.964Z"
   },
   {
    "duration": 0,
    "start_time": "2022-08-02T15:31:43.966Z"
   },
   {
    "duration": 0,
    "start_time": "2022-08-02T15:31:43.967Z"
   },
   {
    "duration": 5,
    "start_time": "2022-08-02T15:31:43.971Z"
   },
   {
    "duration": 34,
    "start_time": "2022-08-02T15:31:43.977Z"
   },
   {
    "duration": 6,
    "start_time": "2022-08-02T15:31:44.013Z"
   },
   {
    "duration": 4,
    "start_time": "2022-08-02T15:31:44.021Z"
   },
   {
    "duration": 7,
    "start_time": "2022-08-02T15:31:44.027Z"
   },
   {
    "duration": 6,
    "start_time": "2022-08-02T15:31:44.036Z"
   },
   {
    "duration": 5,
    "start_time": "2022-08-02T15:31:44.043Z"
   },
   {
    "duration": 5,
    "start_time": "2022-08-02T15:31:44.050Z"
   },
   {
    "duration": 73,
    "start_time": "2022-08-02T15:31:44.057Z"
   },
   {
    "duration": 0,
    "start_time": "2022-08-02T15:31:44.132Z"
   },
   {
    "duration": 0,
    "start_time": "2022-08-02T15:31:44.133Z"
   },
   {
    "duration": 0,
    "start_time": "2022-08-02T15:31:44.135Z"
   },
   {
    "duration": 0,
    "start_time": "2022-08-02T15:31:44.137Z"
   },
   {
    "duration": 0,
    "start_time": "2022-08-02T15:31:44.139Z"
   },
   {
    "duration": 0,
    "start_time": "2022-08-02T15:31:44.140Z"
   },
   {
    "duration": 0,
    "start_time": "2022-08-02T15:31:44.142Z"
   },
   {
    "duration": 0,
    "start_time": "2022-08-02T15:31:44.143Z"
   },
   {
    "duration": 7,
    "start_time": "2022-08-02T15:32:08.324Z"
   },
   {
    "duration": 429,
    "start_time": "2022-08-02T15:32:19.822Z"
   },
   {
    "duration": 573,
    "start_time": "2022-08-02T15:32:20.253Z"
   },
   {
    "duration": 11,
    "start_time": "2022-08-02T15:32:20.829Z"
   },
   {
    "duration": 65,
    "start_time": "2022-08-02T15:32:20.843Z"
   },
   {
    "duration": 4,
    "start_time": "2022-08-02T15:32:20.911Z"
   },
   {
    "duration": 17,
    "start_time": "2022-08-02T15:32:20.917Z"
   },
   {
    "duration": 25,
    "start_time": "2022-08-02T15:32:20.936Z"
   },
   {
    "duration": 11,
    "start_time": "2022-08-02T15:32:20.963Z"
   },
   {
    "duration": 38,
    "start_time": "2022-08-02T15:32:20.976Z"
   },
   {
    "duration": 28,
    "start_time": "2022-08-02T15:32:21.016Z"
   },
   {
    "duration": 42,
    "start_time": "2022-08-02T15:32:21.046Z"
   },
   {
    "duration": 4,
    "start_time": "2022-08-02T15:32:21.109Z"
   },
   {
    "duration": 6,
    "start_time": "2022-08-02T15:32:21.115Z"
   },
   {
    "duration": 3,
    "start_time": "2022-08-02T15:32:21.127Z"
   },
   {
    "duration": 7,
    "start_time": "2022-08-02T15:32:21.132Z"
   },
   {
    "duration": 5,
    "start_time": "2022-08-02T15:32:21.141Z"
   },
   {
    "duration": 8,
    "start_time": "2022-08-02T15:32:21.148Z"
   },
   {
    "duration": 6,
    "start_time": "2022-08-02T15:32:21.158Z"
   },
   {
    "duration": 8,
    "start_time": "2022-08-02T15:32:21.165Z"
   },
   {
    "duration": 36,
    "start_time": "2022-08-02T15:32:21.174Z"
   },
   {
    "duration": 4,
    "start_time": "2022-08-02T15:32:21.211Z"
   },
   {
    "duration": 12,
    "start_time": "2022-08-02T15:32:21.217Z"
   },
   {
    "duration": 9,
    "start_time": "2022-08-02T15:32:21.231Z"
   },
   {
    "duration": 6,
    "start_time": "2022-08-02T15:32:21.242Z"
   },
   {
    "duration": 8,
    "start_time": "2022-08-02T15:32:21.250Z"
   },
   {
    "duration": 11,
    "start_time": "2022-08-02T15:32:21.260Z"
   },
   {
    "duration": 7,
    "start_time": "2022-08-02T15:32:21.272Z"
   },
   {
    "duration": 6,
    "start_time": "2022-08-02T15:32:21.281Z"
   },
   {
    "duration": 22,
    "start_time": "2022-08-02T15:32:21.288Z"
   },
   {
    "duration": 100,
    "start_time": "2022-08-02T15:32:21.312Z"
   },
   {
    "duration": 0,
    "start_time": "2022-08-02T15:32:21.414Z"
   },
   {
    "duration": 0,
    "start_time": "2022-08-02T15:32:21.416Z"
   },
   {
    "duration": 0,
    "start_time": "2022-08-02T15:32:21.419Z"
   },
   {
    "duration": 0,
    "start_time": "2022-08-02T15:32:21.420Z"
   },
   {
    "duration": 0,
    "start_time": "2022-08-02T15:32:21.422Z"
   },
   {
    "duration": 0,
    "start_time": "2022-08-02T15:32:21.423Z"
   },
   {
    "duration": 0,
    "start_time": "2022-08-02T15:32:21.425Z"
   },
   {
    "duration": 0,
    "start_time": "2022-08-02T15:32:21.427Z"
   },
   {
    "duration": 74,
    "start_time": "2022-08-02T15:32:34.925Z"
   },
   {
    "duration": 80,
    "start_time": "2022-08-02T15:33:14.831Z"
   },
   {
    "duration": 74,
    "start_time": "2022-08-02T15:33:58.333Z"
   },
   {
    "duration": 9,
    "start_time": "2022-08-02T15:35:26.122Z"
   },
   {
    "duration": 74,
    "start_time": "2022-08-02T15:42:11.755Z"
   },
   {
    "duration": 62,
    "start_time": "2022-08-02T15:42:23.372Z"
   },
   {
    "duration": 77,
    "start_time": "2022-08-02T15:43:08.987Z"
   },
   {
    "duration": 57,
    "start_time": "2022-08-02T15:43:44.785Z"
   },
   {
    "duration": 55,
    "start_time": "2022-08-02T15:50:29.437Z"
   },
   {
    "duration": 52,
    "start_time": "2022-08-02T15:53:45.258Z"
   },
   {
    "duration": 45,
    "start_time": "2022-08-02T15:54:25.879Z"
   },
   {
    "duration": 49,
    "start_time": "2022-08-02T15:54:33.435Z"
   },
   {
    "duration": 57,
    "start_time": "2022-08-02T15:54:42.025Z"
   },
   {
    "duration": 66,
    "start_time": "2022-08-02T15:55:22.088Z"
   },
   {
    "duration": 66,
    "start_time": "2022-08-02T16:00:44.426Z"
   },
   {
    "duration": 37,
    "start_time": "2022-08-02T16:03:01.659Z"
   },
   {
    "duration": 78,
    "start_time": "2022-08-02T16:13:43.135Z"
   },
   {
    "duration": 111,
    "start_time": "2022-08-02T16:14:00.779Z"
   },
   {
    "duration": 20,
    "start_time": "2022-08-02T16:14:09.698Z"
   },
   {
    "duration": 8,
    "start_time": "2022-08-02T16:22:22.925Z"
   },
   {
    "duration": 20,
    "start_time": "2022-08-02T16:22:32.227Z"
   },
   {
    "duration": 68,
    "start_time": "2022-08-02T16:22:52.431Z"
   },
   {
    "duration": 10,
    "start_time": "2022-08-02T16:30:10.327Z"
   },
   {
    "duration": 76,
    "start_time": "2022-08-02T16:30:26.780Z"
   },
   {
    "duration": 10,
    "start_time": "2022-08-02T16:31:42.448Z"
   },
   {
    "duration": 18,
    "start_time": "2022-08-02T16:32:07.683Z"
   },
   {
    "duration": 50,
    "start_time": "2022-08-02T16:45:20.546Z"
   },
   {
    "duration": 76,
    "start_time": "2022-08-02T16:49:30.892Z"
   },
   {
    "duration": 68,
    "start_time": "2022-08-02T16:49:36.477Z"
   },
   {
    "duration": 7,
    "start_time": "2022-08-02T16:50:11.627Z"
   },
   {
    "duration": 57,
    "start_time": "2022-08-02T16:50:22.556Z"
   },
   {
    "duration": 21,
    "start_time": "2022-08-02T16:51:17.234Z"
   },
   {
    "duration": 381,
    "start_time": "2022-08-02T16:54:04.842Z"
   },
   {
    "duration": 22,
    "start_time": "2022-08-02T16:54:21.435Z"
   },
   {
    "duration": 11,
    "start_time": "2022-08-02T16:55:09.943Z"
   },
   {
    "duration": 13,
    "start_time": "2022-08-02T16:55:33.339Z"
   },
   {
    "duration": 50,
    "start_time": "2022-08-02T16:55:44.962Z"
   },
   {
    "duration": 9,
    "start_time": "2022-08-02T17:22:13.259Z"
   },
   {
    "duration": 7,
    "start_time": "2022-08-02T17:22:23.938Z"
   },
   {
    "duration": 8,
    "start_time": "2022-08-02T17:22:28.283Z"
   },
   {
    "duration": 10,
    "start_time": "2022-08-02T17:26:17.618Z"
   },
   {
    "duration": 15,
    "start_time": "2022-08-02T17:28:07.415Z"
   },
   {
    "duration": 8,
    "start_time": "2022-08-02T17:29:02.634Z"
   },
   {
    "duration": 9,
    "start_time": "2022-08-02T17:33:29.527Z"
   },
   {
    "duration": 15,
    "start_time": "2022-08-02T17:34:02.318Z"
   },
   {
    "duration": 8,
    "start_time": "2022-08-02T17:35:09.490Z"
   },
   {
    "duration": 8,
    "start_time": "2022-08-02T17:36:02.463Z"
   },
   {
    "duration": 8,
    "start_time": "2022-08-02T17:36:49.576Z"
   },
   {
    "duration": 8,
    "start_time": "2022-08-02T17:41:26.238Z"
   },
   {
    "duration": 11,
    "start_time": "2022-08-02T17:41:37.978Z"
   },
   {
    "duration": 9,
    "start_time": "2022-08-02T17:42:16.925Z"
   },
   {
    "duration": 10,
    "start_time": "2022-08-02T17:47:04.860Z"
   },
   {
    "duration": 5,
    "start_time": "2022-08-02T17:47:15.024Z"
   },
   {
    "duration": 8,
    "start_time": "2022-08-02T17:47:17.394Z"
   },
   {
    "duration": 8,
    "start_time": "2022-08-02T17:52:41.070Z"
   },
   {
    "duration": 5,
    "start_time": "2022-08-02T17:52:44.650Z"
   },
   {
    "duration": 11,
    "start_time": "2022-08-02T17:52:45.825Z"
   },
   {
    "duration": 8,
    "start_time": "2022-08-02T17:56:02.662Z"
   },
   {
    "duration": 29,
    "start_time": "2022-08-02T17:56:41.984Z"
   },
   {
    "duration": 17,
    "start_time": "2022-08-02T17:59:47.178Z"
   },
   {
    "duration": 21,
    "start_time": "2022-08-02T17:59:48.529Z"
   },
   {
    "duration": 25,
    "start_time": "2022-08-02T18:00:09.536Z"
   },
   {
    "duration": 22,
    "start_time": "2022-08-02T18:00:10.956Z"
   },
   {
    "duration": 27,
    "start_time": "2022-08-02T18:00:12.230Z"
   },
   {
    "duration": 30,
    "start_time": "2022-08-02T18:00:13.546Z"
   },
   {
    "duration": 12,
    "start_time": "2022-08-02T18:05:38.185Z"
   },
   {
    "duration": 11,
    "start_time": "2022-08-02T18:07:43.942Z"
   },
   {
    "duration": 12,
    "start_time": "2022-08-02T18:08:34.680Z"
   },
   {
    "duration": 8,
    "start_time": "2022-08-02T18:09:07.669Z"
   },
   {
    "duration": 14,
    "start_time": "2022-08-02T18:09:37.482Z"
   },
   {
    "duration": 11,
    "start_time": "2022-08-02T18:10:00.759Z"
   },
   {
    "duration": 12,
    "start_time": "2022-08-02T18:10:14.139Z"
   },
   {
    "duration": 4,
    "start_time": "2022-08-02T18:10:28.857Z"
   },
   {
    "duration": 294,
    "start_time": "2022-08-02T18:10:28.863Z"
   },
   {
    "duration": 10,
    "start_time": "2022-08-02T18:10:29.160Z"
   },
   {
    "duration": 52,
    "start_time": "2022-08-02T18:10:29.173Z"
   },
   {
    "duration": 23,
    "start_time": "2022-08-02T18:10:29.229Z"
   },
   {
    "duration": 11,
    "start_time": "2022-08-02T18:10:29.254Z"
   },
   {
    "duration": 15,
    "start_time": "2022-08-02T18:10:29.267Z"
   },
   {
    "duration": 4,
    "start_time": "2022-08-02T18:10:29.285Z"
   },
   {
    "duration": 64,
    "start_time": "2022-08-02T18:10:29.291Z"
   },
   {
    "duration": 31,
    "start_time": "2022-08-02T18:10:29.357Z"
   },
   {
    "duration": 68,
    "start_time": "2022-08-02T18:10:29.390Z"
   },
   {
    "duration": 93,
    "start_time": "2022-08-02T18:10:29.461Z"
   },
   {
    "duration": 116,
    "start_time": "2022-08-02T18:10:29.556Z"
   },
   {
    "duration": 99,
    "start_time": "2022-08-02T18:10:29.676Z"
   },
   {
    "duration": 81,
    "start_time": "2022-08-02T18:10:29.778Z"
   },
   {
    "duration": 24,
    "start_time": "2022-08-02T18:10:29.861Z"
   },
   {
    "duration": 90,
    "start_time": "2022-08-02T18:10:29.888Z"
   },
   {
    "duration": 20,
    "start_time": "2022-08-02T18:10:29.981Z"
   },
   {
    "duration": 93,
    "start_time": "2022-08-02T18:10:30.003Z"
   },
   {
    "duration": 5,
    "start_time": "2022-08-02T18:10:30.098Z"
   },
   {
    "duration": 74,
    "start_time": "2022-08-02T18:10:30.105Z"
   },
   {
    "duration": 17,
    "start_time": "2022-08-02T18:10:30.181Z"
   },
   {
    "duration": 61,
    "start_time": "2022-08-02T18:10:30.200Z"
   },
   {
    "duration": 26,
    "start_time": "2022-08-02T18:10:30.263Z"
   },
   {
    "duration": 26,
    "start_time": "2022-08-02T18:10:30.291Z"
   },
   {
    "duration": 51,
    "start_time": "2022-08-02T18:10:30.321Z"
   },
   {
    "duration": 10,
    "start_time": "2022-08-02T18:10:30.375Z"
   },
   {
    "duration": 0,
    "start_time": "2022-08-02T18:10:30.388Z"
   },
   {
    "duration": 0,
    "start_time": "2022-08-02T18:10:30.390Z"
   },
   {
    "duration": 0,
    "start_time": "2022-08-02T18:10:30.391Z"
   },
   {
    "duration": 0,
    "start_time": "2022-08-02T18:10:30.392Z"
   },
   {
    "duration": 0,
    "start_time": "2022-08-02T18:10:30.397Z"
   },
   {
    "duration": 0,
    "start_time": "2022-08-02T18:10:30.399Z"
   },
   {
    "duration": 1,
    "start_time": "2022-08-02T18:10:30.401Z"
   },
   {
    "duration": 1,
    "start_time": "2022-08-02T18:10:30.409Z"
   },
   {
    "duration": 0,
    "start_time": "2022-08-02T18:10:30.411Z"
   },
   {
    "duration": 0,
    "start_time": "2022-08-02T18:10:30.413Z"
   },
   {
    "duration": 0,
    "start_time": "2022-08-02T18:10:30.415Z"
   },
   {
    "duration": 12,
    "start_time": "2022-08-02T18:18:37.636Z"
   },
   {
    "duration": 12,
    "start_time": "2022-08-02T18:18:43.489Z"
   },
   {
    "duration": 24,
    "start_time": "2022-08-02T18:19:08.050Z"
   },
   {
    "duration": 8,
    "start_time": "2022-08-02T18:23:57.449Z"
   },
   {
    "duration": 14,
    "start_time": "2022-08-02T18:24:14.483Z"
   },
   {
    "duration": 14,
    "start_time": "2022-08-02T18:24:22.488Z"
   },
   {
    "duration": 104,
    "start_time": "2022-08-02T18:25:05.328Z"
   },
   {
    "duration": 71,
    "start_time": "2022-08-02T18:25:18.492Z"
   },
   {
    "duration": 99,
    "start_time": "2022-08-02T18:28:20.434Z"
   },
   {
    "duration": 79,
    "start_time": "2022-08-02T18:28:43.828Z"
   },
   {
    "duration": 20,
    "start_time": "2022-08-02T18:28:55.536Z"
   },
   {
    "duration": 13,
    "start_time": "2022-08-02T18:29:07.454Z"
   },
   {
    "duration": 32,
    "start_time": "2022-08-02T19:13:14.503Z"
   },
   {
    "duration": 450,
    "start_time": "2022-08-03T05:17:49.429Z"
   },
   {
    "duration": 400,
    "start_time": "2022-08-03T05:17:49.881Z"
   },
   {
    "duration": 7,
    "start_time": "2022-08-03T05:17:50.283Z"
   },
   {
    "duration": 65,
    "start_time": "2022-08-03T05:17:50.292Z"
   },
   {
    "duration": 9,
    "start_time": "2022-08-03T05:17:50.360Z"
   },
   {
    "duration": 13,
    "start_time": "2022-08-03T05:17:50.371Z"
   },
   {
    "duration": 39,
    "start_time": "2022-08-03T05:17:50.385Z"
   },
   {
    "duration": 41,
    "start_time": "2022-08-03T05:17:50.441Z"
   },
   {
    "duration": 69,
    "start_time": "2022-08-03T05:17:50.484Z"
   },
   {
    "duration": 22,
    "start_time": "2022-08-03T05:17:50.555Z"
   },
   {
    "duration": 45,
    "start_time": "2022-08-03T05:17:50.579Z"
   },
   {
    "duration": 113,
    "start_time": "2022-08-03T05:17:50.635Z"
   },
   {
    "duration": 102,
    "start_time": "2022-08-03T05:17:50.761Z"
   },
   {
    "duration": 83,
    "start_time": "2022-08-03T05:17:50.865Z"
   },
   {
    "duration": 47,
    "start_time": "2022-08-03T05:17:50.949Z"
   },
   {
    "duration": 19,
    "start_time": "2022-08-03T05:18:51.837Z"
   },
   {
    "duration": 25,
    "start_time": "2022-08-03T05:20:13.433Z"
   },
   {
    "duration": 12,
    "start_time": "2022-08-03T05:22:05.455Z"
   },
   {
    "duration": 26,
    "start_time": "2022-08-03T05:29:25.314Z"
   },
   {
    "duration": 21,
    "start_time": "2022-08-03T05:30:27.282Z"
   },
   {
    "duration": 27,
    "start_time": "2022-08-03T05:32:04.897Z"
   },
   {
    "duration": 12,
    "start_time": "2022-08-03T05:35:45.751Z"
   },
   {
    "duration": 18,
    "start_time": "2022-08-03T05:36:13.549Z"
   },
   {
    "duration": 9,
    "start_time": "2022-08-03T05:43:19.781Z"
   },
   {
    "duration": 80,
    "start_time": "2022-08-03T05:50:27.078Z"
   },
   {
    "duration": 10,
    "start_time": "2022-08-03T05:51:15.261Z"
   },
   {
    "duration": 9,
    "start_time": "2022-08-03T05:51:46.867Z"
   },
   {
    "duration": 20,
    "start_time": "2022-08-03T06:12:50.612Z"
   },
   {
    "duration": 59,
    "start_time": "2022-08-03T06:13:15.779Z"
   },
   {
    "duration": 12,
    "start_time": "2022-08-03T06:13:32.681Z"
   },
   {
    "duration": 53,
    "start_time": "2022-08-03T06:13:51.944Z"
   },
   {
    "duration": 13,
    "start_time": "2022-08-03T07:24:44.318Z"
   },
   {
    "duration": 2,
    "start_time": "2022-08-03T17:08:19.836Z"
   },
   {
    "duration": 190,
    "start_time": "2022-08-03T17:08:19.841Z"
   },
   {
    "duration": 6,
    "start_time": "2022-08-03T17:08:20.033Z"
   },
   {
    "duration": 28,
    "start_time": "2022-08-03T17:08:20.041Z"
   },
   {
    "duration": 4,
    "start_time": "2022-08-03T17:08:20.072Z"
   },
   {
    "duration": 43,
    "start_time": "2022-08-03T17:08:20.077Z"
   },
   {
    "duration": 12,
    "start_time": "2022-08-03T17:08:20.126Z"
   },
   {
    "duration": 3,
    "start_time": "2022-08-03T17:08:20.139Z"
   },
   {
    "duration": 23,
    "start_time": "2022-08-03T17:08:20.144Z"
   },
   {
    "duration": 15,
    "start_time": "2022-08-03T17:08:20.168Z"
   },
   {
    "duration": 40,
    "start_time": "2022-08-03T17:08:20.185Z"
   },
   {
    "duration": 60,
    "start_time": "2022-08-03T17:08:20.226Z"
   },
   {
    "duration": 70,
    "start_time": "2022-08-03T17:08:20.287Z"
   },
   {
    "duration": 62,
    "start_time": "2022-08-03T17:08:20.360Z"
   },
   {
    "duration": 41,
    "start_time": "2022-08-03T17:08:20.423Z"
   },
   {
    "duration": 10,
    "start_time": "2022-08-03T17:08:20.466Z"
   },
   {
    "duration": 72,
    "start_time": "2022-08-03T17:08:20.477Z"
   },
   {
    "duration": 11,
    "start_time": "2022-08-03T17:08:20.550Z"
   },
   {
    "duration": 11,
    "start_time": "2022-08-03T17:08:20.563Z"
   },
   {
    "duration": 7,
    "start_time": "2022-08-03T17:08:20.576Z"
   },
   {
    "duration": 34,
    "start_time": "2022-08-03T17:08:20.585Z"
   },
   {
    "duration": 14,
    "start_time": "2022-08-03T17:08:20.620Z"
   },
   {
    "duration": 21,
    "start_time": "2022-08-03T17:08:20.636Z"
   },
   {
    "duration": 13,
    "start_time": "2022-08-03T17:08:20.658Z"
   },
   {
    "duration": 36,
    "start_time": "2022-08-03T17:08:20.672Z"
   },
   {
    "duration": 25,
    "start_time": "2022-08-03T17:08:20.709Z"
   },
   {
    "duration": 8,
    "start_time": "2022-08-03T17:08:20.736Z"
   },
   {
    "duration": 15,
    "start_time": "2022-08-03T17:08:20.746Z"
   },
   {
    "duration": 58,
    "start_time": "2022-08-03T17:28:25.126Z"
   },
   {
    "duration": 55,
    "start_time": "2022-08-03T17:32:00.035Z"
   },
   {
    "duration": 5,
    "start_time": "2022-08-03T17:33:51.752Z"
   },
   {
    "duration": 5,
    "start_time": "2022-08-03T17:34:55.426Z"
   },
   {
    "duration": 5,
    "start_time": "2022-08-03T17:36:08.539Z"
   },
   {
    "duration": 5,
    "start_time": "2022-08-03T17:37:02.635Z"
   },
   {
    "duration": 30,
    "start_time": "2022-08-03T17:38:38.582Z"
   },
   {
    "duration": 12,
    "start_time": "2022-08-03T17:38:44.120Z"
   },
   {
    "duration": 21,
    "start_time": "2022-08-03T17:38:47.937Z"
   },
   {
    "duration": 13,
    "start_time": "2022-08-03T17:38:50.759Z"
   },
   {
    "duration": 8,
    "start_time": "2022-08-03T17:43:18.226Z"
   },
   {
    "duration": 7,
    "start_time": "2022-08-03T17:43:25.188Z"
   },
   {
    "duration": 8,
    "start_time": "2022-08-03T17:43:39.226Z"
   },
   {
    "duration": 8,
    "start_time": "2022-08-03T17:44:35.547Z"
   },
   {
    "duration": 9,
    "start_time": "2022-08-03T17:45:29.170Z"
   },
   {
    "duration": 9,
    "start_time": "2022-08-03T17:45:37.922Z"
   },
   {
    "duration": 8,
    "start_time": "2022-08-03T17:49:11.644Z"
   },
   {
    "duration": 9,
    "start_time": "2022-08-03T17:49:41.426Z"
   },
   {
    "duration": 23,
    "start_time": "2022-08-03T17:50:35.666Z"
   },
   {
    "duration": 50,
    "start_time": "2022-08-03T17:50:49.725Z"
   },
   {
    "duration": 44,
    "start_time": "2022-08-03T17:51:12.198Z"
   },
   {
    "duration": 24,
    "start_time": "2022-08-03T17:51:23.722Z"
   },
   {
    "duration": 11,
    "start_time": "2022-08-03T17:54:31.554Z"
   },
   {
    "duration": 26,
    "start_time": "2022-08-03T17:54:56.236Z"
   },
   {
    "duration": 9,
    "start_time": "2022-08-03T17:55:09.036Z"
   },
   {
    "duration": 7,
    "start_time": "2022-08-03T17:55:50.193Z"
   },
   {
    "duration": 7,
    "start_time": "2022-08-03T17:57:23.038Z"
   },
   {
    "duration": 21,
    "start_time": "2022-08-03T17:57:41.507Z"
   },
   {
    "duration": 9,
    "start_time": "2022-08-03T17:58:02.168Z"
   },
   {
    "duration": 7,
    "start_time": "2022-08-03T17:58:14.048Z"
   },
   {
    "duration": 5,
    "start_time": "2022-08-03T17:59:05.794Z"
   }
  ],
  "celltoolbar": "Edit Metadata",
  "colab": {
   "collapsed_sections": [
    "E0vqbgi9ay0H",
    "VUC88oWjTJw2"
   ],
   "name": "automatization_template_upd4.ipynb",
   "provenance": []
  },
  "kernelspec": {
   "display_name": "Python 3 (ipykernel)",
   "language": "python",
   "name": "python3"
  },
  "language_info": {
   "codemirror_mode": {
    "name": "ipython",
    "version": 3
   },
   "file_extension": ".py",
   "mimetype": "text/x-python",
   "name": "python",
   "nbconvert_exporter": "python",
   "pygments_lexer": "ipython3",
   "version": "3.9.13"
  },
  "toc": {
   "base_numbering": 1,
   "nav_menu": {
    "height": "215px",
    "width": "403px"
   },
   "number_sections": true,
   "sideBar": true,
   "skip_h1_title": true,
   "title_cell": "Table of Contents",
   "title_sidebar": "Contents",
   "toc_cell": false,
   "toc_position": {
    "height": "calc(100% - 180px)",
    "left": "10px",
    "top": "150px",
    "width": "285.825px"
   },
   "toc_section_display": true,
   "toc_window_display": false
  }
 },
 "nbformat": 4,
 "nbformat_minor": 1
}
