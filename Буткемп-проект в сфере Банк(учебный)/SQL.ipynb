{
 "cells": [
  {
   "cell_type": "markdown",
   "metadata": {},
   "source": [
    "# Анализ данных сервиса для чтения книг"
   ]
  },
  {
   "cell_type": "markdown",
   "metadata": {},
   "source": [
    "## Цели исследования"
   ]
  },
  {
   "cell_type": "markdown",
   "metadata": {},
   "source": [
    "После покупки сервиса по чтению книг, нам досталась и база данных, которую нужно изучить. \n",
    "\n",
    "В ней — информация о книгах, издательствах, авторах, а также пользовательские обзоры книг. \n",
    "\n",
    "Информацию которую мы получим, можно будет в дальнейшем использовать для создания идеи нового продукта. "
   ]
  },
  {
   "cell_type": "markdown",
   "metadata": {},
   "source": [
    "## План задач"
   ]
  },
  {
   "cell_type": "markdown",
   "metadata": {},
   "source": [
    "- Посчитайте, сколько книг вышло после 1 января 2000 года;\n",
    "- Для каждой книги посчитайте количество обзоров и среднюю оценку;\n",
    "- Определите издательство, которое выпустило наибольшее число книг толще 50 страниц — так вы исключите из анализа брошюры;\n",
    "- Определите автора с самой высокой средней оценкой книг — учитывайте только книги с 50 и более оценками;\n",
    "- Посчитайте среднее количество обзоров от пользователей, которые поставили больше 50 оценок."
   ]
  },
  {
   "cell_type": "markdown",
   "metadata": {},
   "source": [
    "## Начало исследования"
   ]
  },
  {
   "cell_type": "markdown",
   "metadata": {},
   "source": [
    "### Подготовка среды для работы с запросами SQL"
   ]
  },
  {
   "cell_type": "code",
   "execution_count": 1,
   "metadata": {},
   "outputs": [],
   "source": [
    "# импортируем библиотеки\n",
    "import pandas as pd\n",
    "from sqlalchemy import create_engine\n",
    "# устанавливаем параметры\n",
    "db_config = {'user': 'praktikum_student', # имя пользователя\n",
    "'pwd': 'Sdf4$2;d-d30pp', # пароль\n",
    "'host': 'rc1b-wcoijxj3yxfsf3fs.mdb.yandexcloud.net',\n",
    "'port': 6432, # порт подключения\n",
    "'db': 'data-analyst-final-project-db'} # название базы данных\n",
    "connection_string = 'postgresql://{}:{}@{}:{}/{}'.format(db_config['user'],\n",
    " db_config['pwd'],\n",
    " db_config['host'],\n",
    " db_config['port'],\n",
    " db_config['db'])\n",
    "# сохраняем коннектор\n",
    "engine = create_engine(connection_string, connect_args={'sslmode':'require'}) \n"
   ]
  },
  {
   "cell_type": "markdown",
   "metadata": {},
   "source": [
    "### Обзор таблиц"
   ]
  },
  {
   "cell_type": "code",
   "execution_count": 2,
   "metadata": {},
   "outputs": [],
   "source": [
    "q = \"SELECT * FROM books LIMIT 5\"\n",
    "q_2 = \"SELECT * FROM ratings LIMIT 5\"\n",
    "q_3 = \"SELECT * FROM reviews LIMIT 5\"\n",
    "q_4 = \"SELECT * FROM publishers LIMIT 5\"\n",
    "q_5 = \"SELECT * FROM books LIMIT 5\""
   ]
  },
  {
   "cell_type": "code",
   "execution_count": 3,
   "metadata": {},
   "outputs": [],
   "source": [
    "books = pd.io.sql.read_sql(q, con = engine)      \n",
    "ratings = pd.io.sql.read_sql(q_2, con = engine)\n",
    "reviews = pd.io.sql.read_sql(q_3, con = engine)\n",
    "publishers = pd.io.sql.read_sql(q_4, con = engine)\n",
    "authors = pd.io.sql.read_sql(q_5, con = engine)"
   ]
  },
  {
   "cell_type": "code",
   "execution_count": 4,
   "metadata": {
    "scrolled": false
   },
   "outputs": [
    {
     "data": {
      "text/html": [
       "<div>\n",
       "<style scoped>\n",
       "    .dataframe tbody tr th:only-of-type {\n",
       "        vertical-align: middle;\n",
       "    }\n",
       "\n",
       "    .dataframe tbody tr th {\n",
       "        vertical-align: top;\n",
       "    }\n",
       "\n",
       "    .dataframe thead th {\n",
       "        text-align: right;\n",
       "    }\n",
       "</style>\n",
       "<table border=\"1\" class=\"dataframe\">\n",
       "  <thead>\n",
       "    <tr style=\"text-align: right;\">\n",
       "      <th></th>\n",
       "      <th>book_id</th>\n",
       "      <th>author_id</th>\n",
       "      <th>title</th>\n",
       "      <th>num_pages</th>\n",
       "      <th>publication_date</th>\n",
       "      <th>publisher_id</th>\n",
       "    </tr>\n",
       "  </thead>\n",
       "  <tbody>\n",
       "    <tr>\n",
       "      <th>0</th>\n",
       "      <td>1</td>\n",
       "      <td>546</td>\n",
       "      <td>'Salem's Lot</td>\n",
       "      <td>594</td>\n",
       "      <td>2005-11-01</td>\n",
       "      <td>93</td>\n",
       "    </tr>\n",
       "    <tr>\n",
       "      <th>1</th>\n",
       "      <td>2</td>\n",
       "      <td>465</td>\n",
       "      <td>1 000 Places to See Before You Die</td>\n",
       "      <td>992</td>\n",
       "      <td>2003-05-22</td>\n",
       "      <td>336</td>\n",
       "    </tr>\n",
       "    <tr>\n",
       "      <th>2</th>\n",
       "      <td>3</td>\n",
       "      <td>407</td>\n",
       "      <td>13 Little Blue Envelopes (Little Blue Envelope...</td>\n",
       "      <td>322</td>\n",
       "      <td>2010-12-21</td>\n",
       "      <td>135</td>\n",
       "    </tr>\n",
       "    <tr>\n",
       "      <th>3</th>\n",
       "      <td>4</td>\n",
       "      <td>82</td>\n",
       "      <td>1491: New Revelations of the Americas Before C...</td>\n",
       "      <td>541</td>\n",
       "      <td>2006-10-10</td>\n",
       "      <td>309</td>\n",
       "    </tr>\n",
       "    <tr>\n",
       "      <th>4</th>\n",
       "      <td>5</td>\n",
       "      <td>125</td>\n",
       "      <td>1776</td>\n",
       "      <td>386</td>\n",
       "      <td>2006-07-04</td>\n",
       "      <td>268</td>\n",
       "    </tr>\n",
       "  </tbody>\n",
       "</table>\n",
       "</div>"
      ],
      "text/plain": [
       "   book_id  author_id                                              title  \\\n",
       "0        1        546                                       'Salem's Lot   \n",
       "1        2        465                 1 000 Places to See Before You Die   \n",
       "2        3        407  13 Little Blue Envelopes (Little Blue Envelope...   \n",
       "3        4         82  1491: New Revelations of the Americas Before C...   \n",
       "4        5        125                                               1776   \n",
       "\n",
       "   num_pages publication_date  publisher_id  \n",
       "0        594       2005-11-01            93  \n",
       "1        992       2003-05-22           336  \n",
       "2        322       2010-12-21           135  \n",
       "3        541       2006-10-10           309  \n",
       "4        386       2006-07-04           268  "
      ]
     },
     "metadata": {},
     "output_type": "display_data"
    },
    {
     "data": {
      "text/html": [
       "<div>\n",
       "<style scoped>\n",
       "    .dataframe tbody tr th:only-of-type {\n",
       "        vertical-align: middle;\n",
       "    }\n",
       "\n",
       "    .dataframe tbody tr th {\n",
       "        vertical-align: top;\n",
       "    }\n",
       "\n",
       "    .dataframe thead th {\n",
       "        text-align: right;\n",
       "    }\n",
       "</style>\n",
       "<table border=\"1\" class=\"dataframe\">\n",
       "  <thead>\n",
       "    <tr style=\"text-align: right;\">\n",
       "      <th></th>\n",
       "      <th>rating_id</th>\n",
       "      <th>book_id</th>\n",
       "      <th>username</th>\n",
       "      <th>rating</th>\n",
       "    </tr>\n",
       "  </thead>\n",
       "  <tbody>\n",
       "    <tr>\n",
       "      <th>0</th>\n",
       "      <td>1</td>\n",
       "      <td>1</td>\n",
       "      <td>ryanfranco</td>\n",
       "      <td>4</td>\n",
       "    </tr>\n",
       "    <tr>\n",
       "      <th>1</th>\n",
       "      <td>2</td>\n",
       "      <td>1</td>\n",
       "      <td>grantpatricia</td>\n",
       "      <td>2</td>\n",
       "    </tr>\n",
       "    <tr>\n",
       "      <th>2</th>\n",
       "      <td>3</td>\n",
       "      <td>1</td>\n",
       "      <td>brandtandrea</td>\n",
       "      <td>5</td>\n",
       "    </tr>\n",
       "    <tr>\n",
       "      <th>3</th>\n",
       "      <td>4</td>\n",
       "      <td>2</td>\n",
       "      <td>lorichen</td>\n",
       "      <td>3</td>\n",
       "    </tr>\n",
       "    <tr>\n",
       "      <th>4</th>\n",
       "      <td>5</td>\n",
       "      <td>2</td>\n",
       "      <td>mariokeller</td>\n",
       "      <td>2</td>\n",
       "    </tr>\n",
       "  </tbody>\n",
       "</table>\n",
       "</div>"
      ],
      "text/plain": [
       "   rating_id  book_id       username  rating\n",
       "0          1        1     ryanfranco       4\n",
       "1          2        1  grantpatricia       2\n",
       "2          3        1   brandtandrea       5\n",
       "3          4        2       lorichen       3\n",
       "4          5        2    mariokeller       2"
      ]
     },
     "metadata": {},
     "output_type": "display_data"
    },
    {
     "data": {
      "text/html": [
       "<div>\n",
       "<style scoped>\n",
       "    .dataframe tbody tr th:only-of-type {\n",
       "        vertical-align: middle;\n",
       "    }\n",
       "\n",
       "    .dataframe tbody tr th {\n",
       "        vertical-align: top;\n",
       "    }\n",
       "\n",
       "    .dataframe thead th {\n",
       "        text-align: right;\n",
       "    }\n",
       "</style>\n",
       "<table border=\"1\" class=\"dataframe\">\n",
       "  <thead>\n",
       "    <tr style=\"text-align: right;\">\n",
       "      <th></th>\n",
       "      <th>review_id</th>\n",
       "      <th>book_id</th>\n",
       "      <th>username</th>\n",
       "      <th>text</th>\n",
       "    </tr>\n",
       "  </thead>\n",
       "  <tbody>\n",
       "    <tr>\n",
       "      <th>0</th>\n",
       "      <td>1</td>\n",
       "      <td>1</td>\n",
       "      <td>brandtandrea</td>\n",
       "      <td>Mention society tell send professor analysis. ...</td>\n",
       "    </tr>\n",
       "    <tr>\n",
       "      <th>1</th>\n",
       "      <td>2</td>\n",
       "      <td>1</td>\n",
       "      <td>ryanfranco</td>\n",
       "      <td>Foot glass pretty audience hit themselves. Amo...</td>\n",
       "    </tr>\n",
       "    <tr>\n",
       "      <th>2</th>\n",
       "      <td>3</td>\n",
       "      <td>2</td>\n",
       "      <td>lorichen</td>\n",
       "      <td>Listen treat keep worry. Miss husband tax but ...</td>\n",
       "    </tr>\n",
       "    <tr>\n",
       "      <th>3</th>\n",
       "      <td>4</td>\n",
       "      <td>3</td>\n",
       "      <td>johnsonamanda</td>\n",
       "      <td>Finally month interesting blue could nature cu...</td>\n",
       "    </tr>\n",
       "    <tr>\n",
       "      <th>4</th>\n",
       "      <td>5</td>\n",
       "      <td>3</td>\n",
       "      <td>scotttamara</td>\n",
       "      <td>Nation purpose heavy give wait song will. List...</td>\n",
       "    </tr>\n",
       "  </tbody>\n",
       "</table>\n",
       "</div>"
      ],
      "text/plain": [
       "   review_id  book_id       username  \\\n",
       "0          1        1   brandtandrea   \n",
       "1          2        1     ryanfranco   \n",
       "2          3        2       lorichen   \n",
       "3          4        3  johnsonamanda   \n",
       "4          5        3    scotttamara   \n",
       "\n",
       "                                                text  \n",
       "0  Mention society tell send professor analysis. ...  \n",
       "1  Foot glass pretty audience hit themselves. Amo...  \n",
       "2  Listen treat keep worry. Miss husband tax but ...  \n",
       "3  Finally month interesting blue could nature cu...  \n",
       "4  Nation purpose heavy give wait song will. List...  "
      ]
     },
     "metadata": {},
     "output_type": "display_data"
    },
    {
     "data": {
      "text/html": [
       "<div>\n",
       "<style scoped>\n",
       "    .dataframe tbody tr th:only-of-type {\n",
       "        vertical-align: middle;\n",
       "    }\n",
       "\n",
       "    .dataframe tbody tr th {\n",
       "        vertical-align: top;\n",
       "    }\n",
       "\n",
       "    .dataframe thead th {\n",
       "        text-align: right;\n",
       "    }\n",
       "</style>\n",
       "<table border=\"1\" class=\"dataframe\">\n",
       "  <thead>\n",
       "    <tr style=\"text-align: right;\">\n",
       "      <th></th>\n",
       "      <th>publisher_id</th>\n",
       "      <th>publisher</th>\n",
       "    </tr>\n",
       "  </thead>\n",
       "  <tbody>\n",
       "    <tr>\n",
       "      <th>0</th>\n",
       "      <td>1</td>\n",
       "      <td>Ace</td>\n",
       "    </tr>\n",
       "    <tr>\n",
       "      <th>1</th>\n",
       "      <td>2</td>\n",
       "      <td>Ace Book</td>\n",
       "    </tr>\n",
       "    <tr>\n",
       "      <th>2</th>\n",
       "      <td>3</td>\n",
       "      <td>Ace Books</td>\n",
       "    </tr>\n",
       "    <tr>\n",
       "      <th>3</th>\n",
       "      <td>4</td>\n",
       "      <td>Ace Hardcover</td>\n",
       "    </tr>\n",
       "    <tr>\n",
       "      <th>4</th>\n",
       "      <td>5</td>\n",
       "      <td>Addison Wesley Publishing Company</td>\n",
       "    </tr>\n",
       "  </tbody>\n",
       "</table>\n",
       "</div>"
      ],
      "text/plain": [
       "   publisher_id                          publisher\n",
       "0             1                                Ace\n",
       "1             2                           Ace Book\n",
       "2             3                          Ace Books\n",
       "3             4                      Ace Hardcover\n",
       "4             5  Addison Wesley Publishing Company"
      ]
     },
     "metadata": {},
     "output_type": "display_data"
    },
    {
     "data": {
      "text/html": [
       "<div>\n",
       "<style scoped>\n",
       "    .dataframe tbody tr th:only-of-type {\n",
       "        vertical-align: middle;\n",
       "    }\n",
       "\n",
       "    .dataframe tbody tr th {\n",
       "        vertical-align: top;\n",
       "    }\n",
       "\n",
       "    .dataframe thead th {\n",
       "        text-align: right;\n",
       "    }\n",
       "</style>\n",
       "<table border=\"1\" class=\"dataframe\">\n",
       "  <thead>\n",
       "    <tr style=\"text-align: right;\">\n",
       "      <th></th>\n",
       "      <th>book_id</th>\n",
       "      <th>author_id</th>\n",
       "      <th>title</th>\n",
       "      <th>num_pages</th>\n",
       "      <th>publication_date</th>\n",
       "      <th>publisher_id</th>\n",
       "    </tr>\n",
       "  </thead>\n",
       "  <tbody>\n",
       "    <tr>\n",
       "      <th>0</th>\n",
       "      <td>1</td>\n",
       "      <td>546</td>\n",
       "      <td>'Salem's Lot</td>\n",
       "      <td>594</td>\n",
       "      <td>2005-11-01</td>\n",
       "      <td>93</td>\n",
       "    </tr>\n",
       "    <tr>\n",
       "      <th>1</th>\n",
       "      <td>2</td>\n",
       "      <td>465</td>\n",
       "      <td>1 000 Places to See Before You Die</td>\n",
       "      <td>992</td>\n",
       "      <td>2003-05-22</td>\n",
       "      <td>336</td>\n",
       "    </tr>\n",
       "    <tr>\n",
       "      <th>2</th>\n",
       "      <td>3</td>\n",
       "      <td>407</td>\n",
       "      <td>13 Little Blue Envelopes (Little Blue Envelope...</td>\n",
       "      <td>322</td>\n",
       "      <td>2010-12-21</td>\n",
       "      <td>135</td>\n",
       "    </tr>\n",
       "    <tr>\n",
       "      <th>3</th>\n",
       "      <td>4</td>\n",
       "      <td>82</td>\n",
       "      <td>1491: New Revelations of the Americas Before C...</td>\n",
       "      <td>541</td>\n",
       "      <td>2006-10-10</td>\n",
       "      <td>309</td>\n",
       "    </tr>\n",
       "    <tr>\n",
       "      <th>4</th>\n",
       "      <td>5</td>\n",
       "      <td>125</td>\n",
       "      <td>1776</td>\n",
       "      <td>386</td>\n",
       "      <td>2006-07-04</td>\n",
       "      <td>268</td>\n",
       "    </tr>\n",
       "  </tbody>\n",
       "</table>\n",
       "</div>"
      ],
      "text/plain": [
       "   book_id  author_id                                              title  \\\n",
       "0        1        546                                       'Salem's Lot   \n",
       "1        2        465                 1 000 Places to See Before You Die   \n",
       "2        3        407  13 Little Blue Envelopes (Little Blue Envelope...   \n",
       "3        4         82  1491: New Revelations of the Americas Before C...   \n",
       "4        5        125                                               1776   \n",
       "\n",
       "   num_pages publication_date  publisher_id  \n",
       "0        594       2005-11-01            93  \n",
       "1        992       2003-05-22           336  \n",
       "2        322       2010-12-21           135  \n",
       "3        541       2006-10-10           309  \n",
       "4        386       2006-07-04           268  "
      ]
     },
     "metadata": {},
     "output_type": "display_data"
    }
   ],
   "source": [
    "for i in [books, ratings, reviews, publishers, authors]:\n",
    "    display(i.head())"
   ]
  },
  {
   "cell_type": "markdown",
   "metadata": {},
   "source": [
    "### Задание 1. Сколько книг вышло после 1 января 2000 года?"
   ]
  },
  {
   "cell_type": "code",
   "execution_count": 5,
   "metadata": {},
   "outputs": [],
   "source": [
    "query  = \"SELECT COUNT(book_id) FROM books WHERE publication_date > TO_DATE('2000-01-01', 'YYYY-MM-DD')\""
   ]
  },
  {
   "cell_type": "code",
   "execution_count": 6,
   "metadata": {
    "scrolled": true
   },
   "outputs": [
    {
     "name": "stdout",
     "output_type": "stream",
     "text": [
      "После 1 января 2000 года вышло 819 книг\n"
     ]
    }
   ],
   "source": [
    "count_books = pd.io.sql.read_sql(query, con = engine)\n",
    "count_books = count_books.reset_index()\n",
    "print(f'После 1 января 2000 года вышло {(count_books.iloc[0,1])} книг')\n"
   ]
  },
  {
   "cell_type": "markdown",
   "metadata": {},
   "source": [
    "### Задание 2. Для каждой книги посчитать количество обзоров и среднюю оценку"
   ]
  },
  {
   "cell_type": "code",
   "execution_count": 7,
   "metadata": {},
   "outputs": [],
   "source": [
    "query_2 = \"\"\"\n",
    "SELECT b.title, COUNT(DISTINCT rw.review_id), ROUND(AVG(r.rating), 1) rating_mean\n",
    "FROM books b\n",
    "LEFT JOIN ratings r ON b.book_id = r.book_id\n",
    "LEFT JOIN reviews rw ON b.book_id = rw.book_id\n",
    "GROUP BY b.title\n",
    "ORDER BY COUNT(rw.review_id) DESC, rating_mean DESC\n",
    "\"\"\"\n"
   ]
  },
  {
   "cell_type": "code",
   "execution_count": 8,
   "metadata": {
    "scrolled": false
   },
   "outputs": [
    {
     "data": {
      "text/html": [
       "<div>\n",
       "<style scoped>\n",
       "    .dataframe tbody tr th:only-of-type {\n",
       "        vertical-align: middle;\n",
       "    }\n",
       "\n",
       "    .dataframe tbody tr th {\n",
       "        vertical-align: top;\n",
       "    }\n",
       "\n",
       "    .dataframe thead th {\n",
       "        text-align: right;\n",
       "    }\n",
       "</style>\n",
       "<table border=\"1\" class=\"dataframe\">\n",
       "  <thead>\n",
       "    <tr style=\"text-align: right;\">\n",
       "      <th></th>\n",
       "      <th>title</th>\n",
       "      <th>count</th>\n",
       "      <th>rating_mean</th>\n",
       "    </tr>\n",
       "  </thead>\n",
       "  <tbody>\n",
       "    <tr>\n",
       "      <th>0</th>\n",
       "      <td>Twilight (Twilight  #1)</td>\n",
       "      <td>7</td>\n",
       "      <td>3.7</td>\n",
       "    </tr>\n",
       "    <tr>\n",
       "      <th>1</th>\n",
       "      <td>The Hobbit  or There and Back Again</td>\n",
       "      <td>6</td>\n",
       "      <td>4.1</td>\n",
       "    </tr>\n",
       "    <tr>\n",
       "      <th>2</th>\n",
       "      <td>The Catcher in the Rye</td>\n",
       "      <td>6</td>\n",
       "      <td>3.8</td>\n",
       "    </tr>\n",
       "    <tr>\n",
       "      <th>3</th>\n",
       "      <td>Harry Potter and the Prisoner of Azkaban (Harr...</td>\n",
       "      <td>6</td>\n",
       "      <td>4.4</td>\n",
       "    </tr>\n",
       "    <tr>\n",
       "      <th>4</th>\n",
       "      <td>Harry Potter and the Chamber of Secrets (Harry...</td>\n",
       "      <td>6</td>\n",
       "      <td>4.3</td>\n",
       "    </tr>\n",
       "    <tr>\n",
       "      <th>...</th>\n",
       "      <td>...</td>\n",
       "      <td>...</td>\n",
       "      <td>...</td>\n",
       "    </tr>\n",
       "    <tr>\n",
       "      <th>994</th>\n",
       "      <td>Essential Tales and Poems</td>\n",
       "      <td>0</td>\n",
       "      <td>4.0</td>\n",
       "    </tr>\n",
       "    <tr>\n",
       "      <th>995</th>\n",
       "      <td>Disney's Beauty and the Beast (A Little Golden...</td>\n",
       "      <td>0</td>\n",
       "      <td>4.0</td>\n",
       "    </tr>\n",
       "    <tr>\n",
       "      <th>996</th>\n",
       "      <td>Leonardo's Notebooks</td>\n",
       "      <td>0</td>\n",
       "      <td>4.0</td>\n",
       "    </tr>\n",
       "    <tr>\n",
       "      <th>997</th>\n",
       "      <td>Anne Rice's The Vampire Lestat: A Graphic Novel</td>\n",
       "      <td>0</td>\n",
       "      <td>3.7</td>\n",
       "    </tr>\n",
       "    <tr>\n",
       "      <th>998</th>\n",
       "      <td>The Natural Way to Draw</td>\n",
       "      <td>0</td>\n",
       "      <td>3.0</td>\n",
       "    </tr>\n",
       "  </tbody>\n",
       "</table>\n",
       "<p>999 rows × 3 columns</p>\n",
       "</div>"
      ],
      "text/plain": [
       "                                                 title  count  rating_mean\n",
       "0                              Twilight (Twilight  #1)      7          3.7\n",
       "1                  The Hobbit  or There and Back Again      6          4.1\n",
       "2                               The Catcher in the Rye      6          3.8\n",
       "3    Harry Potter and the Prisoner of Azkaban (Harr...      6          4.4\n",
       "4    Harry Potter and the Chamber of Secrets (Harry...      6          4.3\n",
       "..                                                 ...    ...          ...\n",
       "994                          Essential Tales and Poems      0          4.0\n",
       "995  Disney's Beauty and the Beast (A Little Golden...      0          4.0\n",
       "996                               Leonardo's Notebooks      0          4.0\n",
       "997    Anne Rice's The Vampire Lestat: A Graphic Novel      0          3.7\n",
       "998                            The Natural Way to Draw      0          3.0\n",
       "\n",
       "[999 rows x 3 columns]"
      ]
     },
     "execution_count": 8,
     "metadata": {},
     "output_type": "execute_result"
    }
   ],
   "source": [
    "review_rating = pd.io.sql.read_sql(query_2, con = engine)\n",
    "review_rating"
   ]
  },
  {
   "cell_type": "markdown",
   "metadata": {},
   "source": [
    "### Задание 3. Определить издательство, которое выпустило наибольшее число книг толще 50 страниц"
   ]
  },
  {
   "cell_type": "code",
   "execution_count": 9,
   "metadata": {},
   "outputs": [],
   "source": [
    "query_3 = \"\"\"\n",
    "WITH book_counts AS (\n",
    "    SELECT p.publisher, COUNT(b.book_id) as num_books\n",
    "    FROM publishers p\n",
    "    JOIN books b ON p.publisher_id = b.publisher_id\n",
    "    WHERE b.num_pages > 50\n",
    "    GROUP BY p.publisher\n",
    ")\n",
    "SELECT publisher, num_books\n",
    "FROM book_counts\n",
    "ORDER BY num_books DESC\n",
    "LIMIT 1\n",
    "\n",
    "\"\"\""
   ]
  },
  {
   "cell_type": "code",
   "execution_count": 10,
   "metadata": {},
   "outputs": [
    {
     "data": {
      "text/html": [
       "<div>\n",
       "<style scoped>\n",
       "    .dataframe tbody tr th:only-of-type {\n",
       "        vertical-align: middle;\n",
       "    }\n",
       "\n",
       "    .dataframe tbody tr th {\n",
       "        vertical-align: top;\n",
       "    }\n",
       "\n",
       "    .dataframe thead th {\n",
       "        text-align: right;\n",
       "    }\n",
       "</style>\n",
       "<table border=\"1\" class=\"dataframe\">\n",
       "  <thead>\n",
       "    <tr style=\"text-align: right;\">\n",
       "      <th></th>\n",
       "      <th>publisher</th>\n",
       "      <th>num_books</th>\n",
       "    </tr>\n",
       "  </thead>\n",
       "  <tbody>\n",
       "    <tr>\n",
       "      <th>0</th>\n",
       "      <td>Penguin Books</td>\n",
       "      <td>42</td>\n",
       "    </tr>\n",
       "  </tbody>\n",
       "</table>\n",
       "</div>"
      ],
      "text/plain": [
       "       publisher  num_books\n",
       "0  Penguin Books         42"
      ]
     },
     "execution_count": 10,
     "metadata": {},
     "output_type": "execute_result"
    }
   ],
   "source": [
    "publisher = pd.io.sql.read_sql(query_3, con = engine)\n",
    "publisher"
   ]
  },
  {
   "cell_type": "markdown",
   "metadata": {},
   "source": [
    "### Задание 4. Определить автора с самой высокой средней оценкой книг — учитывать только книги с 50 и более оценками"
   ]
  },
  {
   "cell_type": "code",
   "execution_count": 11,
   "metadata": {},
   "outputs": [],
   "source": [
    "query_4 = \"\"\"\n",
    "SELECT a.author, AVG(r.rating) avg_rating\n",
    "FROM authors a\n",
    "JOIN books b ON a.author_id = b.author_id\n",
    "JOIN ratings r ON b.book_id = r.book_id\n",
    "WHERE b.book_id IN\n",
    "   (SELECT b.book_id\n",
    "   FROM books b\n",
    "   JOIN ratings  r ON b.book_id=r.book_id\n",
    "   GROUP BY b.book_id\n",
    "   HAVING count(r.rating_id)> 49)\n",
    "GROUP BY a.author\n",
    "ORDER BY avg_rating DESC\n",
    "LIMIT 1\n",
    "\"\"\""
   ]
  },
  {
   "cell_type": "code",
   "execution_count": 12,
   "metadata": {},
   "outputs": [
    {
     "data": {
      "text/html": [
       "<div>\n",
       "<style scoped>\n",
       "    .dataframe tbody tr th:only-of-type {\n",
       "        vertical-align: middle;\n",
       "    }\n",
       "\n",
       "    .dataframe tbody tr th {\n",
       "        vertical-align: top;\n",
       "    }\n",
       "\n",
       "    .dataframe thead th {\n",
       "        text-align: right;\n",
       "    }\n",
       "</style>\n",
       "<table border=\"1\" class=\"dataframe\">\n",
       "  <thead>\n",
       "    <tr style=\"text-align: right;\">\n",
       "      <th></th>\n",
       "      <th>author</th>\n",
       "      <th>avg_rating</th>\n",
       "    </tr>\n",
       "  </thead>\n",
       "  <tbody>\n",
       "    <tr>\n",
       "      <th>0</th>\n",
       "      <td>J.K. Rowling/Mary GrandPré</td>\n",
       "      <td>4.287097</td>\n",
       "    </tr>\n",
       "  </tbody>\n",
       "</table>\n",
       "</div>"
      ],
      "text/plain": [
       "                       author  avg_rating\n",
       "0  J.K. Rowling/Mary GrandPré    4.287097"
      ]
     },
     "execution_count": 12,
     "metadata": {},
     "output_type": "execute_result"
    }
   ],
   "source": [
    "author = pd.io.sql.read_sql(query_4, con = engine)\n",
    "author"
   ]
  },
  {
   "cell_type": "code",
   "execution_count": 13,
   "metadata": {},
   "outputs": [
    {
     "data": {
      "text/html": [
       "<div>\n",
       "<style scoped>\n",
       "    .dataframe tbody tr th:only-of-type {\n",
       "        vertical-align: middle;\n",
       "    }\n",
       "\n",
       "    .dataframe tbody tr th {\n",
       "        vertical-align: top;\n",
       "    }\n",
       "\n",
       "    .dataframe thead th {\n",
       "        text-align: right;\n",
       "    }\n",
       "</style>\n",
       "<table border=\"1\" class=\"dataframe\">\n",
       "  <thead>\n",
       "    <tr style=\"text-align: right;\">\n",
       "      <th></th>\n",
       "      <th>book_id</th>\n",
       "      <th>count</th>\n",
       "    </tr>\n",
       "  </thead>\n",
       "  <tbody>\n",
       "    <tr>\n",
       "      <th>0</th>\n",
       "      <td>948</td>\n",
       "      <td>7</td>\n",
       "    </tr>\n",
       "    <tr>\n",
       "      <th>1</th>\n",
       "      <td>656</td>\n",
       "      <td>6</td>\n",
       "    </tr>\n",
       "    <tr>\n",
       "      <th>2</th>\n",
       "      <td>497</td>\n",
       "      <td>6</td>\n",
       "    </tr>\n",
       "    <tr>\n",
       "      <th>3</th>\n",
       "      <td>963</td>\n",
       "      <td>6</td>\n",
       "    </tr>\n",
       "    <tr>\n",
       "      <th>4</th>\n",
       "      <td>696</td>\n",
       "      <td>6</td>\n",
       "    </tr>\n",
       "    <tr>\n",
       "      <th>...</th>\n",
       "      <td>...</td>\n",
       "      <td>...</td>\n",
       "    </tr>\n",
       "    <tr>\n",
       "      <th>989</th>\n",
       "      <td>599</td>\n",
       "      <td>1</td>\n",
       "    </tr>\n",
       "    <tr>\n",
       "      <th>990</th>\n",
       "      <td>187</td>\n",
       "      <td>1</td>\n",
       "    </tr>\n",
       "    <tr>\n",
       "      <th>991</th>\n",
       "      <td>156</td>\n",
       "      <td>1</td>\n",
       "    </tr>\n",
       "    <tr>\n",
       "      <th>992</th>\n",
       "      <td>984</td>\n",
       "      <td>1</td>\n",
       "    </tr>\n",
       "    <tr>\n",
       "      <th>993</th>\n",
       "      <td>760</td>\n",
       "      <td>1</td>\n",
       "    </tr>\n",
       "  </tbody>\n",
       "</table>\n",
       "<p>994 rows × 2 columns</p>\n",
       "</div>"
      ],
      "text/plain": [
       "     book_id  count\n",
       "0        948      7\n",
       "1        656      6\n",
       "2        497      6\n",
       "3        963      6\n",
       "4        696      6\n",
       "..       ...    ...\n",
       "989      599      1\n",
       "990      187      1\n",
       "991      156      1\n",
       "992      984      1\n",
       "993      760      1\n",
       "\n",
       "[994 rows x 2 columns]"
      ]
     },
     "execution_count": 13,
     "metadata": {},
     "output_type": "execute_result"
    }
   ],
   "source": [
    "pd.io.sql.read_sql(\"SELECT book_id, COUNT(review_id) FROM reviews GROUP BY book_id ORDER BY COUNT(review_id) DESC \", con = engine)  "
   ]
  },
  {
   "cell_type": "markdown",
   "metadata": {},
   "source": [
    "### Задание 5. Посчитать среднее количество обзоров от пользователей, которые поставили больше 50 оценок"
   ]
  },
  {
   "cell_type": "code",
   "execution_count": 14,
   "metadata": {},
   "outputs": [],
   "source": [
    "query_5 = \"\"\"\n",
    "WITH t AS \n",
    "(SELECT username, COUNT(review_id) cnt_id\n",
    "FROM reviews\n",
    "WHERE username IN (\n",
    "    SELECT username\n",
    "    FROM ratings\n",
    "    GROUP BY username\n",
    "    HAVING COUNT(rating_id) >50)\n",
    "GROUP BY username)\n",
    "\n",
    "SELECT ROUND(AVG(cnt_id), 1)\n",
    "FROM t\n",
    "\n",
    "\"\"\""
   ]
  },
  {
   "cell_type": "code",
   "execution_count": 15,
   "metadata": {},
   "outputs": [
    {
     "name": "stdout",
     "output_type": "stream",
     "text": [
      "В среднем количество обзоров у пользователей, которые поставили больше 50 оценок - 24.3\n"
     ]
    }
   ],
   "source": [
    "review = pd.io.sql.read_sql(query_5, con = engine)\n",
    "review\n",
    "print(f'В среднем количество обзоров у пользователей, которые поставили больше 50 оценок - {(review.iloc[0,0])}')"
   ]
  },
  {
   "cell_type": "markdown",
   "metadata": {},
   "source": [
    "## Выводы"
   ]
  },
  {
   "cell_type": "markdown",
   "metadata": {},
   "source": [
    "### Той информации, которую мы получили из таблиц недостаточно для того, чтобы сделать полноценные выводы. \n",
    "Следует более глубоку изучить данные, в них есть ещё потенциал.\n",
    "\n",
    "Что удалось найти:\n",
    "\n",
    "- После 1 январе 2000 года вышло 819 книг. Много это или мало, не совсем понятно. Нужно понимать до какого года включительно у нас есть данные и возможно стоило бы посмотреть на распределение по годам.\n",
    "- Количество обзоров на книги имеют разбор от 0 до 7.  \n",
    "- Издательтво которое выпустило больше всего книг толще 50 страниц Penguin Books — британское издательство, основанное в 1935 году в Лондоне сэром Алленом Лейном и его братьями Ричардом и Джоном. Главной заслугой издательства считают демократизацию книжного рынка, превратившую книгу из предмета роскоши в удовольствие, доступное массам. Возможно количество выпущенных книг связано с возрастом самого издательства.\n",
    "- Из популярных книг, которые получили свыше 50 оценок, наивысшию среднюю оценку в 4.3 получили книги J.K. Rowling/Mary GrandPré - британская писательница, сценаристка и кинопродюсер, наиболее известная как автор серии романов о Гарри Поттере Можно делать выводы о том, что нравится аудитории, например какой жанр и т д.\n",
    "- сложно сказать, что-то о количестве обзоров. Но в любом случае, обзоры популяризируют чтение книг, а для сервиса эта метрика думаю будет важна. Можно найти способы её повышать. "
   ]
  }
 ],
 "metadata": {
  "ExecuteTimeLog": [
   {
    "duration": 5627,
    "start_time": "2023-05-03T04:50:40.144Z"
   },
   {
    "duration": 70,
    "start_time": "2023-05-03T04:51:06.051Z"
   },
   {
    "duration": 53,
    "start_time": "2023-05-03T05:02:20.855Z"
   },
   {
    "duration": 2,
    "start_time": "2023-05-03T05:09:50.389Z"
   },
   {
    "duration": 60,
    "start_time": "2023-05-03T05:09:52.800Z"
   },
   {
    "duration": 3,
    "start_time": "2023-05-03T05:21:39.624Z"
   },
   {
    "duration": 68,
    "start_time": "2023-05-03T05:21:41.802Z"
   },
   {
    "duration": 2,
    "start_time": "2023-05-03T05:22:55.091Z"
   },
   {
    "duration": 54,
    "start_time": "2023-05-03T05:22:56.251Z"
   },
   {
    "duration": 2,
    "start_time": "2023-05-03T05:24:12.831Z"
   },
   {
    "duration": 10,
    "start_time": "2023-05-03T05:24:13.844Z"
   },
   {
    "duration": 71,
    "start_time": "2023-05-03T05:52:16.146Z"
   },
   {
    "duration": 14,
    "start_time": "2023-05-03T05:52:23.503Z"
   },
   {
    "duration": 8,
    "start_time": "2023-05-03T05:52:38.986Z"
   },
   {
    "duration": 58,
    "start_time": "2023-05-03T05:52:57.391Z"
   },
   {
    "duration": 8,
    "start_time": "2023-05-03T05:53:10.544Z"
   },
   {
    "duration": 10,
    "start_time": "2023-05-03T05:53:24.820Z"
   },
   {
    "duration": 11,
    "start_time": "2023-05-03T05:53:39.872Z"
   },
   {
    "duration": 9,
    "start_time": "2023-05-03T05:54:05.316Z"
   },
   {
    "duration": 734,
    "start_time": "2023-05-03T05:54:47.312Z"
   },
   {
    "duration": 10,
    "start_time": "2023-05-03T05:55:15.048Z"
   },
   {
    "duration": 17,
    "start_time": "2023-05-03T05:59:15.708Z"
   },
   {
    "duration": 16,
    "start_time": "2023-05-03T05:59:27.051Z"
   },
   {
    "duration": 17,
    "start_time": "2023-05-03T05:59:36.024Z"
   },
   {
    "duration": 21,
    "start_time": "2023-05-03T05:59:49.386Z"
   },
   {
    "duration": 10,
    "start_time": "2023-05-03T06:00:33.745Z"
   },
   {
    "duration": 9,
    "start_time": "2023-05-03T06:00:47.822Z"
   },
   {
    "duration": 55,
    "start_time": "2023-05-03T06:04:04.354Z"
   },
   {
    "duration": 3,
    "start_time": "2023-05-03T06:04:35.739Z"
   },
   {
    "duration": 9,
    "start_time": "2023-05-03T06:04:38.303Z"
   },
   {
    "duration": 8,
    "start_time": "2023-05-03T06:05:21.565Z"
   },
   {
    "duration": 11,
    "start_time": "2023-05-03T06:05:25.019Z"
   },
   {
    "duration": 3,
    "start_time": "2023-05-03T06:18:54.301Z"
   },
   {
    "duration": 3,
    "start_time": "2023-05-03T06:20:05.552Z"
   },
   {
    "duration": 78,
    "start_time": "2023-05-03T06:20:07.932Z"
   },
   {
    "duration": 2,
    "start_time": "2023-05-03T06:20:19.687Z"
   },
   {
    "duration": 67,
    "start_time": "2023-05-03T06:20:21.772Z"
   },
   {
    "duration": 3,
    "start_time": "2023-05-03T06:20:35.570Z"
   },
   {
    "duration": 22,
    "start_time": "2023-05-03T06:20:36.811Z"
   },
   {
    "duration": 3,
    "start_time": "2023-05-03T06:22:01.330Z"
   },
   {
    "duration": 71,
    "start_time": "2023-05-03T06:22:03.214Z"
   },
   {
    "duration": 3,
    "start_time": "2023-05-03T06:22:43.728Z"
   },
   {
    "duration": 23,
    "start_time": "2023-05-03T06:22:46.637Z"
   },
   {
    "duration": 2,
    "start_time": "2023-05-03T06:23:07.311Z"
   },
   {
    "duration": 23,
    "start_time": "2023-05-03T06:23:08.386Z"
   },
   {
    "duration": 3,
    "start_time": "2023-05-03T06:31:45.888Z"
   },
   {
    "duration": 22,
    "start_time": "2023-05-03T06:31:48.316Z"
   },
   {
    "duration": 2,
    "start_time": "2023-05-03T06:32:22.412Z"
   },
   {
    "duration": 23,
    "start_time": "2023-05-03T06:32:24.825Z"
   },
   {
    "duration": 2,
    "start_time": "2023-05-03T06:32:51.044Z"
   },
   {
    "duration": 25,
    "start_time": "2023-05-03T06:32:52.881Z"
   },
   {
    "duration": 50,
    "start_time": "2023-05-03T06:52:44.243Z"
   },
   {
    "duration": 2,
    "start_time": "2023-05-03T06:52:49.338Z"
   },
   {
    "duration": 14,
    "start_time": "2023-05-03T06:52:51.806Z"
   },
   {
    "duration": 2,
    "start_time": "2023-05-03T06:58:38.164Z"
   },
   {
    "duration": 64,
    "start_time": "2023-05-03T06:58:39.539Z"
   },
   {
    "duration": 3,
    "start_time": "2023-05-03T06:58:49.353Z"
   },
   {
    "duration": 71,
    "start_time": "2023-05-03T06:58:50.217Z"
   },
   {
    "duration": 3,
    "start_time": "2023-05-03T07:00:03.476Z"
   },
   {
    "duration": 81,
    "start_time": "2023-05-03T07:00:04.983Z"
   },
   {
    "duration": 2,
    "start_time": "2023-05-03T07:06:07.192Z"
   },
   {
    "duration": 88,
    "start_time": "2023-05-03T07:06:08.345Z"
   },
   {
    "duration": 2,
    "start_time": "2023-05-03T07:14:08.233Z"
   },
   {
    "duration": 71,
    "start_time": "2023-05-03T07:14:09.433Z"
   },
   {
    "duration": 3,
    "start_time": "2023-05-03T07:14:25.342Z"
   },
   {
    "duration": 71,
    "start_time": "2023-05-03T07:14:26.628Z"
   },
   {
    "duration": 2,
    "start_time": "2023-05-03T07:16:01.987Z"
   },
   {
    "duration": 68,
    "start_time": "2023-05-03T07:16:03.260Z"
   },
   {
    "duration": 2,
    "start_time": "2023-05-03T07:16:23.536Z"
   },
   {
    "duration": 124,
    "start_time": "2023-05-03T07:16:25.121Z"
   },
   {
    "duration": 3,
    "start_time": "2023-05-03T07:16:45.911Z"
   },
   {
    "duration": 66,
    "start_time": "2023-05-03T07:16:46.887Z"
   },
   {
    "duration": 3,
    "start_time": "2023-05-03T07:16:59.239Z"
   },
   {
    "duration": 71,
    "start_time": "2023-05-03T07:17:00.522Z"
   },
   {
    "duration": 2,
    "start_time": "2023-05-03T07:17:18.154Z"
   },
   {
    "duration": 62,
    "start_time": "2023-05-03T07:17:19.158Z"
   },
   {
    "duration": 3,
    "start_time": "2023-05-03T07:25:00.614Z"
   },
   {
    "duration": 64,
    "start_time": "2023-05-03T07:25:03.260Z"
   },
   {
    "duration": 3,
    "start_time": "2023-05-03T07:26:07.110Z"
   },
   {
    "duration": 14,
    "start_time": "2023-05-03T07:26:08.001Z"
   },
   {
    "duration": 3,
    "start_time": "2023-05-03T07:28:51.952Z"
   },
   {
    "duration": 14,
    "start_time": "2023-05-03T07:28:54.048Z"
   },
   {
    "duration": 13,
    "start_time": "2023-05-03T07:29:05.273Z"
   },
   {
    "duration": 3,
    "start_time": "2023-05-03T07:44:20.449Z"
   },
   {
    "duration": 111,
    "start_time": "2023-05-03T07:44:31.052Z"
   },
   {
    "duration": 2,
    "start_time": "2023-05-03T07:44:52.812Z"
   },
   {
    "duration": 61,
    "start_time": "2023-05-03T07:44:54.863Z"
   },
   {
    "duration": 2,
    "start_time": "2023-05-03T07:45:13.739Z"
   },
   {
    "duration": 71,
    "start_time": "2023-05-03T07:45:14.829Z"
   },
   {
    "duration": 3,
    "start_time": "2023-05-03T07:47:14.158Z"
   },
   {
    "duration": 26,
    "start_time": "2023-05-03T07:47:16.013Z"
   },
   {
    "duration": 3,
    "start_time": "2023-05-03T07:56:51.809Z"
   },
   {
    "duration": 66,
    "start_time": "2023-05-03T07:56:55.303Z"
   },
   {
    "duration": 2,
    "start_time": "2023-05-03T07:57:07.701Z"
   },
   {
    "duration": 80,
    "start_time": "2023-05-03T07:57:08.823Z"
   },
   {
    "duration": 2,
    "start_time": "2023-05-03T07:57:45.401Z"
   },
   {
    "duration": 80,
    "start_time": "2023-05-03T07:57:46.757Z"
   },
   {
    "duration": 2,
    "start_time": "2023-05-03T07:57:57.873Z"
   },
   {
    "duration": 68,
    "start_time": "2023-05-03T07:57:59.113Z"
   },
   {
    "duration": 2,
    "start_time": "2023-05-03T08:07:56.595Z"
   },
   {
    "duration": 61,
    "start_time": "2023-05-03T08:07:58.812Z"
   },
   {
    "duration": 2,
    "start_time": "2023-05-03T08:08:59.466Z"
   },
   {
    "duration": 17,
    "start_time": "2023-05-03T08:09:00.533Z"
   },
   {
    "duration": 3,
    "start_time": "2023-05-03T08:13:10.234Z"
   },
   {
    "duration": 92,
    "start_time": "2023-05-03T08:13:11.403Z"
   },
   {
    "duration": 3,
    "start_time": "2023-05-03T08:13:34.370Z"
   },
   {
    "duration": 74,
    "start_time": "2023-05-03T08:13:35.297Z"
   },
   {
    "duration": 2,
    "start_time": "2023-05-03T08:13:46.685Z"
   },
   {
    "duration": 72,
    "start_time": "2023-05-03T08:13:47.647Z"
   },
   {
    "duration": 2,
    "start_time": "2023-05-03T08:14:01.602Z"
   },
   {
    "duration": 76,
    "start_time": "2023-05-03T08:14:03.503Z"
   },
   {
    "duration": 2,
    "start_time": "2023-05-03T08:14:45.940Z"
   },
   {
    "duration": 26,
    "start_time": "2023-05-03T08:14:48.180Z"
   },
   {
    "duration": 2,
    "start_time": "2023-05-03T08:16:22.956Z"
   },
   {
    "duration": 73,
    "start_time": "2023-05-03T08:16:24.497Z"
   },
   {
    "duration": 3,
    "start_time": "2023-05-03T08:16:41.818Z"
   },
   {
    "duration": 15,
    "start_time": "2023-05-03T08:16:42.827Z"
   },
   {
    "duration": 3,
    "start_time": "2023-05-03T08:17:08.805Z"
   },
   {
    "duration": 16,
    "start_time": "2023-05-03T08:17:10.660Z"
   },
   {
    "duration": 2,
    "start_time": "2023-05-03T08:18:30.940Z"
   },
   {
    "duration": 18,
    "start_time": "2023-05-03T08:18:32.429Z"
   },
   {
    "duration": 3,
    "start_time": "2023-05-03T08:20:00.271Z"
   },
   {
    "duration": 94,
    "start_time": "2023-05-03T08:20:01.629Z"
   },
   {
    "duration": 3,
    "start_time": "2023-05-03T08:20:16.807Z"
   },
   {
    "duration": 15,
    "start_time": "2023-05-03T08:20:17.665Z"
   },
   {
    "duration": 3,
    "start_time": "2023-05-03T08:20:46.546Z"
   },
   {
    "duration": 14,
    "start_time": "2023-05-03T08:20:47.550Z"
   },
   {
    "duration": 14,
    "start_time": "2023-05-03T08:20:52.999Z"
   },
   {
    "duration": 2,
    "start_time": "2023-05-03T08:21:40.330Z"
   },
   {
    "duration": 68,
    "start_time": "2023-05-03T08:21:42.759Z"
   },
   {
    "duration": 2,
    "start_time": "2023-05-03T08:22:08.520Z"
   },
   {
    "duration": 11,
    "start_time": "2023-05-03T08:22:09.729Z"
   },
   {
    "duration": 2,
    "start_time": "2023-05-03T08:25:27.575Z"
   },
   {
    "duration": 13,
    "start_time": "2023-05-03T08:25:29.406Z"
   },
   {
    "duration": 2,
    "start_time": "2023-05-03T08:36:35.310Z"
   },
   {
    "duration": 58,
    "start_time": "2023-05-03T08:36:38.471Z"
   },
   {
    "duration": 3,
    "start_time": "2023-05-03T08:36:45.221Z"
   },
   {
    "duration": 67,
    "start_time": "2023-05-03T08:36:47.991Z"
   },
   {
    "duration": 2,
    "start_time": "2023-05-03T08:37:17.161Z"
   },
   {
    "duration": 11,
    "start_time": "2023-05-03T08:37:18.494Z"
   },
   {
    "duration": 2,
    "start_time": "2023-05-03T08:37:52.956Z"
   },
   {
    "duration": 11,
    "start_time": "2023-05-03T08:37:55.448Z"
   },
   {
    "duration": 2,
    "start_time": "2023-05-03T08:39:45.120Z"
   },
   {
    "duration": 11,
    "start_time": "2023-05-03T08:39:46.059Z"
   },
   {
    "duration": 13,
    "start_time": "2023-05-03T08:39:53.740Z"
   },
   {
    "duration": 2,
    "start_time": "2023-05-03T08:39:58.400Z"
   },
   {
    "duration": 14,
    "start_time": "2023-05-03T08:39:59.210Z"
   },
   {
    "duration": 2,
    "start_time": "2023-05-03T08:47:56.875Z"
   },
   {
    "duration": 91,
    "start_time": "2023-05-03T08:47:57.709Z"
   },
   {
    "duration": 2,
    "start_time": "2023-05-03T08:48:08.116Z"
   },
   {
    "duration": 108,
    "start_time": "2023-05-03T08:48:08.820Z"
   },
   {
    "duration": 2,
    "start_time": "2023-05-03T08:48:16.557Z"
   },
   {
    "duration": 67,
    "start_time": "2023-05-03T08:48:17.315Z"
   },
   {
    "duration": 2,
    "start_time": "2023-05-03T08:48:24.602Z"
   },
   {
    "duration": 76,
    "start_time": "2023-05-03T08:48:25.360Z"
   },
   {
    "duration": 2,
    "start_time": "2023-05-03T08:48:50.261Z"
   },
   {
    "duration": 69,
    "start_time": "2023-05-03T08:48:51.028Z"
   },
   {
    "duration": 2,
    "start_time": "2023-05-03T08:49:03.073Z"
   },
   {
    "duration": 25,
    "start_time": "2023-05-03T08:49:04.037Z"
   },
   {
    "duration": 3,
    "start_time": "2023-05-03T08:49:17.099Z"
   },
   {
    "duration": 20,
    "start_time": "2023-05-03T08:49:17.990Z"
   },
   {
    "duration": 3,
    "start_time": "2023-05-03T08:49:51.719Z"
   },
   {
    "duration": 92,
    "start_time": "2023-05-03T08:49:54.055Z"
   },
   {
    "duration": 2,
    "start_time": "2023-05-03T08:50:03.564Z"
   },
   {
    "duration": 64,
    "start_time": "2023-05-03T08:50:04.265Z"
   },
   {
    "duration": 2,
    "start_time": "2023-05-03T08:50:15.283Z"
   },
   {
    "duration": 21,
    "start_time": "2023-05-03T08:50:16.256Z"
   },
   {
    "duration": 2,
    "start_time": "2023-05-03T08:52:37.749Z"
   },
   {
    "duration": 66,
    "start_time": "2023-05-03T08:52:38.654Z"
   },
   {
    "duration": 3,
    "start_time": "2023-05-03T08:52:54.501Z"
   },
   {
    "duration": 73,
    "start_time": "2023-05-03T08:52:55.722Z"
   },
   {
    "duration": 2,
    "start_time": "2023-05-03T08:53:00.491Z"
   },
   {
    "duration": 13,
    "start_time": "2023-05-03T08:53:01.131Z"
   },
   {
    "duration": 2,
    "start_time": "2023-05-03T08:53:51.928Z"
   },
   {
    "duration": 20,
    "start_time": "2023-05-03T08:53:52.593Z"
   },
   {
    "duration": 2,
    "start_time": "2023-05-03T08:56:57.739Z"
   },
   {
    "duration": 78,
    "start_time": "2023-05-03T08:56:58.482Z"
   },
   {
    "duration": 2,
    "start_time": "2023-05-03T08:57:11.134Z"
   },
   {
    "duration": 20,
    "start_time": "2023-05-03T08:57:11.957Z"
   },
   {
    "duration": 3,
    "start_time": "2023-05-03T08:59:51.873Z"
   },
   {
    "duration": 22,
    "start_time": "2023-05-03T08:59:52.935Z"
   },
   {
    "duration": 2,
    "start_time": "2023-05-03T09:00:07.415Z"
   },
   {
    "duration": 22,
    "start_time": "2023-05-03T09:00:08.553Z"
   },
   {
    "duration": 2,
    "start_time": "2023-05-03T09:00:40.580Z"
   },
   {
    "duration": 24,
    "start_time": "2023-05-03T09:00:41.391Z"
   },
   {
    "duration": 3,
    "start_time": "2023-05-03T09:01:07.388Z"
   },
   {
    "duration": 19,
    "start_time": "2023-05-03T09:01:08.546Z"
   },
   {
    "duration": 2,
    "start_time": "2023-05-03T09:01:28.618Z"
   },
   {
    "duration": 19,
    "start_time": "2023-05-03T09:01:29.672Z"
   },
   {
    "duration": 3,
    "start_time": "2023-05-03T09:02:19.034Z"
   },
   {
    "duration": 18,
    "start_time": "2023-05-03T09:02:19.733Z"
   },
   {
    "duration": 16,
    "start_time": "2023-05-03T09:04:07.087Z"
   },
   {
    "duration": 15,
    "start_time": "2023-05-03T09:04:20.254Z"
   },
   {
    "duration": 7,
    "start_time": "2023-05-03T09:47:31.817Z"
   },
   {
    "duration": 2,
    "start_time": "2023-05-03T09:47:33.523Z"
   },
   {
    "duration": 40,
    "start_time": "2023-05-03T09:47:34.295Z"
   },
   {
    "duration": 14,
    "start_time": "2023-05-03T09:47:34.892Z"
   },
   {
    "duration": 28,
    "start_time": "2023-05-03T09:48:47.902Z"
   },
   {
    "duration": 22,
    "start_time": "2023-05-03T09:56:41.031Z"
   },
   {
    "duration": 25,
    "start_time": "2023-05-03T09:56:42.806Z"
   },
   {
    "duration": 47,
    "start_time": "2023-05-03T10:15:28.315Z"
   },
   {
    "duration": 3,
    "start_time": "2023-05-03T10:17:23.189Z"
   },
   {
    "duration": 3,
    "start_time": "2023-05-03T10:18:40.690Z"
   },
   {
    "duration": 32,
    "start_time": "2023-05-03T10:18:41.678Z"
   },
   {
    "duration": 5543,
    "start_time": "2023-05-03T10:33:51.797Z"
   },
   {
    "duration": 3,
    "start_time": "2023-05-03T10:33:57.342Z"
   },
   {
    "duration": 65,
    "start_time": "2023-05-03T10:33:57.346Z"
   },
   {
    "duration": 35,
    "start_time": "2023-05-03T10:33:57.413Z"
   },
   {
    "duration": 3,
    "start_time": "2023-05-03T10:33:57.449Z"
   },
   {
    "duration": 13,
    "start_time": "2023-05-03T10:33:57.453Z"
   },
   {
    "duration": 3,
    "start_time": "2023-05-03T10:33:57.467Z"
   },
   {
    "duration": 31,
    "start_time": "2023-05-03T10:33:57.472Z"
   },
   {
    "duration": 2,
    "start_time": "2023-05-03T10:33:57.505Z"
   },
   {
    "duration": 12,
    "start_time": "2023-05-03T10:33:57.509Z"
   },
   {
    "duration": 2,
    "start_time": "2023-05-03T10:33:57.523Z"
   },
   {
    "duration": 20,
    "start_time": "2023-05-03T10:33:57.527Z"
   },
   {
    "duration": 3,
    "start_time": "2023-05-03T10:33:57.548Z"
   },
   {
    "duration": 19,
    "start_time": "2023-05-03T10:33:57.552Z"
   },
   {
    "duration": 12663,
    "start_time": "2023-05-03T13:20:21.707Z"
   },
   {
    "duration": 3,
    "start_time": "2023-05-03T13:20:34.372Z"
   },
   {
    "duration": 68,
    "start_time": "2023-05-03T13:20:34.377Z"
   },
   {
    "duration": 31,
    "start_time": "2023-05-03T13:20:34.446Z"
   },
   {
    "duration": 2,
    "start_time": "2023-05-03T13:20:34.479Z"
   },
   {
    "duration": 12,
    "start_time": "2023-05-03T13:20:34.482Z"
   },
   {
    "duration": 3,
    "start_time": "2023-05-03T13:20:34.495Z"
   },
   {
    "duration": 29,
    "start_time": "2023-05-03T13:20:34.499Z"
   },
   {
    "duration": 2,
    "start_time": "2023-05-03T13:20:34.529Z"
   },
   {
    "duration": 27,
    "start_time": "2023-05-03T13:20:34.533Z"
   },
   {
    "duration": 3,
    "start_time": "2023-05-03T13:20:34.561Z"
   },
   {
    "duration": 26,
    "start_time": "2023-05-03T13:20:34.566Z"
   },
   {
    "duration": 2,
    "start_time": "2023-05-03T13:20:34.594Z"
   },
   {
    "duration": 18,
    "start_time": "2023-05-03T13:20:34.598Z"
   },
   {
    "duration": 5669,
    "start_time": "2023-05-03T14:19:49.321Z"
   },
   {
    "duration": 3,
    "start_time": "2023-05-03T14:19:54.993Z"
   },
   {
    "duration": 68,
    "start_time": "2023-05-03T14:19:54.998Z"
   },
   {
    "duration": 34,
    "start_time": "2023-05-03T14:19:55.068Z"
   },
   {
    "duration": 3,
    "start_time": "2023-05-03T14:19:55.104Z"
   },
   {
    "duration": 26,
    "start_time": "2023-05-03T14:19:55.109Z"
   },
   {
    "duration": 3,
    "start_time": "2023-05-03T14:19:55.137Z"
   },
   {
    "duration": 48,
    "start_time": "2023-05-03T14:19:55.141Z"
   },
   {
    "duration": 3,
    "start_time": "2023-05-03T14:19:55.190Z"
   },
   {
    "duration": 44,
    "start_time": "2023-05-03T14:19:55.195Z"
   },
   {
    "duration": 2,
    "start_time": "2023-05-03T14:19:55.241Z"
   },
   {
    "duration": 27,
    "start_time": "2023-05-03T14:19:55.245Z"
   },
   {
    "duration": 2,
    "start_time": "2023-05-03T14:19:55.274Z"
   },
   {
    "duration": 42,
    "start_time": "2023-05-03T14:19:55.278Z"
   },
   {
    "duration": 11,
    "start_time": "2023-05-03T14:22:43.619Z"
   },
   {
    "duration": 22,
    "start_time": "2023-05-03T14:23:28.860Z"
   },
   {
    "duration": 15,
    "start_time": "2023-05-03T14:46:44.413Z"
   },
   {
    "duration": 3,
    "start_time": "2023-05-03T14:51:32.548Z"
   },
   {
    "duration": 35,
    "start_time": "2023-05-03T14:51:33.562Z"
   },
   {
    "duration": 5643,
    "start_time": "2023-05-03T17:11:19.928Z"
   },
   {
    "duration": 3,
    "start_time": "2023-05-03T17:11:25.573Z"
   },
   {
    "duration": 82,
    "start_time": "2023-05-03T17:11:25.578Z"
   },
   {
    "duration": 32,
    "start_time": "2023-05-03T17:11:25.662Z"
   },
   {
    "duration": 3,
    "start_time": "2023-05-03T17:11:25.695Z"
   },
   {
    "duration": 34,
    "start_time": "2023-05-03T17:11:25.699Z"
   },
   {
    "duration": 12,
    "start_time": "2023-05-03T17:11:25.734Z"
   },
   {
    "duration": 40,
    "start_time": "2023-05-03T17:11:25.748Z"
   },
   {
    "duration": 2,
    "start_time": "2023-05-03T17:11:25.790Z"
   },
   {
    "duration": 17,
    "start_time": "2023-05-03T17:11:25.794Z"
   },
   {
    "duration": 3,
    "start_time": "2023-05-03T17:11:25.812Z"
   },
   {
    "duration": 47,
    "start_time": "2023-05-03T17:11:25.816Z"
   },
   {
    "duration": 0,
    "start_time": "2023-05-03T17:11:25.865Z"
   },
   {
    "duration": 0,
    "start_time": "2023-05-03T17:11:25.867Z"
   },
   {
    "duration": 0,
    "start_time": "2023-05-03T17:11:25.868Z"
   },
   {
    "duration": 0,
    "start_time": "2023-05-03T17:11:25.870Z"
   },
   {
    "duration": 20,
    "start_time": "2023-05-03T17:14:22.664Z"
   },
   {
    "duration": 136,
    "start_time": "2023-05-03T17:18:16.725Z"
   },
   {
    "duration": 3,
    "start_time": "2023-05-03T17:21:49.115Z"
   },
   {
    "duration": 76,
    "start_time": "2023-05-03T17:21:51.912Z"
   },
   {
    "duration": 3,
    "start_time": "2023-05-03T17:24:10.147Z"
   },
   {
    "duration": 70,
    "start_time": "2023-05-03T17:24:13.956Z"
   },
   {
    "duration": 3,
    "start_time": "2023-05-03T17:25:22.048Z"
   },
   {
    "duration": 62,
    "start_time": "2023-05-03T17:25:24.878Z"
   },
   {
    "duration": 2,
    "start_time": "2023-05-03T17:25:39.260Z"
   },
   {
    "duration": 69,
    "start_time": "2023-05-03T17:25:42.170Z"
   },
   {
    "duration": 3,
    "start_time": "2023-05-03T17:32:59.528Z"
   },
   {
    "duration": 101,
    "start_time": "2023-05-03T17:33:02.639Z"
   },
   {
    "duration": 3,
    "start_time": "2023-05-03T17:33:32.463Z"
   },
   {
    "duration": 82,
    "start_time": "2023-05-03T17:33:34.692Z"
   },
   {
    "duration": 3,
    "start_time": "2023-05-03T17:34:41.232Z"
   },
   {
    "duration": 64,
    "start_time": "2023-05-03T17:34:44.353Z"
   },
   {
    "duration": 3,
    "start_time": "2023-05-03T17:35:50.857Z"
   },
   {
    "duration": 78,
    "start_time": "2023-05-03T17:35:52.903Z"
   },
   {
    "duration": 3,
    "start_time": "2023-05-03T17:45:25.301Z"
   },
   {
    "duration": 85,
    "start_time": "2023-05-03T17:45:27.721Z"
   },
   {
    "duration": 3,
    "start_time": "2023-05-03T17:48:51.034Z"
   },
   {
    "duration": 83,
    "start_time": "2023-05-03T17:48:55.331Z"
   },
   {
    "duration": 4,
    "start_time": "2023-05-03T17:49:16.729Z"
   },
   {
    "duration": 66,
    "start_time": "2023-05-03T17:49:18.531Z"
   },
   {
    "duration": 3,
    "start_time": "2023-05-03T17:53:48.243Z"
   },
   {
    "duration": 15,
    "start_time": "2023-05-03T17:53:50.215Z"
   },
   {
    "duration": 3,
    "start_time": "2023-05-03T18:02:32.868Z"
   },
   {
    "duration": 14,
    "start_time": "2023-05-03T18:02:35.227Z"
   },
   {
    "duration": 3,
    "start_time": "2023-05-03T18:09:29.514Z"
   },
   {
    "duration": 80,
    "start_time": "2023-05-03T18:09:31.530Z"
   },
   {
    "duration": 2,
    "start_time": "2023-05-03T18:10:16.745Z"
   },
   {
    "duration": 17,
    "start_time": "2023-05-03T18:10:25.305Z"
   },
   {
    "duration": 3,
    "start_time": "2023-05-03T18:10:41.507Z"
   },
   {
    "duration": 15,
    "start_time": "2023-05-03T18:10:55.204Z"
   },
   {
    "duration": 8,
    "start_time": "2023-05-03T18:19:17.713Z"
   },
   {
    "duration": 2,
    "start_time": "2023-05-03T18:19:20.922Z"
   },
   {
    "duration": 19,
    "start_time": "2023-05-03T18:19:23.302Z"
   },
   {
    "duration": 3,
    "start_time": "2023-05-03T18:19:33.410Z"
   },
   {
    "duration": 71,
    "start_time": "2023-05-03T18:19:34.783Z"
   },
   {
    "duration": 2,
    "start_time": "2023-05-03T18:24:13.874Z"
   },
   {
    "duration": 15,
    "start_time": "2023-05-03T18:24:15.197Z"
   },
   {
    "duration": 3,
    "start_time": "2023-05-03T18:40:23.889Z"
   },
   {
    "duration": 76,
    "start_time": "2023-05-03T18:40:25.757Z"
   },
   {
    "duration": 3,
    "start_time": "2023-05-03T18:40:43.348Z"
   },
   {
    "duration": 70,
    "start_time": "2023-05-03T18:40:44.493Z"
   },
   {
    "duration": 2,
    "start_time": "2023-05-03T18:41:13.396Z"
   },
   {
    "duration": 88,
    "start_time": "2023-05-03T18:41:14.708Z"
   },
   {
    "duration": 3,
    "start_time": "2023-05-03T18:42:18.690Z"
   },
   {
    "duration": 81,
    "start_time": "2023-05-03T18:42:21.365Z"
   },
   {
    "duration": 3,
    "start_time": "2023-05-03T18:42:59.232Z"
   },
   {
    "duration": 74,
    "start_time": "2023-05-03T18:43:00.171Z"
   },
   {
    "duration": 2,
    "start_time": "2023-05-03T18:43:17.489Z"
   },
   {
    "duration": 73,
    "start_time": "2023-05-03T18:43:18.595Z"
   },
   {
    "duration": 3,
    "start_time": "2023-05-03T18:44:29.563Z"
   },
   {
    "duration": 11,
    "start_time": "2023-05-03T18:44:31.211Z"
   },
   {
    "duration": 3,
    "start_time": "2023-05-03T18:45:06.858Z"
   },
   {
    "duration": 13,
    "start_time": "2023-05-03T18:45:08.024Z"
   },
   {
    "duration": 14,
    "start_time": "2023-05-03T18:47:30.673Z"
   },
   {
    "duration": 2,
    "start_time": "2023-05-03T18:52:20.771Z"
   },
   {
    "duration": 13,
    "start_time": "2023-05-03T18:52:23.994Z"
   },
   {
    "duration": 2,
    "start_time": "2023-05-03T18:52:36.727Z"
   },
   {
    "duration": 14,
    "start_time": "2023-05-03T18:52:38.285Z"
   },
   {
    "duration": 65,
    "start_time": "2023-05-03T18:53:56.316Z"
   },
   {
    "duration": 11,
    "start_time": "2023-05-03T18:54:08.854Z"
   },
   {
    "duration": 13,
    "start_time": "2023-05-03T18:54:20.340Z"
   },
   {
    "duration": 15,
    "start_time": "2023-05-03T18:56:15.743Z"
   },
   {
    "duration": 14,
    "start_time": "2023-05-03T18:56:33.933Z"
   },
   {
    "duration": 67,
    "start_time": "2023-05-03T19:04:48.635Z"
   },
   {
    "duration": 66,
    "start_time": "2023-05-03T19:06:07.427Z"
   },
   {
    "duration": 20,
    "start_time": "2023-05-03T19:06:21.732Z"
   },
   {
    "duration": 16,
    "start_time": "2023-05-03T19:10:21.662Z"
   },
   {
    "duration": 3,
    "start_time": "2023-05-03T19:10:54.826Z"
   },
   {
    "duration": 12,
    "start_time": "2023-05-03T19:10:57.923Z"
   },
   {
    "duration": 4,
    "start_time": "2023-05-03T19:12:18.383Z"
   },
   {
    "duration": 12,
    "start_time": "2023-05-03T19:12:22.184Z"
   },
   {
    "duration": 3,
    "start_time": "2023-05-03T19:13:49.396Z"
   },
   {
    "duration": 16,
    "start_time": "2023-05-03T19:13:52.299Z"
   },
   {
    "duration": 3,
    "start_time": "2023-05-03T19:13:58.836Z"
   },
   {
    "duration": 14,
    "start_time": "2023-05-03T19:14:01.414Z"
   },
   {
    "duration": 17,
    "start_time": "2023-05-03T19:16:01.761Z"
   },
   {
    "duration": 78,
    "start_time": "2023-05-03T19:18:21.826Z"
   },
   {
    "duration": 19,
    "start_time": "2023-05-03T19:21:21.182Z"
   },
   {
    "duration": 76,
    "start_time": "2023-05-03T19:22:20.111Z"
   },
   {
    "duration": 16,
    "start_time": "2023-05-03T19:22:35.217Z"
   },
   {
    "duration": 3,
    "start_time": "2023-05-03T19:23:46.607Z"
   },
   {
    "duration": 12,
    "start_time": "2023-05-03T19:23:49.684Z"
   },
   {
    "duration": 3,
    "start_time": "2023-05-03T19:24:06.098Z"
   },
   {
    "duration": 18,
    "start_time": "2023-05-03T19:24:08.223Z"
   },
   {
    "duration": 6488,
    "start_time": "2023-05-03T19:25:46.832Z"
   },
   {
    "duration": 3,
    "start_time": "2023-05-03T19:25:53.323Z"
   },
   {
    "duration": 117,
    "start_time": "2023-05-03T19:25:53.328Z"
   },
   {
    "duration": 59,
    "start_time": "2023-05-03T19:25:53.447Z"
   },
   {
    "duration": 3,
    "start_time": "2023-05-03T19:25:53.509Z"
   },
   {
    "duration": 25,
    "start_time": "2023-05-03T19:25:53.516Z"
   },
   {
    "duration": 29,
    "start_time": "2023-05-03T19:25:53.543Z"
   },
   {
    "duration": 52,
    "start_time": "2023-05-03T19:25:53.576Z"
   },
   {
    "duration": 3,
    "start_time": "2023-05-03T19:25:53.631Z"
   },
   {
    "duration": 28,
    "start_time": "2023-05-03T19:25:53.635Z"
   },
   {
    "duration": 8,
    "start_time": "2023-05-03T19:25:53.670Z"
   },
   {
    "duration": 47,
    "start_time": "2023-05-03T19:25:53.679Z"
   },
   {
    "duration": 17,
    "start_time": "2023-05-03T19:25:53.728Z"
   },
   {
    "duration": 4,
    "start_time": "2023-05-03T19:25:53.747Z"
   },
   {
    "duration": 38,
    "start_time": "2023-05-03T19:25:53.752Z"
   },
   {
    "duration": 16526,
    "start_time": "2023-05-04T14:37:51.101Z"
   },
   {
    "duration": 2,
    "start_time": "2023-05-04T14:38:07.629Z"
   },
   {
    "duration": 500,
    "start_time": "2023-05-04T14:38:07.633Z"
   },
   {
    "duration": 35,
    "start_time": "2023-05-04T14:38:08.135Z"
   },
   {
    "duration": 6,
    "start_time": "2023-05-04T14:38:08.172Z"
   },
   {
    "duration": 76,
    "start_time": "2023-05-04T14:38:08.179Z"
   },
   {
    "duration": 3,
    "start_time": "2023-05-04T14:38:08.257Z"
   },
   {
    "duration": 140,
    "start_time": "2023-05-04T14:38:08.263Z"
   },
   {
    "duration": 3,
    "start_time": "2023-05-04T14:38:08.404Z"
   },
   {
    "duration": 90,
    "start_time": "2023-05-04T14:38:08.410Z"
   },
   {
    "duration": 3,
    "start_time": "2023-05-04T14:38:08.502Z"
   },
   {
    "duration": 121,
    "start_time": "2023-05-04T14:38:08.507Z"
   },
   {
    "duration": 76,
    "start_time": "2023-05-04T14:38:08.630Z"
   },
   {
    "duration": 3,
    "start_time": "2023-05-04T14:38:08.708Z"
   },
   {
    "duration": 94,
    "start_time": "2023-05-04T14:38:08.713Z"
   }
  ],
  "kernelspec": {
   "display_name": "Python 3 (ipykernel)",
   "language": "python",
   "name": "python3"
  },
  "language_info": {
   "codemirror_mode": {
    "name": "ipython",
    "version": 3
   },
   "file_extension": ".py",
   "mimetype": "text/x-python",
   "name": "python",
   "nbconvert_exporter": "python",
   "pygments_lexer": "ipython3",
   "version": "3.9.13"
  },
  "toc": {
   "base_numbering": 1,
   "nav_menu": {},
   "number_sections": true,
   "sideBar": true,
   "skip_h1_title": true,
   "title_cell": "Table of Contents",
   "title_sidebar": "Contents",
   "toc_cell": false,
   "toc_position": {},
   "toc_section_display": true,
   "toc_window_display": false
  }
 },
 "nbformat": 4,
 "nbformat_minor": 2
}
